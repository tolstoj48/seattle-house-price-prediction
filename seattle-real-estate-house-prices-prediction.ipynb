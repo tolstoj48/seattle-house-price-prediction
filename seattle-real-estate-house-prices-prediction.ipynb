{
 "cells": [
  {
   "cell_type": "markdown",
   "id": "05b015f8-cd86-4a88-93e8-cbeabf5763d4",
   "metadata": {},
   "source": [
    "# TO DO: split the data into training and testing samples"
   ]
  },
  {
   "cell_type": "markdown",
   "id": "cfc447d7-dbd2-42d2-a038-e50e3bf728cd",
   "metadata": {},
   "source": [
    "### First, joing the test and train data into one, to split them and train the coding"
   ]
  },
  {
   "cell_type": "code",
   "execution_count": 1,
   "id": "3c8debc2-2e31-4fe1-b286-23a4bbde6870",
   "metadata": {},
   "outputs": [],
   "source": [
    "import pandas as pd\n",
    "import seaborn as sns\n",
    "import matplotlib.pyplot as plt\n",
    "from sklearn.linear_model import LinearRegression"
   ]
  },
  {
   "cell_type": "code",
   "execution_count": 2,
   "id": "5f874468-d5f6-4f7d-add8-cb2194c20054",
   "metadata": {},
   "outputs": [],
   "source": [
    "data_train = pd.read_csv(\"./data/train.csv\")\n",
    "data_test = pd.read_csv(\"./data/test.csv\")"
   ]
  },
  {
   "cell_type": "code",
   "execution_count": 3,
   "id": "4fc1863a-e7a8-4226-9d14-a5a31d7d0c5e",
   "metadata": {},
   "outputs": [
    {
     "name": "stdout",
     "output_type": "stream",
     "text": [
      "<class 'pandas.core.frame.DataFrame'>\n",
      "RangeIndex: 2016 entries, 0 to 2015\n",
      "Data columns (total 8 columns):\n",
      " #   Column          Non-Null Count  Dtype  \n",
      "---  ------          --------------  -----  \n",
      " 0   beds            2016 non-null   int64  \n",
      " 1   baths           2016 non-null   float64\n",
      " 2   size            2016 non-null   float64\n",
      " 3   size_units      2016 non-null   object \n",
      " 4   lot_size        1669 non-null   float64\n",
      " 5   lot_size_units  1669 non-null   object \n",
      " 6   zip_code        2016 non-null   int64  \n",
      " 7   price           2016 non-null   float64\n",
      "dtypes: float64(4), int64(2), object(2)\n",
      "memory usage: 126.1+ KB\n"
     ]
    }
   ],
   "source": [
    "data_train.info()"
   ]
  },
  {
   "cell_type": "code",
   "execution_count": 4,
   "id": "8f1d71ef-ee76-4450-a94b-b15da03e5b43",
   "metadata": {},
   "outputs": [
    {
     "name": "stdout",
     "output_type": "stream",
     "text": [
      "<class 'pandas.core.frame.DataFrame'>\n",
      "RangeIndex: 505 entries, 0 to 504\n",
      "Data columns (total 8 columns):\n",
      " #   Column          Non-Null Count  Dtype  \n",
      "---  ------          --------------  -----  \n",
      " 0   beds            505 non-null    int64  \n",
      " 1   baths           505 non-null    float64\n",
      " 2   size            505 non-null    float64\n",
      " 3   size_units      505 non-null    object \n",
      " 4   lot_size        428 non-null    float64\n",
      " 5   lot_size_units  428 non-null    object \n",
      " 6   zip_code        505 non-null    int64  \n",
      " 7   price           505 non-null    float64\n",
      "dtypes: float64(4), int64(2), object(2)\n",
      "memory usage: 31.7+ KB\n"
     ]
    }
   ],
   "source": [
    "data_test.info()"
   ]
  },
  {
   "cell_type": "code",
   "execution_count": 5,
   "id": "b99121b9-d68f-4264-a69b-7a4974d46e91",
   "metadata": {},
   "outputs": [
    {
     "data": {
      "text/plain": [
       "array([ True,  True,  True,  True,  True,  True,  True,  True])"
      ]
     },
     "execution_count": 5,
     "metadata": {},
     "output_type": "execute_result"
    }
   ],
   "source": [
    "data_train.columns == data_test.columns"
   ]
  },
  {
   "cell_type": "code",
   "execution_count": 6,
   "id": "36120882-6296-4169-8f67-a0d384ae81f0",
   "metadata": {},
   "outputs": [],
   "source": [
    "union_df = pd.concat([data_train, data_test], ignore_index=True, sort=False)"
   ]
  },
  {
   "cell_type": "code",
   "execution_count": 7,
   "id": "f47e736e-0b10-4601-85f9-506152ec9527",
   "metadata": {},
   "outputs": [
    {
     "name": "stdout",
     "output_type": "stream",
     "text": [
      "<class 'pandas.core.frame.DataFrame'>\n",
      "RangeIndex: 2521 entries, 0 to 2520\n",
      "Data columns (total 8 columns):\n",
      " #   Column          Non-Null Count  Dtype  \n",
      "---  ------          --------------  -----  \n",
      " 0   beds            2521 non-null   int64  \n",
      " 1   baths           2521 non-null   float64\n",
      " 2   size            2521 non-null   float64\n",
      " 3   size_units      2521 non-null   object \n",
      " 4   lot_size        2097 non-null   float64\n",
      " 5   lot_size_units  2097 non-null   object \n",
      " 6   zip_code        2521 non-null   int64  \n",
      " 7   price           2521 non-null   float64\n",
      "dtypes: float64(4), int64(2), object(2)\n",
      "memory usage: 157.7+ KB\n"
     ]
    }
   ],
   "source": [
    "union_df.info()"
   ]
  },
  {
   "cell_type": "code",
   "execution_count": 8,
   "id": "180397bb-01bb-48c4-aa97-8cba21d4997e",
   "metadata": {},
   "outputs": [
    {
     "data": {
      "text/html": [
       "<div>\n",
       "<style scoped>\n",
       "    .dataframe tbody tr th:only-of-type {\n",
       "        vertical-align: middle;\n",
       "    }\n",
       "\n",
       "    .dataframe tbody tr th {\n",
       "        vertical-align: top;\n",
       "    }\n",
       "\n",
       "    .dataframe thead th {\n",
       "        text-align: right;\n",
       "    }\n",
       "</style>\n",
       "<table border=\"1\" class=\"dataframe\">\n",
       "  <thead>\n",
       "    <tr style=\"text-align: right;\">\n",
       "      <th></th>\n",
       "      <th>beds</th>\n",
       "      <th>baths</th>\n",
       "      <th>size</th>\n",
       "      <th>size_units</th>\n",
       "      <th>lot_size</th>\n",
       "      <th>lot_size_units</th>\n",
       "      <th>zip_code</th>\n",
       "      <th>price</th>\n",
       "    </tr>\n",
       "  </thead>\n",
       "  <tbody>\n",
       "    <tr>\n",
       "      <th>0</th>\n",
       "      <td>3</td>\n",
       "      <td>2.5</td>\n",
       "      <td>2590.0</td>\n",
       "      <td>sqft</td>\n",
       "      <td>6000.00</td>\n",
       "      <td>sqft</td>\n",
       "      <td>98144</td>\n",
       "      <td>795000.0</td>\n",
       "    </tr>\n",
       "    <tr>\n",
       "      <th>1</th>\n",
       "      <td>4</td>\n",
       "      <td>2.0</td>\n",
       "      <td>2240.0</td>\n",
       "      <td>sqft</td>\n",
       "      <td>0.31</td>\n",
       "      <td>acre</td>\n",
       "      <td>98106</td>\n",
       "      <td>915000.0</td>\n",
       "    </tr>\n",
       "    <tr>\n",
       "      <th>2</th>\n",
       "      <td>4</td>\n",
       "      <td>3.0</td>\n",
       "      <td>2040.0</td>\n",
       "      <td>sqft</td>\n",
       "      <td>3783.00</td>\n",
       "      <td>sqft</td>\n",
       "      <td>98107</td>\n",
       "      <td>950000.0</td>\n",
       "    </tr>\n",
       "    <tr>\n",
       "      <th>3</th>\n",
       "      <td>4</td>\n",
       "      <td>3.0</td>\n",
       "      <td>3800.0</td>\n",
       "      <td>sqft</td>\n",
       "      <td>5175.00</td>\n",
       "      <td>sqft</td>\n",
       "      <td>98199</td>\n",
       "      <td>1950000.0</td>\n",
       "    </tr>\n",
       "    <tr>\n",
       "      <th>4</th>\n",
       "      <td>2</td>\n",
       "      <td>2.0</td>\n",
       "      <td>1042.0</td>\n",
       "      <td>sqft</td>\n",
       "      <td>NaN</td>\n",
       "      <td>NaN</td>\n",
       "      <td>98102</td>\n",
       "      <td>950000.0</td>\n",
       "    </tr>\n",
       "  </tbody>\n",
       "</table>\n",
       "</div>"
      ],
      "text/plain": [
       "   beds  baths    size size_units  lot_size lot_size_units  zip_code  \\\n",
       "0     3    2.5  2590.0       sqft   6000.00           sqft     98144   \n",
       "1     4    2.0  2240.0       sqft      0.31           acre     98106   \n",
       "2     4    3.0  2040.0       sqft   3783.00           sqft     98107   \n",
       "3     4    3.0  3800.0       sqft   5175.00           sqft     98199   \n",
       "4     2    2.0  1042.0       sqft       NaN            NaN     98102   \n",
       "\n",
       "       price  \n",
       "0   795000.0  \n",
       "1   915000.0  \n",
       "2   950000.0  \n",
       "3  1950000.0  \n",
       "4   950000.0  "
      ]
     },
     "execution_count": 8,
     "metadata": {},
     "output_type": "execute_result"
    }
   ],
   "source": [
    "union_df.head()"
   ]
  },
  {
   "cell_type": "code",
   "execution_count": 71,
   "id": "f45862a8-db5e-4386-af26-6d2125124ca1",
   "metadata": {},
   "outputs": [],
   "source": [
    "data = union_df.copy()"
   ]
  },
  {
   "cell_type": "code",
   "execution_count": 72,
   "id": "a994960f-a608-4390-9060-e52b3810e68a",
   "metadata": {},
   "outputs": [
    {
     "data": {
      "text/html": [
       "<div>\n",
       "<style scoped>\n",
       "    .dataframe tbody tr th:only-of-type {\n",
       "        vertical-align: middle;\n",
       "    }\n",
       "\n",
       "    .dataframe tbody tr th {\n",
       "        vertical-align: top;\n",
       "    }\n",
       "\n",
       "    .dataframe thead th {\n",
       "        text-align: right;\n",
       "    }\n",
       "</style>\n",
       "<table border=\"1\" class=\"dataframe\">\n",
       "  <thead>\n",
       "    <tr style=\"text-align: right;\">\n",
       "      <th></th>\n",
       "      <th>beds</th>\n",
       "      <th>baths</th>\n",
       "      <th>size</th>\n",
       "      <th>size_units</th>\n",
       "      <th>lot_size</th>\n",
       "      <th>lot_size_units</th>\n",
       "      <th>zip_code</th>\n",
       "      <th>price</th>\n",
       "    </tr>\n",
       "  </thead>\n",
       "  <tbody>\n",
       "    <tr>\n",
       "      <th>count</th>\n",
       "      <td>2521.000000</td>\n",
       "      <td>2521.000000</td>\n",
       "      <td>2521.000000</td>\n",
       "      <td>2521</td>\n",
       "      <td>2097.000000</td>\n",
       "      <td>2097</td>\n",
       "      <td>2521.000000</td>\n",
       "      <td>2.521000e+03</td>\n",
       "    </tr>\n",
       "    <tr>\n",
       "      <th>unique</th>\n",
       "      <td>NaN</td>\n",
       "      <td>NaN</td>\n",
       "      <td>NaN</td>\n",
       "      <td>1</td>\n",
       "      <td>NaN</td>\n",
       "      <td>2</td>\n",
       "      <td>NaN</td>\n",
       "      <td>NaN</td>\n",
       "    </tr>\n",
       "    <tr>\n",
       "      <th>top</th>\n",
       "      <td>NaN</td>\n",
       "      <td>NaN</td>\n",
       "      <td>NaN</td>\n",
       "      <td>sqft</td>\n",
       "      <td>NaN</td>\n",
       "      <td>sqft</td>\n",
       "      <td>NaN</td>\n",
       "      <td>NaN</td>\n",
       "    </tr>\n",
       "    <tr>\n",
       "      <th>freq</th>\n",
       "      <td>NaN</td>\n",
       "      <td>NaN</td>\n",
       "      <td>NaN</td>\n",
       "      <td>2521</td>\n",
       "      <td>NaN</td>\n",
       "      <td>1818</td>\n",
       "      <td>NaN</td>\n",
       "      <td>NaN</td>\n",
       "    </tr>\n",
       "    <tr>\n",
       "      <th>mean</th>\n",
       "      <td>2.877033</td>\n",
       "      <td>2.171956</td>\n",
       "      <td>1758.998017</td>\n",
       "      <td>NaN</td>\n",
       "      <td>3896.245794</td>\n",
       "      <td>NaN</td>\n",
       "      <td>98123.984927</td>\n",
       "      <td>9.668217e+05</td>\n",
       "    </tr>\n",
       "    <tr>\n",
       "      <th>std</th>\n",
       "      <td>1.247518</td>\n",
       "      <td>1.004397</td>\n",
       "      <td>921.608036</td>\n",
       "      <td>NaN</td>\n",
       "      <td>2714.651578</td>\n",
       "      <td>NaN</td>\n",
       "      <td>23.118736</td>\n",
       "      <td>8.870111e+05</td>\n",
       "    </tr>\n",
       "    <tr>\n",
       "      <th>min</th>\n",
       "      <td>1.000000</td>\n",
       "      <td>0.500000</td>\n",
       "      <td>250.000000</td>\n",
       "      <td>NaN</td>\n",
       "      <td>0.230000</td>\n",
       "      <td>NaN</td>\n",
       "      <td>98101.000000</td>\n",
       "      <td>1.590000e+05</td>\n",
       "    </tr>\n",
       "    <tr>\n",
       "      <th>25%</th>\n",
       "      <td>2.000000</td>\n",
       "      <td>1.500000</td>\n",
       "      <td>1086.000000</td>\n",
       "      <td>NaN</td>\n",
       "      <td>1263.000000</td>\n",
       "      <td>NaN</td>\n",
       "      <td>98108.000000</td>\n",
       "      <td>6.050000e+05</td>\n",
       "    </tr>\n",
       "    <tr>\n",
       "      <th>50%</th>\n",
       "      <td>3.000000</td>\n",
       "      <td>2.000000</td>\n",
       "      <td>1580.000000</td>\n",
       "      <td>NaN</td>\n",
       "      <td>4001.000000</td>\n",
       "      <td>NaN</td>\n",
       "      <td>98117.000000</td>\n",
       "      <td>8.130000e+05</td>\n",
       "    </tr>\n",
       "    <tr>\n",
       "      <th>75%</th>\n",
       "      <td>4.000000</td>\n",
       "      <td>2.500000</td>\n",
       "      <td>2270.000000</td>\n",
       "      <td>NaN</td>\n",
       "      <td>6000.000000</td>\n",
       "      <td>NaN</td>\n",
       "      <td>98126.000000</td>\n",
       "      <td>1.115000e+06</td>\n",
       "    </tr>\n",
       "    <tr>\n",
       "      <th>max</th>\n",
       "      <td>15.000000</td>\n",
       "      <td>9.000000</td>\n",
       "      <td>11010.000000</td>\n",
       "      <td>NaN</td>\n",
       "      <td>9998.000000</td>\n",
       "      <td>NaN</td>\n",
       "      <td>98199.000000</td>\n",
       "      <td>2.500000e+07</td>\n",
       "    </tr>\n",
       "  </tbody>\n",
       "</table>\n",
       "</div>"
      ],
      "text/plain": [
       "               beds        baths          size size_units     lot_size  \\\n",
       "count   2521.000000  2521.000000   2521.000000       2521  2097.000000   \n",
       "unique          NaN          NaN           NaN          1          NaN   \n",
       "top             NaN          NaN           NaN       sqft          NaN   \n",
       "freq            NaN          NaN           NaN       2521          NaN   \n",
       "mean       2.877033     2.171956   1758.998017        NaN  3896.245794   \n",
       "std        1.247518     1.004397    921.608036        NaN  2714.651578   \n",
       "min        1.000000     0.500000    250.000000        NaN     0.230000   \n",
       "25%        2.000000     1.500000   1086.000000        NaN  1263.000000   \n",
       "50%        3.000000     2.000000   1580.000000        NaN  4001.000000   \n",
       "75%        4.000000     2.500000   2270.000000        NaN  6000.000000   \n",
       "max       15.000000     9.000000  11010.000000        NaN  9998.000000   \n",
       "\n",
       "       lot_size_units      zip_code         price  \n",
       "count            2097   2521.000000  2.521000e+03  \n",
       "unique              2           NaN           NaN  \n",
       "top              sqft           NaN           NaN  \n",
       "freq             1818           NaN           NaN  \n",
       "mean              NaN  98123.984927  9.668217e+05  \n",
       "std               NaN     23.118736  8.870111e+05  \n",
       "min               NaN  98101.000000  1.590000e+05  \n",
       "25%               NaN  98108.000000  6.050000e+05  \n",
       "50%               NaN  98117.000000  8.130000e+05  \n",
       "75%               NaN  98126.000000  1.115000e+06  \n",
       "max               NaN  98199.000000  2.500000e+07  "
      ]
     },
     "execution_count": 72,
     "metadata": {},
     "output_type": "execute_result"
    }
   ],
   "source": [
    "data.describe(include=\"all\")"
   ]
  },
  {
   "cell_type": "code",
   "execution_count": 73,
   "id": "bff7bd65-0e43-46e5-8489-d3ea9b11bc73",
   "metadata": {},
   "outputs": [
    {
     "data": {
      "text/plain": [
       "size_units\n",
       "sqft    2521\n",
       "Name: count, dtype: int64"
      ]
     },
     "execution_count": 73,
     "metadata": {},
     "output_type": "execute_result"
    }
   ],
   "source": [
    "data[\"size_units\"].value_counts()"
   ]
  },
  {
   "cell_type": "code",
   "execution_count": 74,
   "id": "57da303a-1609-4ca7-bdbb-479dfb1871ce",
   "metadata": {},
   "outputs": [
    {
     "data": {
      "text/plain": [
       "lot_size_units\n",
       "sqft    1818\n",
       "acre     279\n",
       "Name: count, dtype: int64"
      ]
     },
     "execution_count": 74,
     "metadata": {},
     "output_type": "execute_result"
    }
   ],
   "source": [
    "data[\"lot_size_units\"].value_counts()"
   ]
  },
  {
   "cell_type": "code",
   "execution_count": 76,
   "id": "3babcb1b-715f-4425-90ac-bbe9b1116f5a",
   "metadata": {},
   "outputs": [
    {
     "data": {
      "text/plain": [
       "array([98144, 98106, 98107, 98199, 98102, 98133, 98105, 98108, 98178,\n",
       "       98103, 98177, 98115, 98122, 98119, 98117, 98116, 98146, 98109,\n",
       "       98125, 98101, 98126, 98118, 98112, 98121, 98136, 98168, 98104,\n",
       "       98164, 98188], dtype=int64)"
      ]
     },
     "execution_count": 76,
     "metadata": {},
     "output_type": "execute_result"
    }
   ],
   "source": [
    "data[\"zip_code\"].unique()"
   ]
  },
  {
   "cell_type": "markdown",
   "id": "00df3e89-ed51-4433-ad05-5138bcd5a099",
   "metadata": {},
   "source": [
    "##### I have to change the units to the same units, but first lets categorize zip codes accorgin to socioeconomic status and drop the columns not needed."
   ]
  },
  {
   "cell_type": "code",
   "execution_count": 160,
   "id": "58322667-4df2-4d5c-982c-cd291b54f739",
   "metadata": {},
   "outputs": [],
   "source": [
    "\"\"\"\n",
    "Done by copilot, which claims that it is based \n",
    "on median household income of the areas under the given zipcode.\n",
    "\"\"\"\n",
    "\n",
    "seattle_zip_categories = {\n",
    "\n",
    "   \"98144\": \"middle lower\",\n",
    "    \"98106\": \"middle lower\",\n",
    "    \"98107\": \"middle upper\",\n",
    "    \"98199\": \"affluent\",\n",
    "    \"98102\": \"middle upper\",\n",
    "    \"98133\": \"middle lower\",\n",
    "    \"98105\": \"middle lower\",\n",
    "    \"98108\": \"middle lower\",\n",
    "    \"98178\": \"middle lower\",\n",
    "    \"98103\": \"middle upper\",\n",
    "    \"98177\": \"affluent\",\n",
    "    \"98115\": \"middle upper\",\n",
    "    \"98122\": \"middle lower\",\n",
    "    \"98119\": \"middle upper\",\n",
    "    \"98117\": \"affluent\",\n",
    "    \"98116\": \"middle upper\",\n",
    "    \"98146\": \"middle lower\",\n",
    "    \"98109\": \"middle upper\",\n",
    "    \"98125\": \"middle lower\",\n",
    "    \"98101\": \"middle lower\",\n",
    "    \"98126\": \"middle lower\",\n",
    "    \"98118\": \"middle lower\",\n",
    "    \"98112\": \"affluent\",\n",
    "    \"98121\": \"affluent\",\n",
    "    \"98136\": \"affluent\",\n",
    "    \"98168\": \"lower\",\n",
    "    \"98104\": \"lower\",\n",
    "    \"98164\": \"affluent\",\n",
    "    \"98188\": \"lower\"\n",
    "\n",
    "}\n",
    "\n",
    "\"\"\"\n",
    "Done by Copilot:\n",
    "Core (0–2 miles): ZIPs immediately surrounding downtown.\n",
    "Inner Ring (2–5 miles): Neighborhoods like Capitol Hill, Queen Anne, Beacon Hill.\n",
    "Outer Ring (5–10 miles): Ballard, West Seattle, Northgate.\n",
    "Suburban (10+ miles): Shoreline, Renton, Bellevue (if included).\n",
    "\"\"\"\n",
    "\n",
    "distance_zip_categories = {\n",
    "    '98144': 'inner ring',\n",
    "    '98106': 'inner ring',\n",
    "    '98107': 'inner ring',\n",
    "    '98199': 'inner ring',\n",
    "    '98102': 'core',\n",
    "    '98133': 'outer ring',\n",
    "    '98105': 'inner ring',\n",
    "    '98108': 'inner ring',\n",
    "    '98178': 'outer ring',\n",
    "    '98103': 'inner ring',\n",
    "    '98177': 'outer ring',\n",
    "    '98115': 'outer ring',\n",
    "    '98122': 'core',\n",
    "    '98119': 'inner ring',\n",
    "    '98117': 'outer ring',\n",
    "    '98116': 'inner ring',\n",
    "    '98146': 'outer ring',\n",
    "    '98109': 'core',\n",
    "    '98125': 'outer ring',\n",
    "    '98101': 'core',\n",
    "    '98126': 'inner ring',\n",
    "    '98118': 'outer ring',\n",
    "    '98112': 'inner ring',\n",
    "    '98121': 'core',\n",
    "    '98136': 'outer ring',\n",
    "    '98168': 'outer ring',\n",
    "    '98104': 'core',\n",
    "    '98164': 'core',\n",
    "    '98188': 'suburban'\n",
    "}\n"
   ]
  },
  {
   "cell_type": "code",
   "execution_count": 83,
   "id": "94335421-7723-46bb-92a9-f2c261bd2998",
   "metadata": {},
   "outputs": [],
   "source": [
    "data[\"zip_code_category\"] = data.apply(lambda row: seattle_zip_categories.get(str(row[\"zip_code\"])), axis = 1)"
   ]
  },
  {
   "cell_type": "code",
   "execution_count": 79,
   "id": "3efb7dc7-1937-4475-8b8e-0b7b78527fa1",
   "metadata": {},
   "outputs": [],
   "source": [
    "data[\"distance_zip_category\"] = data.apply(lambda row: distance_zip_categories.get(str(row[\"zip_code\"])), axis = 1)"
   ]
  },
  {
   "cell_type": "code",
   "execution_count": 80,
   "id": "dd247365-7e16-48fa-a13f-3651ab45b722",
   "metadata": {},
   "outputs": [
    {
     "data": {
      "text/html": [
       "<div>\n",
       "<style scoped>\n",
       "    .dataframe tbody tr th:only-of-type {\n",
       "        vertical-align: middle;\n",
       "    }\n",
       "\n",
       "    .dataframe tbody tr th {\n",
       "        vertical-align: top;\n",
       "    }\n",
       "\n",
       "    .dataframe thead th {\n",
       "        text-align: right;\n",
       "    }\n",
       "</style>\n",
       "<table border=\"1\" class=\"dataframe\">\n",
       "  <thead>\n",
       "    <tr style=\"text-align: right;\">\n",
       "      <th></th>\n",
       "      <th>beds</th>\n",
       "      <th>baths</th>\n",
       "      <th>size</th>\n",
       "      <th>size_units</th>\n",
       "      <th>lot_size</th>\n",
       "      <th>lot_size_units</th>\n",
       "      <th>zip_code</th>\n",
       "      <th>price</th>\n",
       "      <th>distance_zip_category</th>\n",
       "    </tr>\n",
       "  </thead>\n",
       "  <tbody>\n",
       "    <tr>\n",
       "      <th>0</th>\n",
       "      <td>3</td>\n",
       "      <td>2.5</td>\n",
       "      <td>2590.0</td>\n",
       "      <td>sqft</td>\n",
       "      <td>6000.00</td>\n",
       "      <td>sqft</td>\n",
       "      <td>98144</td>\n",
       "      <td>795000.0</td>\n",
       "      <td>inner ring</td>\n",
       "    </tr>\n",
       "    <tr>\n",
       "      <th>1</th>\n",
       "      <td>4</td>\n",
       "      <td>2.0</td>\n",
       "      <td>2240.0</td>\n",
       "      <td>sqft</td>\n",
       "      <td>0.31</td>\n",
       "      <td>acre</td>\n",
       "      <td>98106</td>\n",
       "      <td>915000.0</td>\n",
       "      <td>inner ring</td>\n",
       "    </tr>\n",
       "    <tr>\n",
       "      <th>2</th>\n",
       "      <td>4</td>\n",
       "      <td>3.0</td>\n",
       "      <td>2040.0</td>\n",
       "      <td>sqft</td>\n",
       "      <td>3783.00</td>\n",
       "      <td>sqft</td>\n",
       "      <td>98107</td>\n",
       "      <td>950000.0</td>\n",
       "      <td>inner ring</td>\n",
       "    </tr>\n",
       "    <tr>\n",
       "      <th>3</th>\n",
       "      <td>4</td>\n",
       "      <td>3.0</td>\n",
       "      <td>3800.0</td>\n",
       "      <td>sqft</td>\n",
       "      <td>5175.00</td>\n",
       "      <td>sqft</td>\n",
       "      <td>98199</td>\n",
       "      <td>1950000.0</td>\n",
       "      <td>inner ring</td>\n",
       "    </tr>\n",
       "    <tr>\n",
       "      <th>4</th>\n",
       "      <td>2</td>\n",
       "      <td>2.0</td>\n",
       "      <td>1042.0</td>\n",
       "      <td>sqft</td>\n",
       "      <td>NaN</td>\n",
       "      <td>NaN</td>\n",
       "      <td>98102</td>\n",
       "      <td>950000.0</td>\n",
       "      <td>core</td>\n",
       "    </tr>\n",
       "  </tbody>\n",
       "</table>\n",
       "</div>"
      ],
      "text/plain": [
       "   beds  baths    size size_units  lot_size lot_size_units  zip_code  \\\n",
       "0     3    2.5  2590.0       sqft   6000.00           sqft     98144   \n",
       "1     4    2.0  2240.0       sqft      0.31           acre     98106   \n",
       "2     4    3.0  2040.0       sqft   3783.00           sqft     98107   \n",
       "3     4    3.0  3800.0       sqft   5175.00           sqft     98199   \n",
       "4     2    2.0  1042.0       sqft       NaN            NaN     98102   \n",
       "\n",
       "       price distance_zip_category  \n",
       "0   795000.0            inner ring  \n",
       "1   915000.0            inner ring  \n",
       "2   950000.0            inner ring  \n",
       "3  1950000.0            inner ring  \n",
       "4   950000.0                  core  "
      ]
     },
     "execution_count": 80,
     "metadata": {},
     "output_type": "execute_result"
    }
   ],
   "source": [
    "data.head()"
   ]
  },
  {
   "cell_type": "code",
   "execution_count": 81,
   "id": "60c7950c-c341-4f2b-ade4-1934603c6a7a",
   "metadata": {},
   "outputs": [
    {
     "data": {
      "text/plain": [
       "array([98144, 98106, 98107, 98199, 98102, 98133, 98105, 98108, 98178,\n",
       "       98103, 98177, 98115, 98122, 98119, 98117, 98116, 98146, 98109,\n",
       "       98125, 98101, 98126, 98118, 98112, 98121, 98136, 98168, 98104,\n",
       "       98164, 98188], dtype=int64)"
      ]
     },
     "execution_count": 81,
     "metadata": {},
     "output_type": "execute_result"
    }
   ],
   "source": [
    "data[\"zip_code\"].unique()"
   ]
  },
  {
   "cell_type": "code",
   "execution_count": 85,
   "id": "d48ac5ac-58a5-4f7d-8d6f-e80132b38c3f",
   "metadata": {},
   "outputs": [
    {
     "data": {
      "text/html": [
       "<div>\n",
       "<style scoped>\n",
       "    .dataframe tbody tr th:only-of-type {\n",
       "        vertical-align: middle;\n",
       "    }\n",
       "\n",
       "    .dataframe tbody tr th {\n",
       "        vertical-align: top;\n",
       "    }\n",
       "\n",
       "    .dataframe thead th {\n",
       "        text-align: right;\n",
       "    }\n",
       "</style>\n",
       "<table border=\"1\" class=\"dataframe\">\n",
       "  <thead>\n",
       "    <tr style=\"text-align: right;\">\n",
       "      <th></th>\n",
       "      <th>beds</th>\n",
       "      <th>baths</th>\n",
       "      <th>size</th>\n",
       "      <th>size_units</th>\n",
       "      <th>lot_size</th>\n",
       "      <th>lot_size_units</th>\n",
       "      <th>zip_code</th>\n",
       "      <th>price</th>\n",
       "      <th>distance_zip_category</th>\n",
       "      <th>zip_code_category</th>\n",
       "    </tr>\n",
       "  </thead>\n",
       "  <tbody>\n",
       "  </tbody>\n",
       "</table>\n",
       "</div>"
      ],
      "text/plain": [
       "Empty DataFrame\n",
       "Columns: [beds, baths, size, size_units, lot_size, lot_size_units, zip_code, price, distance_zip_category, zip_code_category]\n",
       "Index: []"
      ]
     },
     "execution_count": 85,
     "metadata": {},
     "output_type": "execute_result"
    }
   ],
   "source": [
    "data[data[\"distance_zip_category\"].isnull()]"
   ]
  },
  {
   "cell_type": "code",
   "execution_count": 86,
   "id": "eaf32671-35fd-4dba-ae14-4b8dc51235fa",
   "metadata": {},
   "outputs": [],
   "source": [
    "data.drop(columns=[\"zip_code\",\"size_units\"], inplace=True)"
   ]
  },
  {
   "cell_type": "code",
   "execution_count": 87,
   "id": "9ccfd0e3-ec19-4bf7-aca2-956a97d7c8cf",
   "metadata": {},
   "outputs": [
    {
     "data": {
      "text/plain": [
       "beds                       0\n",
       "baths                      0\n",
       "size                       0\n",
       "lot_size                 424\n",
       "lot_size_units           424\n",
       "price                      0\n",
       "distance_zip_category      0\n",
       "zip_code_category          0\n",
       "dtype: int64"
      ]
     },
     "execution_count": 87,
     "metadata": {},
     "output_type": "execute_result"
    }
   ],
   "source": [
    "data.isnull().sum()"
   ]
  },
  {
   "cell_type": "markdown",
   "id": "cf13daa6-584d-47b5-ba8b-3771613c9816",
   "metadata": {},
   "source": [
    "##### What is the proportion potentially dropped?"
   ]
  },
  {
   "cell_type": "code",
   "execution_count": 88,
   "id": "4a96f31c-e2c5-43a5-982e-7d599c7c8aa8",
   "metadata": {},
   "outputs": [
    {
     "data": {
      "text/plain": [
       "0.16818722729075763"
      ]
     },
     "execution_count": 88,
     "metadata": {},
     "output_type": "execute_result"
    }
   ],
   "source": [
    "424/2521"
   ]
  },
  {
   "cell_type": "code",
   "execution_count": 89,
   "id": "1c6983aa-9638-45dd-b9ef-b8d7fd113c04",
   "metadata": {},
   "outputs": [],
   "source": [
    "data.dropna(axis=0, inplace=True)"
   ]
  },
  {
   "cell_type": "code",
   "execution_count": 90,
   "id": "eeb1cc09-987d-484f-b792-b1f2cc892894",
   "metadata": {},
   "outputs": [],
   "source": [
    "data_no_missing_values = data.copy()"
   ]
  },
  {
   "cell_type": "code",
   "execution_count": 91,
   "id": "f50bb9b3-3cfd-42e6-bf81-10285f849afa",
   "metadata": {},
   "outputs": [
    {
     "data": {
      "text/html": [
       "<div>\n",
       "<style scoped>\n",
       "    .dataframe tbody tr th:only-of-type {\n",
       "        vertical-align: middle;\n",
       "    }\n",
       "\n",
       "    .dataframe tbody tr th {\n",
       "        vertical-align: top;\n",
       "    }\n",
       "\n",
       "    .dataframe thead th {\n",
       "        text-align: right;\n",
       "    }\n",
       "</style>\n",
       "<table border=\"1\" class=\"dataframe\">\n",
       "  <thead>\n",
       "    <tr style=\"text-align: right;\">\n",
       "      <th></th>\n",
       "      <th>beds</th>\n",
       "      <th>baths</th>\n",
       "      <th>size</th>\n",
       "      <th>lot_size</th>\n",
       "      <th>lot_size_units</th>\n",
       "      <th>price</th>\n",
       "      <th>distance_zip_category</th>\n",
       "      <th>zip_code_category</th>\n",
       "    </tr>\n",
       "  </thead>\n",
       "  <tbody>\n",
       "    <tr>\n",
       "      <th>0</th>\n",
       "      <td>3</td>\n",
       "      <td>2.5</td>\n",
       "      <td>2590.0</td>\n",
       "      <td>6000.00</td>\n",
       "      <td>sqft</td>\n",
       "      <td>795000.0</td>\n",
       "      <td>inner ring</td>\n",
       "      <td>middle lower</td>\n",
       "    </tr>\n",
       "    <tr>\n",
       "      <th>1</th>\n",
       "      <td>4</td>\n",
       "      <td>2.0</td>\n",
       "      <td>2240.0</td>\n",
       "      <td>0.31</td>\n",
       "      <td>acre</td>\n",
       "      <td>915000.0</td>\n",
       "      <td>inner ring</td>\n",
       "      <td>middle lower</td>\n",
       "    </tr>\n",
       "    <tr>\n",
       "      <th>2</th>\n",
       "      <td>4</td>\n",
       "      <td>3.0</td>\n",
       "      <td>2040.0</td>\n",
       "      <td>3783.00</td>\n",
       "      <td>sqft</td>\n",
       "      <td>950000.0</td>\n",
       "      <td>inner ring</td>\n",
       "      <td>middle upper</td>\n",
       "    </tr>\n",
       "    <tr>\n",
       "      <th>3</th>\n",
       "      <td>4</td>\n",
       "      <td>3.0</td>\n",
       "      <td>3800.0</td>\n",
       "      <td>5175.00</td>\n",
       "      <td>sqft</td>\n",
       "      <td>1950000.0</td>\n",
       "      <td>inner ring</td>\n",
       "      <td>affluent</td>\n",
       "    </tr>\n",
       "    <tr>\n",
       "      <th>5</th>\n",
       "      <td>2</td>\n",
       "      <td>2.0</td>\n",
       "      <td>1190.0</td>\n",
       "      <td>1.00</td>\n",
       "      <td>acre</td>\n",
       "      <td>740000.0</td>\n",
       "      <td>inner ring</td>\n",
       "      <td>middle upper</td>\n",
       "    </tr>\n",
       "  </tbody>\n",
       "</table>\n",
       "</div>"
      ],
      "text/plain": [
       "   beds  baths    size  lot_size lot_size_units      price  \\\n",
       "0     3    2.5  2590.0   6000.00           sqft   795000.0   \n",
       "1     4    2.0  2240.0      0.31           acre   915000.0   \n",
       "2     4    3.0  2040.0   3783.00           sqft   950000.0   \n",
       "3     4    3.0  3800.0   5175.00           sqft  1950000.0   \n",
       "5     2    2.0  1190.0      1.00           acre   740000.0   \n",
       "\n",
       "  distance_zip_category zip_code_category  \n",
       "0            inner ring      middle lower  \n",
       "1            inner ring      middle lower  \n",
       "2            inner ring      middle upper  \n",
       "3            inner ring          affluent  \n",
       "5            inner ring      middle upper  "
      ]
     },
     "execution_count": 91,
     "metadata": {},
     "output_type": "execute_result"
    }
   ],
   "source": [
    "data_no_missing_values.head()"
   ]
  },
  {
   "cell_type": "code",
   "execution_count": 92,
   "id": "2e000259-7ee1-43a1-a51f-1ec10e60ff1b",
   "metadata": {},
   "outputs": [],
   "source": [
    "conversion_factors = {\n",
    "    'acre': 43560,\n",
    "    'sqm': 10.7639,\n",
    "    'sqft': 1\n",
    "}\n",
    "\n",
    "data_no_missing_values[\"lot_size_in_sqft\"] = data_no_missing_values.apply (lambda row: row[\"lot_size\"] * conversion_factors.get(row[\"lot_size_units\"], 1), axis=1)"
   ]
  },
  {
   "cell_type": "code",
   "execution_count": 93,
   "id": "8dbb4a01-9bfc-4d6b-97cb-ca987026b562",
   "metadata": {},
   "outputs": [
    {
     "data": {
      "text/plain": [
       "Index(['beds', 'baths', 'size', 'lot_size', 'lot_size_units', 'price',\n",
       "       'distance_zip_category', 'zip_code_category', 'lot_size_in_sqft'],\n",
       "      dtype='object')"
      ]
     },
     "execution_count": 93,
     "metadata": {},
     "output_type": "execute_result"
    }
   ],
   "source": [
    "data_no_missing_values.columns"
   ]
  },
  {
   "cell_type": "code",
   "execution_count": 94,
   "id": "9d7895b1-2613-47d2-9466-64609db31aab",
   "metadata": {},
   "outputs": [],
   "source": [
    "data_no_missing_values.drop(columns=['lot_size', 'lot_size_units'], axis=1, inplace=True)"
   ]
  },
  {
   "cell_type": "code",
   "execution_count": 95,
   "id": "94dedbcd-12a7-4ed2-90be-20809dd273f5",
   "metadata": {},
   "outputs": [],
   "source": [
    "data_no_missing_values.rename(columns={\"size\": \"size_in_sqft\"}, inplace=True)"
   ]
  },
  {
   "cell_type": "code",
   "execution_count": 96,
   "id": "3be60c4b-9707-452b-8c3f-6afcd5744d10",
   "metadata": {},
   "outputs": [
    {
     "name": "stdout",
     "output_type": "stream",
     "text": [
      "<class 'pandas.core.frame.DataFrame'>\n",
      "Index: 2097 entries, 0 to 2520\n",
      "Data columns (total 7 columns):\n",
      " #   Column                 Non-Null Count  Dtype  \n",
      "---  ------                 --------------  -----  \n",
      " 0   beds                   2097 non-null   int64  \n",
      " 1   baths                  2097 non-null   float64\n",
      " 2   size_in_sqft           2097 non-null   float64\n",
      " 3   price                  2097 non-null   float64\n",
      " 4   distance_zip_category  2097 non-null   object \n",
      " 5   zip_code_category      2097 non-null   object \n",
      " 6   lot_size_in_sqft       2097 non-null   float64\n",
      "dtypes: float64(4), int64(1), object(2)\n",
      "memory usage: 131.1+ KB\n"
     ]
    }
   ],
   "source": [
    "data_no_missing_values.info()"
   ]
  },
  {
   "cell_type": "code",
   "execution_count": 97,
   "id": "b3e2f24d-d307-4949-994a-18dfee4a070c",
   "metadata": {},
   "outputs": [
    {
     "data": {
      "text/html": [
       "<div>\n",
       "<style scoped>\n",
       "    .dataframe tbody tr th:only-of-type {\n",
       "        vertical-align: middle;\n",
       "    }\n",
       "\n",
       "    .dataframe tbody tr th {\n",
       "        vertical-align: top;\n",
       "    }\n",
       "\n",
       "    .dataframe thead th {\n",
       "        text-align: right;\n",
       "    }\n",
       "</style>\n",
       "<table border=\"1\" class=\"dataframe\">\n",
       "  <thead>\n",
       "    <tr style=\"text-align: right;\">\n",
       "      <th></th>\n",
       "      <th>beds</th>\n",
       "      <th>baths</th>\n",
       "      <th>size_in_sqft</th>\n",
       "      <th>price</th>\n",
       "      <th>distance_zip_category</th>\n",
       "      <th>zip_code_category</th>\n",
       "      <th>lot_size_in_sqft</th>\n",
       "    </tr>\n",
       "  </thead>\n",
       "  <tbody>\n",
       "    <tr>\n",
       "      <th>count</th>\n",
       "      <td>2097.000000</td>\n",
       "      <td>2097.000000</td>\n",
       "      <td>2097.000000</td>\n",
       "      <td>2.097000e+03</td>\n",
       "      <td>2097</td>\n",
       "      <td>2097</td>\n",
       "      <td>2.097000e+03</td>\n",
       "    </tr>\n",
       "    <tr>\n",
       "      <th>unique</th>\n",
       "      <td>NaN</td>\n",
       "      <td>NaN</td>\n",
       "      <td>NaN</td>\n",
       "      <td>NaN</td>\n",
       "      <td>4</td>\n",
       "      <td>4</td>\n",
       "      <td>NaN</td>\n",
       "    </tr>\n",
       "    <tr>\n",
       "      <th>top</th>\n",
       "      <td>NaN</td>\n",
       "      <td>NaN</td>\n",
       "      <td>NaN</td>\n",
       "      <td>NaN</td>\n",
       "      <td>inner ring</td>\n",
       "      <td>middle lower</td>\n",
       "      <td>NaN</td>\n",
       "    </tr>\n",
       "    <tr>\n",
       "      <th>freq</th>\n",
       "      <td>NaN</td>\n",
       "      <td>NaN</td>\n",
       "      <td>NaN</td>\n",
       "      <td>NaN</td>\n",
       "      <td>989</td>\n",
       "      <td>907</td>\n",
       "      <td>NaN</td>\n",
       "    </tr>\n",
       "    <tr>\n",
       "      <th>mean</th>\n",
       "      <td>3.137339</td>\n",
       "      <td>2.305436</td>\n",
       "      <td>1916.727706</td>\n",
       "      <td>1.039809e+06</td>\n",
       "      <td>NaN</td>\n",
       "      <td>NaN</td>\n",
       "      <td>1.678385e+04</td>\n",
       "    </tr>\n",
       "    <tr>\n",
       "      <th>std</th>\n",
       "      <td>1.175945</td>\n",
       "      <td>1.010824</td>\n",
       "      <td>915.073679</td>\n",
       "      <td>9.415656e+05</td>\n",
       "      <td>NaN</td>\n",
       "      <td>NaN</td>\n",
       "      <td>2.571518e+05</td>\n",
       "    </tr>\n",
       "    <tr>\n",
       "      <th>min</th>\n",
       "      <td>1.000000</td>\n",
       "      <td>0.500000</td>\n",
       "      <td>250.000000</td>\n",
       "      <td>1.590000e+05</td>\n",
       "      <td>NaN</td>\n",
       "      <td>NaN</td>\n",
       "      <td>5.000000e+02</td>\n",
       "    </tr>\n",
       "    <tr>\n",
       "      <th>25%</th>\n",
       "      <td>2.000000</td>\n",
       "      <td>1.500000</td>\n",
       "      <td>1280.000000</td>\n",
       "      <td>6.850000e+05</td>\n",
       "      <td>NaN</td>\n",
       "      <td>NaN</td>\n",
       "      <td>3.000000e+03</td>\n",
       "    </tr>\n",
       "    <tr>\n",
       "      <th>50%</th>\n",
       "      <td>3.000000</td>\n",
       "      <td>2.000000</td>\n",
       "      <td>1740.000000</td>\n",
       "      <td>8.700000e+05</td>\n",
       "      <td>NaN</td>\n",
       "      <td>NaN</td>\n",
       "      <td>5.000000e+03</td>\n",
       "    </tr>\n",
       "    <tr>\n",
       "      <th>75%</th>\n",
       "      <td>4.000000</td>\n",
       "      <td>3.000000</td>\n",
       "      <td>2390.000000</td>\n",
       "      <td>1.180000e+06</td>\n",
       "      <td>NaN</td>\n",
       "      <td>NaN</td>\n",
       "      <td>7.407000e+03</td>\n",
       "    </tr>\n",
       "    <tr>\n",
       "      <th>max</th>\n",
       "      <td>15.000000</td>\n",
       "      <td>9.000000</td>\n",
       "      <td>11010.000000</td>\n",
       "      <td>2.500000e+07</td>\n",
       "      <td>NaN</td>\n",
       "      <td>NaN</td>\n",
       "      <td>1.089000e+07</td>\n",
       "    </tr>\n",
       "  </tbody>\n",
       "</table>\n",
       "</div>"
      ],
      "text/plain": [
       "               beds        baths  size_in_sqft         price  \\\n",
       "count   2097.000000  2097.000000   2097.000000  2.097000e+03   \n",
       "unique          NaN          NaN           NaN           NaN   \n",
       "top             NaN          NaN           NaN           NaN   \n",
       "freq            NaN          NaN           NaN           NaN   \n",
       "mean       3.137339     2.305436   1916.727706  1.039809e+06   \n",
       "std        1.175945     1.010824    915.073679  9.415656e+05   \n",
       "min        1.000000     0.500000    250.000000  1.590000e+05   \n",
       "25%        2.000000     1.500000   1280.000000  6.850000e+05   \n",
       "50%        3.000000     2.000000   1740.000000  8.700000e+05   \n",
       "75%        4.000000     3.000000   2390.000000  1.180000e+06   \n",
       "max       15.000000     9.000000  11010.000000  2.500000e+07   \n",
       "\n",
       "       distance_zip_category zip_code_category  lot_size_in_sqft  \n",
       "count                   2097              2097      2.097000e+03  \n",
       "unique                     4                 4               NaN  \n",
       "top               inner ring      middle lower               NaN  \n",
       "freq                     989               907               NaN  \n",
       "mean                     NaN               NaN      1.678385e+04  \n",
       "std                      NaN               NaN      2.571518e+05  \n",
       "min                      NaN               NaN      5.000000e+02  \n",
       "25%                      NaN               NaN      3.000000e+03  \n",
       "50%                      NaN               NaN      5.000000e+03  \n",
       "75%                      NaN               NaN      7.407000e+03  \n",
       "max                      NaN               NaN      1.089000e+07  "
      ]
     },
     "execution_count": 97,
     "metadata": {},
     "output_type": "execute_result"
    }
   ],
   "source": [
    "data_no_missing_values.describe(include=\"all\")"
   ]
  },
  {
   "cell_type": "markdown",
   "id": "6a0cda56-fc31-46e6-a3b8-b93bf1acceab",
   "metadata": {},
   "source": [
    "### Here I have the data prepared for the final preprocessing - outliers cut."
   ]
  },
  {
   "cell_type": "code",
   "execution_count": 98,
   "id": "91dc2a1d-aee8-445c-a24d-1bd85ff3a6a1",
   "metadata": {},
   "outputs": [],
   "source": [
    "data_clean = data_no_missing_values.copy()"
   ]
  },
  {
   "cell_type": "code",
   "execution_count": 99,
   "id": "4c101adb-ead0-4d5b-b150-e4dcac166de3",
   "metadata": {},
   "outputs": [],
   "source": [
    "sns.set_theme(style=\"darkgrid\")"
   ]
  },
  {
   "cell_type": "code",
   "execution_count": 100,
   "id": "b8b8dc67-d13b-45e8-bbad-f9718ac16eab",
   "metadata": {},
   "outputs": [
    {
     "data": {
      "text/plain": [
       "<seaborn.axisgrid.FacetGrid at 0x15e9a844dc0>"
      ]
     },
     "execution_count": 100,
     "metadata": {},
     "output_type": "execute_result"
    },
    {
     "data": {
      "image/png": "[encoded data removed]",
      "text/plain": [
       "<Figure size 500x500 with 1 Axes>"
      ]
     },
     "metadata": {},
     "output_type": "display_data"
    }
   ],
   "source": [
    "sns.displot(data_clean[\"price\"])"
   ]
  },
  {
   "cell_type": "markdown",
   "id": "46fcbe73-8779-4965-b30a-1a3b30e28a10",
   "metadata": {},
   "source": [
    "##### Lets drop above q3 + 1,5 * interquartille range in price."
   ]
  },
  {
   "cell_type": "code",
   "execution_count": 101,
   "id": "14267bda-2012-4122-a443-c82fbad99005",
   "metadata": {},
   "outputs": [],
   "source": [
    "q1 = data_clean[\"price\"].quantile(0.25)\n",
    "q3 = data_clean[\"price\"].quantile(0.75)\n",
    "iqr = q3 - q1\n",
    "outlier_price_upper = q3 + 1.5 * iqr\n",
    "outlier_price_lower = q1 - 1.5 * iqr"
   ]
  },
  {
   "cell_type": "code",
   "execution_count": 102,
   "id": "f751f5a4-5473-4b2e-bda0-59086ba259e9",
   "metadata": {},
   "outputs": [],
   "source": [
    "data_price_outliers = data_clean[data_clean[\"price\"].between(outlier_price_lower, outlier_price_upper)]"
   ]
  },
  {
   "cell_type": "code",
   "execution_count": 103,
   "id": "6071f7ca-f85b-48a2-8c76-514e5ed06868",
   "metadata": {},
   "outputs": [
    {
     "name": "stdout",
     "output_type": "stream",
     "text": [
      "<class 'pandas.core.frame.DataFrame'>\n",
      "Index: 1962 entries, 0 to 2520\n",
      "Data columns (total 7 columns):\n",
      " #   Column                 Non-Null Count  Dtype  \n",
      "---  ------                 --------------  -----  \n",
      " 0   beds                   1962 non-null   int64  \n",
      " 1   baths                  1962 non-null   float64\n",
      " 2   size_in_sqft           1962 non-null   float64\n",
      " 3   price                  1962 non-null   float64\n",
      " 4   distance_zip_category  1962 non-null   object \n",
      " 5   zip_code_category      1962 non-null   object \n",
      " 6   lot_size_in_sqft       1962 non-null   float64\n",
      "dtypes: float64(4), int64(1), object(2)\n",
      "memory usage: 122.6+ KB\n"
     ]
    }
   ],
   "source": [
    "data_price_outliers.info()"
   ]
  },
  {
   "cell_type": "code",
   "execution_count": 104,
   "id": "615fbab6-47db-4609-907c-b0606c79a680",
   "metadata": {},
   "outputs": [
    {
     "data": {
      "text/plain": [
       "<seaborn.axisgrid.FacetGrid at 0x15ea1882910>"
      ]
     },
     "execution_count": 104,
     "metadata": {},
     "output_type": "execute_result"
    },
    {
     "data": {
      "image/png": "[encoded data removed]",
      "text/plain": [
       "<Figure size 500x500 with 1 Axes>"
      ]
     },
     "metadata": {},
     "output_type": "display_data"
    }
   ],
   "source": [
    "sns.displot(data_price_outliers[\"price\"])"
   ]
  },
  {
   "cell_type": "markdown",
   "id": "14a7a0df-95ad-4a90-b570-f58aae90d47f",
   "metadata": {},
   "source": [
    "##### Get rid of the beds outliers base on IQR again."
   ]
  },
  {
   "cell_type": "code",
   "execution_count": 105,
   "id": "ffc6bc12-7a6f-46d9-9a0b-0fb20d212781",
   "metadata": {},
   "outputs": [],
   "source": [
    "q1 = data_price_outliers[\"beds\"].quantile(0.25)\n",
    "q3 = data_price_outliers[\"beds\"].quantile(0.75)\n",
    "iqr = q3 - q1\n",
    "outlier_beds_upper = q3 + 1.5 * iqr\n",
    "outlier_beds_lower = q1 - 1.5 * iqr"
   ]
  },
  {
   "cell_type": "code",
   "execution_count": 106,
   "id": "dc3f749b-ecb8-4adf-9230-f0ef147f15b7",
   "metadata": {},
   "outputs": [],
   "source": [
    "data_beds_outliers = data_price_outliers[data_price_outliers[\"beds\"].between(outlier_beds_lower, outlier_beds_upper)]"
   ]
  },
  {
   "cell_type": "code",
   "execution_count": 107,
   "id": "d28968bc-55ce-4fcf-9306-af88b61721b9",
   "metadata": {},
   "outputs": [
    {
     "data": {
      "text/plain": [
       "<seaborn.axisgrid.FacetGrid at 0x15ea1bd6700>"
      ]
     },
     "execution_count": 107,
     "metadata": {},
     "output_type": "execute_result"
    },
    {
     "data": {
      "image/png": "[encoded data removed]",
      "text/plain": [
       "<Figure size 500x500 with 1 Axes>"
      ]
     },
     "metadata": {},
     "output_type": "display_data"
    }
   ],
   "source": [
    "sns.displot(data_beds_outliers[\"beds\"])"
   ]
  },
  {
   "cell_type": "code",
   "execution_count": 108,
   "id": "029ad315-13bc-48b5-af45-dc4cf0e3a003",
   "metadata": {},
   "outputs": [
    {
     "data": {
      "text/plain": [
       "<seaborn.axisgrid.FacetGrid at 0x15ea1bbe100>"
      ]
     },
     "execution_count": 108,
     "metadata": {},
     "output_type": "execute_result"
    },
    {
     "data": {
      "image/png": "[encoded data removed]",
      "text/plain": [
       "<Figure size 500x500 with 1 Axes>"
      ]
     },
     "metadata": {},
     "output_type": "display_data"
    }
   ],
   "source": [
    "sns.displot(data_beds_outliers[\"baths\"])"
   ]
  },
  {
   "cell_type": "markdown",
   "id": "0f5ce098-0b81-4b6b-8cdb-0a9f7f763ed8",
   "metadata": {},
   "source": [
    "##### Get rid of baths outliers based on IQR again."
   ]
  },
  {
   "cell_type": "code",
   "execution_count": 109,
   "id": "1404cc6e-a3fb-4776-aae8-942205fb45bc",
   "metadata": {},
   "outputs": [],
   "source": [
    "q1 = data_beds_outliers[\"baths\"].quantile(0.25)\n",
    "q3 = data_beds_outliers[\"baths\"].quantile(0.75)\n",
    "iqr = q3 - q1\n",
    "outlier_baths_upper = q3 + 1.5 * iqr\n",
    "outlier_baths_lower = q1 - 1.5 * iqr"
   ]
  },
  {
   "cell_type": "code",
   "execution_count": 110,
   "id": "c754b076-20fa-414d-863c-6e6de5e82a8a",
   "metadata": {},
   "outputs": [],
   "source": [
    "data_baths_outliers = data_beds_outliers[data_beds_outliers[\"baths\"].between(outlier_baths_lower, outlier_baths_upper)]"
   ]
  },
  {
   "cell_type": "code",
   "execution_count": 111,
   "id": "00490c32-306a-4723-8283-ef7d07f33790",
   "metadata": {},
   "outputs": [
    {
     "data": {
      "text/plain": [
       "<seaborn.axisgrid.FacetGrid at 0x15e9cec7e80>"
      ]
     },
     "execution_count": 111,
     "metadata": {},
     "output_type": "execute_result"
    },
    {
     "data": {
      "image/png": "[encoded data removed]",
      "text/plain": [
       "<Figure size 500x500 with 1 Axes>"
      ]
     },
     "metadata": {},
     "output_type": "display_data"
    }
   ],
   "source": [
    "sns.displot(data_baths_outliers[\"baths\"])"
   ]
  },
  {
   "cell_type": "code",
   "execution_count": 112,
   "id": "08960cee-bd81-4be1-888b-7ace6791a42b",
   "metadata": {},
   "outputs": [
    {
     "data": {
      "text/plain": [
       "<seaborn.axisgrid.FacetGrid at 0x15e9e28c6a0>"
      ]
     },
     "execution_count": 112,
     "metadata": {},
     "output_type": "execute_result"
    },
    {
     "data": {
      "image/png": "[encoded data removed]",
      "text/plain": [
       "<Figure size 500x500 with 1 Axes>"
      ]
     },
     "metadata": {},
     "output_type": "display_data"
    }
   ],
   "source": [
    "sns.displot(data_baths_outliers[\"size_in_sqft\"])"
   ]
  },
  {
   "cell_type": "code",
   "execution_count": 113,
   "id": "521cf356-0144-4fa4-97e9-ddbf68ee2a86",
   "metadata": {},
   "outputs": [
    {
     "data": {
      "text/plain": [
       "3549.5200000000004"
      ]
     },
     "execution_count": 113,
     "metadata": {},
     "output_type": "execute_result"
    }
   ],
   "source": [
    "q = data_baths_outliers[\"size_in_sqft\"].quantile(0.99)\n",
    "q"
   ]
  },
  {
   "cell_type": "code",
   "execution_count": 114,
   "id": "d7220eb7-7a31-449b-8634-9ae1fa460278",
   "metadata": {},
   "outputs": [
    {
     "name": "stdout",
     "output_type": "stream",
     "text": [
      "-304.0 3780.0\n"
     ]
    }
   ],
   "source": [
    "q1 = data_baths_outliers[\"size_in_sqft\"].quantile(0.25)\n",
    "q3 = data_baths_outliers[\"size_in_sqft\"].quantile(0.75)\n",
    "iqr = q3 - q1\n",
    "outlier_size_upper = q3 + 1.5 * iqr\n",
    "outlier_size_lower = q1 - 1.5 * iqr\n",
    "print(outlier_size_lower, outlier_size_upper)"
   ]
  },
  {
   "cell_type": "code",
   "execution_count": 115,
   "id": "3dfbcb83-4f63-46fd-bc18-6442f7ddc6d2",
   "metadata": {},
   "outputs": [],
   "source": [
    "data_size_in_sqt_outliers = data_baths_outliers[data_baths_outliers[\"size_in_sqft\"].between(outlier_size_lower, outlier_size_upper)]"
   ]
  },
  {
   "cell_type": "code",
   "execution_count": 116,
   "id": "325efa17-6f68-4e00-b20b-a7f40572212e",
   "metadata": {},
   "outputs": [
    {
     "data": {
      "text/plain": [
       "<seaborn.axisgrid.FacetGrid at 0x15e9e167430>"
      ]
     },
     "execution_count": 116,
     "metadata": {},
     "output_type": "execute_result"
    },
    {
     "data": {
      "image/png": "[encoded data removed]",
      "text/plain": [
       "<Figure size 500x500 with 1 Axes>"
      ]
     },
     "metadata": {},
     "output_type": "display_data"
    }
   ],
   "source": [
    "sns.displot(data_size_in_sqt_outliers[\"size_in_sqft\"])"
   ]
  },
  {
   "cell_type": "code",
   "execution_count": 117,
   "id": "c0b0ddf8-13d4-46e1-b566-fac3f927e3dc",
   "metadata": {},
   "outputs": [
    {
     "data": {
      "text/plain": [
       "count    1.894000e+03\n",
       "mean     1.769926e+04\n",
       "std      2.705523e+05\n",
       "min      5.000000e+02\n",
       "25%      2.600000e+03\n",
       "50%      5.000000e+03\n",
       "75%      7.235500e+03\n",
       "max      1.089000e+07\n",
       "Name: lot_size_in_sqft, dtype: float64"
      ]
     },
     "execution_count": 117,
     "metadata": {},
     "output_type": "execute_result"
    }
   ],
   "source": [
    "data_size_in_sqt_outliers[\"lot_size_in_sqft\"].describe()"
   ]
  },
  {
   "cell_type": "code",
   "execution_count": 118,
   "id": "7ef11c3d-ef5b-4046-8f35-2b47f6f57bcb",
   "metadata": {},
   "outputs": [],
   "source": [
    "q1 = data_size_in_sqt_outliers[\"lot_size_in_sqft\"].quantile(0.25)\n",
    "q3 = data_size_in_sqt_outliers[\"lot_size_in_sqft\"].quantile(0.75)\n",
    "iqr = q3 - q1\n",
    "outlier_lot_size_upper = q3 + 1.5 * iqr\n",
    "outlier_lot_size_lower = q1 - 1.5 * iqr"
   ]
  },
  {
   "cell_type": "code",
   "execution_count": 119,
   "id": "215f3925-017d-4d78-ae46-3a1fe5100224",
   "metadata": {},
   "outputs": [],
   "source": [
    "data_prepro = data_size_in_sqt_outliers[data_size_in_sqt_outliers[\"lot_size_in_sqft\"].between(outlier_lot_size_lower, outlier_lot_size_upper)]"
   ]
  },
  {
   "cell_type": "code",
   "execution_count": 120,
   "id": "05077b42-202d-4ad0-80fd-70e82d490c8a",
   "metadata": {},
   "outputs": [
    {
     "name": "stdout",
     "output_type": "stream",
     "text": [
      "<class 'pandas.core.frame.DataFrame'>\n",
      "Index: 1732 entries, 0 to 2520\n",
      "Data columns (total 7 columns):\n",
      " #   Column                 Non-Null Count  Dtype  \n",
      "---  ------                 --------------  -----  \n",
      " 0   beds                   1732 non-null   int64  \n",
      " 1   baths                  1732 non-null   float64\n",
      " 2   size_in_sqft           1732 non-null   float64\n",
      " 3   price                  1732 non-null   float64\n",
      " 4   distance_zip_category  1732 non-null   object \n",
      " 5   zip_code_category      1732 non-null   object \n",
      " 6   lot_size_in_sqft       1732 non-null   float64\n",
      "dtypes: float64(4), int64(1), object(2)\n",
      "memory usage: 108.2+ KB\n"
     ]
    }
   ],
   "source": [
    "data_prepro.info()"
   ]
  },
  {
   "cell_type": "code",
   "execution_count": 121,
   "id": "f4a1d032-b3d5-4707-8a5d-9bfe78c9c302",
   "metadata": {},
   "outputs": [],
   "source": [
    "data_clean = data_prepro.copy()"
   ]
  },
  {
   "cell_type": "code",
   "execution_count": 122,
   "id": "44e8a503-64ae-4ad9-b5c0-5b429edfbf99",
   "metadata": {},
   "outputs": [
    {
     "data": {
      "text/plain": [
       "<seaborn.axisgrid.FacetGrid at 0x15e9dffebb0>"
      ]
     },
     "execution_count": 122,
     "metadata": {},
     "output_type": "execute_result"
    },
    {
     "data": {
      "image/png": "[encoded data removed]",
      "text/plain": [
       "<Figure size 500x500 with 1 Axes>"
      ]
     },
     "metadata": {},
     "output_type": "display_data"
    }
   ],
   "source": [
    "sns.displot(data_clean[\"lot_size_in_sqft\"])"
   ]
  },
  {
   "cell_type": "code",
   "execution_count": 123,
   "id": "f6b82b78-f478-4eb8-bd5d-c3ee625a4b42",
   "metadata": {},
   "outputs": [
    {
     "data": {
      "text/html": [
       "<div>\n",
       "<style scoped>\n",
       "    .dataframe tbody tr th:only-of-type {\n",
       "        vertical-align: middle;\n",
       "    }\n",
       "\n",
       "    .dataframe tbody tr th {\n",
       "        vertical-align: top;\n",
       "    }\n",
       "\n",
       "    .dataframe thead th {\n",
       "        text-align: right;\n",
       "    }\n",
       "</style>\n",
       "<table border=\"1\" class=\"dataframe\">\n",
       "  <thead>\n",
       "    <tr style=\"text-align: right;\">\n",
       "      <th></th>\n",
       "      <th>beds</th>\n",
       "      <th>baths</th>\n",
       "      <th>size_in_sqft</th>\n",
       "      <th>price</th>\n",
       "      <th>distance_zip_category</th>\n",
       "      <th>zip_code_category</th>\n",
       "      <th>lot_size_in_sqft</th>\n",
       "    </tr>\n",
       "  </thead>\n",
       "  <tbody>\n",
       "    <tr>\n",
       "      <th>count</th>\n",
       "      <td>1732.000000</td>\n",
       "      <td>1732.000000</td>\n",
       "      <td>1732.000000</td>\n",
       "      <td>1.732000e+03</td>\n",
       "      <td>1732</td>\n",
       "      <td>1732</td>\n",
       "      <td>1732.000000</td>\n",
       "    </tr>\n",
       "    <tr>\n",
       "      <th>unique</th>\n",
       "      <td>NaN</td>\n",
       "      <td>NaN</td>\n",
       "      <td>NaN</td>\n",
       "      <td>NaN</td>\n",
       "      <td>4</td>\n",
       "      <td>4</td>\n",
       "      <td>NaN</td>\n",
       "    </tr>\n",
       "    <tr>\n",
       "      <th>top</th>\n",
       "      <td>NaN</td>\n",
       "      <td>NaN</td>\n",
       "      <td>NaN</td>\n",
       "      <td>NaN</td>\n",
       "      <td>inner ring</td>\n",
       "      <td>middle lower</td>\n",
       "      <td>NaN</td>\n",
       "    </tr>\n",
       "    <tr>\n",
       "      <th>freq</th>\n",
       "      <td>NaN</td>\n",
       "      <td>NaN</td>\n",
       "      <td>NaN</td>\n",
       "      <td>NaN</td>\n",
       "      <td>817</td>\n",
       "      <td>760</td>\n",
       "      <td>NaN</td>\n",
       "    </tr>\n",
       "    <tr>\n",
       "      <th>mean</th>\n",
       "      <td>3.064665</td>\n",
       "      <td>2.155889</td>\n",
       "      <td>1786.006351</td>\n",
       "      <td>9.143575e+05</td>\n",
       "      <td>NaN</td>\n",
       "      <td>NaN</td>\n",
       "      <td>4749.304273</td>\n",
       "    </tr>\n",
       "    <tr>\n",
       "      <th>std</th>\n",
       "      <td>0.947726</td>\n",
       "      <td>0.771537</td>\n",
       "      <td>662.410405</td>\n",
       "      <td>3.297815e+05</td>\n",
       "      <td>NaN</td>\n",
       "      <td>NaN</td>\n",
       "      <td>2868.364768</td>\n",
       "    </tr>\n",
       "    <tr>\n",
       "      <th>min</th>\n",
       "      <td>1.000000</td>\n",
       "      <td>0.500000</td>\n",
       "      <td>376.000000</td>\n",
       "      <td>1.594880e+05</td>\n",
       "      <td>NaN</td>\n",
       "      <td>NaN</td>\n",
       "      <td>500.000000</td>\n",
       "    </tr>\n",
       "    <tr>\n",
       "      <th>25%</th>\n",
       "      <td>2.000000</td>\n",
       "      <td>1.500000</td>\n",
       "      <td>1290.000000</td>\n",
       "      <td>6.900000e+05</td>\n",
       "      <td>NaN</td>\n",
       "      <td>NaN</td>\n",
       "      <td>2280.000000</td>\n",
       "    </tr>\n",
       "    <tr>\n",
       "      <th>50%</th>\n",
       "      <td>3.000000</td>\n",
       "      <td>2.000000</td>\n",
       "      <td>1700.000000</td>\n",
       "      <td>8.500000e+05</td>\n",
       "      <td>NaN</td>\n",
       "      <td>NaN</td>\n",
       "      <td>4800.000000</td>\n",
       "    </tr>\n",
       "    <tr>\n",
       "      <th>75%</th>\n",
       "      <td>4.000000</td>\n",
       "      <td>2.500000</td>\n",
       "      <td>2262.500000</td>\n",
       "      <td>1.095000e+06</td>\n",
       "      <td>NaN</td>\n",
       "      <td>NaN</td>\n",
       "      <td>6348.500000</td>\n",
       "    </tr>\n",
       "    <tr>\n",
       "      <th>max</th>\n",
       "      <td>7.000000</td>\n",
       "      <td>4.000000</td>\n",
       "      <td>3780.000000</td>\n",
       "      <td>1.900000e+06</td>\n",
       "      <td>NaN</td>\n",
       "      <td>NaN</td>\n",
       "      <td>13939.200000</td>\n",
       "    </tr>\n",
       "  </tbody>\n",
       "</table>\n",
       "</div>"
      ],
      "text/plain": [
       "               beds        baths  size_in_sqft         price  \\\n",
       "count   1732.000000  1732.000000   1732.000000  1.732000e+03   \n",
       "unique          NaN          NaN           NaN           NaN   \n",
       "top             NaN          NaN           NaN           NaN   \n",
       "freq            NaN          NaN           NaN           NaN   \n",
       "mean       3.064665     2.155889   1786.006351  9.143575e+05   \n",
       "std        0.947726     0.771537    662.410405  3.297815e+05   \n",
       "min        1.000000     0.500000    376.000000  1.594880e+05   \n",
       "25%        2.000000     1.500000   1290.000000  6.900000e+05   \n",
       "50%        3.000000     2.000000   1700.000000  8.500000e+05   \n",
       "75%        4.000000     2.500000   2262.500000  1.095000e+06   \n",
       "max        7.000000     4.000000   3780.000000  1.900000e+06   \n",
       "\n",
       "       distance_zip_category zip_code_category  lot_size_in_sqft  \n",
       "count                   1732              1732       1732.000000  \n",
       "unique                     4                 4               NaN  \n",
       "top               inner ring      middle lower               NaN  \n",
       "freq                     817               760               NaN  \n",
       "mean                     NaN               NaN       4749.304273  \n",
       "std                      NaN               NaN       2868.364768  \n",
       "min                      NaN               NaN        500.000000  \n",
       "25%                      NaN               NaN       2280.000000  \n",
       "50%                      NaN               NaN       4800.000000  \n",
       "75%                      NaN               NaN       6348.500000  \n",
       "max                      NaN               NaN      13939.200000  "
      ]
     },
     "execution_count": 123,
     "metadata": {},
     "output_type": "execute_result"
    }
   ],
   "source": [
    "data_clean.describe(include=\"all\")"
   ]
  },
  {
   "cell_type": "code",
   "execution_count": 140,
   "id": "b1d337f8-2faf-4e17-bdb8-bf280d39c6c7",
   "metadata": {},
   "outputs": [
    {
     "data": {
      "image/png": "[encoded data removed]",
      "text/plain": [
       "<Figure size 1500x300 with 6 Axes>"
      ]
     },
     "metadata": {},
     "output_type": "display_data"
    }
   ],
   "source": [
    "f,axs = plt.subplots(2, 3, sharey=True, figsize =(15,3))\n",
    "axs[0, 0].scatter(data_clean[\"beds\"],data_clean[\"price\"], alpha=0.2)\n",
    "axs[0, 0].set_title(\"price and beds\")\n",
    "axs[0, 1].scatter(data_clean[\"baths\"],data_clean[\"price\"], alpha=0.2)\n",
    "axs[0, 1].set_title(\"price and baths\")\n",
    "axs[0, 2].scatter(data_clean[\"size_in_sqft\"],data_clean[\"price\"], alpha=0.2)\n",
    "axs[0, 2].set_title(\"price and size in sqft\")\n",
    "axs[1, 0].scatter(data_clean[\"lot_size_in_sqft\"],data_clean[\"price\"], alpha=0.2)\n",
    "axs[1, 0].set_title(\"price and lot size in sqft\")\n",
    "axs[1, 1].scatter(data_clean[\"zip_code_category\"],data_clean[\"price\"], alpha=0.2)\n",
    "axs[1, 1].set_title(\"price and zip categorized\")\n",
    "axs[1, 2].scatter(data_clean[\"distance_zip_category\"],data_clean[\"price\"], alpha=0.2)\n",
    "axs[1, 2].set_title(\"price and distance zip category\")\n",
    "\n",
    "# Increase spacing between rows and columns\n",
    "plt.subplots_adjust(hspace=0.8, wspace=0.8)\n",
    "\n",
    "plt.show()"
   ]
  },
  {
   "cell_type": "markdown",
   "id": "f0827ac2-cec7-46c9-bf71-ccbf72e76ed3",
   "metadata": {},
   "source": [
    "#### Since variable \"lot size in sqft\" seems to have no impact on the price, I will drop it."
   ]
  },
  {
   "cell_type": "code",
   "execution_count": 141,
   "id": "327ca731-cc96-45b8-a0fa-7c318db1d9ab",
   "metadata": {},
   "outputs": [],
   "source": [
    "data_clean.drop(columns=[\"lot_size_in_sqft\"], inplace=True, axis = 1)"
   ]
  },
  {
   "cell_type": "code",
   "execution_count": 142,
   "id": "99859751-98a4-4d7a-a7d4-c9e3078bcd2d",
   "metadata": {},
   "outputs": [],
   "source": [
    "data_clean.reset_index(drop=True, inplace=True)"
   ]
  },
  {
   "cell_type": "code",
   "execution_count": 143,
   "id": "a90aab85-809c-4470-b9d0-cd61cf81606f",
   "metadata": {},
   "outputs": [
    {
     "data": {
      "text/html": [
       "<div>\n",
       "<style scoped>\n",
       "    .dataframe tbody tr th:only-of-type {\n",
       "        vertical-align: middle;\n",
       "    }\n",
       "\n",
       "    .dataframe tbody tr th {\n",
       "        vertical-align: top;\n",
       "    }\n",
       "\n",
       "    .dataframe thead th {\n",
       "        text-align: right;\n",
       "    }\n",
       "</style>\n",
       "<table border=\"1\" class=\"dataframe\">\n",
       "  <thead>\n",
       "    <tr style=\"text-align: right;\">\n",
       "      <th></th>\n",
       "      <th>VIF</th>\n",
       "      <th>features</th>\n",
       "    </tr>\n",
       "  </thead>\n",
       "  <tbody>\n",
       "    <tr>\n",
       "      <th>0</th>\n",
       "      <td>18.233408</td>\n",
       "      <td>beds</td>\n",
       "    </tr>\n",
       "    <tr>\n",
       "      <th>1</th>\n",
       "      <td>11.377437</td>\n",
       "      <td>baths</td>\n",
       "    </tr>\n",
       "    <tr>\n",
       "      <th>2</th>\n",
       "      <td>16.578015</td>\n",
       "      <td>size_in_sqft</td>\n",
       "    </tr>\n",
       "  </tbody>\n",
       "</table>\n",
       "</div>"
      ],
      "text/plain": [
       "         VIF      features\n",
       "0  18.233408          beds\n",
       "1  11.377437         baths\n",
       "2  16.578015  size_in_sqft"
      ]
     },
     "execution_count": 143,
     "metadata": {},
     "output_type": "execute_result"
    }
   ],
   "source": [
    "from statsmodels.stats.outliers_influence import variance_inflation_factor\n",
    "variables = data_clean[[\"beds\", 'baths','size_in_sqft']]\n",
    "vif = pd.DataFrame()\n",
    "vif[\"VIF\"] = [variance_inflation_factor(variables.values, i) for i in range(variables.shape[1])]\n",
    "vif[\"features\"] = variables.columns\n",
    "vif"
   ]
  },
  {
   "cell_type": "markdown",
   "id": "197cd791-532e-4a26-a6ca-1b6caabe401f",
   "metadata": {},
   "source": [
    "### Since the beds and baths are giving higher VIFs, lets drop them. It is logical, that size correlates with number of beds and baths somehow. Until 10, it is kind of acceptable, it is over."
   ]
  },
  {
   "cell_type": "code",
   "execution_count": 144,
   "id": "4c693f96-c43e-44ae-92c7-f7eac3c33753",
   "metadata": {},
   "outputs": [],
   "source": [
    "data_clean.drop(columns=[\"beds\", \"baths\"], inplace=True)"
   ]
  },
  {
   "cell_type": "code",
   "execution_count": 151,
   "id": "ef44f98a-cae7-4dc4-b939-e14bed1f67eb",
   "metadata": {},
   "outputs": [],
   "source": [
    "data_final = pd.get_dummies(data_clean, drop_first=True).astype(int)"
   ]
  },
  {
   "cell_type": "code",
   "execution_count": 148,
   "id": "3b19f268-1da1-43c8-9d1f-de828af3e46b",
   "metadata": {},
   "outputs": [],
   "source": [
    "from sklearn.model_selection import train_test_split"
   ]
  },
  {
   "cell_type": "code",
   "execution_count": 152,
   "id": "18e45910-2528-4668-90f1-fec6ed489d75",
   "metadata": {},
   "outputs": [],
   "source": [
    "train_data, test_data = train_test_split(data_final, test_size=0.2, random_state=365)"
   ]
  },
  {
   "cell_type": "code",
   "execution_count": 157,
   "id": "89b76cd5-f7b6-48c2-8ba0-511a86f6505f",
   "metadata": {},
   "outputs": [
    {
     "data": {
      "text/plain": [
       "Index(['size_in_sqft', 'price', 'distance_zip_category_inner ring',\n",
       "       'distance_zip_category_outer ring', 'distance_zip_category_suburban',\n",
       "       'zip_code_category_lower', 'zip_code_category_middle lower',\n",
       "       'zip_code_category_middle upper'],\n",
       "      dtype='object')"
      ]
     },
     "execution_count": 157,
     "metadata": {},
     "output_type": "execute_result"
    }
   ],
   "source": [
    "train_data.columns"
   ]
  },
  {
   "cell_type": "code",
   "execution_count": 155,
   "id": "c24c0337-0bbf-4fc2-a6aa-f2a457515de0",
   "metadata": {},
   "outputs": [],
   "source": [
    "from sklearn.feature_selection import f_regression"
   ]
  },
  {
   "cell_type": "code",
   "execution_count": 158,
   "id": "b137d709-a60c-4a2c-9609-5738b6892404",
   "metadata": {},
   "outputs": [],
   "source": [
    "x = train_data[[\"size_in_sqft\", \n",
    "                'distance_zip_category_inner ring',\n",
    "                'distance_zip_category_outer ring', \n",
    "                'distance_zip_category_suburban',\n",
    "                'zip_code_category_lower', \n",
    "                'zip_code_category_middle lower',\n",
    "                'zip_code_category_middle upper',\n",
    "               ]]\n",
    "y = train_data[\"price\"]"
   ]
  },
  {
   "cell_type": "code",
   "execution_count": 159,
   "id": "e857f95a-d8b4-4c30-b336-65441cfec679",
   "metadata": {},
   "outputs": [
    {
     "data": {
      "text/plain": [
       "array([0.   , 0.235, 0.   , 0.301, 0.   , 0.   , 0.   ])"
      ]
     },
     "execution_count": 159,
     "metadata": {},
     "output_type": "execute_result"
    }
   ],
   "source": [
    "f_regression(x, y)\n",
    "p_values = f_regression(x, y)[1]\n",
    "p_values.round(3)"
   ]
  },
  {
   "cell_type": "markdown",
   "id": "fef98f7f-c5e0-4e46-9f69-95c439ce9cc2",
   "metadata": {},
   "source": [
    "### Should exclude distance and do the rest."
   ]
  }
 ],
 "metadata": {
  "kernelspec": {
   "display_name": "Python 3 (ipykernel)",
   "language": "python",
   "name": "python3"
  },
  "language_info": {
   "codemirror_mode": {
    "name": "ipython",
    "version": 3
   },
   "file_extension": ".py",
   "mimetype": "text/x-python",
   "name": "python",
   "nbconvert_exporter": "python",
   "pygments_lexer": "ipython3",
   "version": "3.9.6"
  }
 },
 "nbformat": 4,
 "nbformat_minor": 5
}
