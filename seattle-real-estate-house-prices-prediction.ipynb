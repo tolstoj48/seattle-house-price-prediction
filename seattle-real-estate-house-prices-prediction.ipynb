{
 "cells": [
  {
   "cell_type": "markdown",
   "id": "05b015f8-cd86-4a88-93e8-cbeabf5763d4",
   "metadata": {},
   "source": [
    "# TO DO: split the data into training and testing samples"
   ]
  },
  {
   "cell_type": "markdown",
   "id": "cfc447d7-dbd2-42d2-a038-e50e3bf728cd",
   "metadata": {},
   "source": [
    "### First, joing the test and train data into one, to split them and train the coding"
   ]
  },
  {
   "cell_type": "code",
   "execution_count": 167,
   "id": "3c8debc2-2e31-4fe1-b286-23a4bbde6870",
   "metadata": {},
   "outputs": [],
   "source": [
    "import pandas as pd\n",
    "import seaborn as sns\n",
    "import matplotlib.pyplot as plt\n",
    "from sklearn.linear_model import LinearRegression"
   ]
  },
  {
   "cell_type": "code",
   "execution_count": 168,
   "id": "5f874468-d5f6-4f7d-add8-cb2194c20054",
   "metadata": {},
   "outputs": [],
   "source": [
    "data_train = pd.read_csv(\"./data/train.csv\")\n",
    "data_test = pd.read_csv(\"./data/test.csv\")"
   ]
  },
  {
   "cell_type": "code",
   "execution_count": 169,
   "id": "4fc1863a-e7a8-4226-9d14-a5a31d7d0c5e",
   "metadata": {},
   "outputs": [
    {
     "name": "stdout",
     "output_type": "stream",
     "text": [
      "<class 'pandas.core.frame.DataFrame'>\n",
      "RangeIndex: 2016 entries, 0 to 2015\n",
      "Data columns (total 8 columns):\n",
      " #   Column          Non-Null Count  Dtype  \n",
      "---  ------          --------------  -----  \n",
      " 0   beds            2016 non-null   int64  \n",
      " 1   baths           2016 non-null   float64\n",
      " 2   size            2016 non-null   float64\n",
      " 3   size_units      2016 non-null   object \n",
      " 4   lot_size        1669 non-null   float64\n",
      " 5   lot_size_units  1669 non-null   object \n",
      " 6   zip_code        2016 non-null   int64  \n",
      " 7   price           2016 non-null   float64\n",
      "dtypes: float64(4), int64(2), object(2)\n",
      "memory usage: 126.1+ KB\n"
     ]
    }
   ],
   "source": [
    "data_train.info()"
   ]
  },
  {
   "cell_type": "code",
   "execution_count": 170,
   "id": "8f1d71ef-ee76-4450-a94b-b15da03e5b43",
   "metadata": {},
   "outputs": [
    {
     "name": "stdout",
     "output_type": "stream",
     "text": [
      "<class 'pandas.core.frame.DataFrame'>\n",
      "RangeIndex: 505 entries, 0 to 504\n",
      "Data columns (total 8 columns):\n",
      " #   Column          Non-Null Count  Dtype  \n",
      "---  ------          --------------  -----  \n",
      " 0   beds            505 non-null    int64  \n",
      " 1   baths           505 non-null    float64\n",
      " 2   size            505 non-null    float64\n",
      " 3   size_units      505 non-null    object \n",
      " 4   lot_size        428 non-null    float64\n",
      " 5   lot_size_units  428 non-null    object \n",
      " 6   zip_code        505 non-null    int64  \n",
      " 7   price           505 non-null    float64\n",
      "dtypes: float64(4), int64(2), object(2)\n",
      "memory usage: 31.7+ KB\n"
     ]
    }
   ],
   "source": [
    "data_test.info()"
   ]
  },
  {
   "cell_type": "code",
   "execution_count": 171,
   "id": "b99121b9-d68f-4264-a69b-7a4974d46e91",
   "metadata": {},
   "outputs": [
    {
     "data": {
      "text/plain": [
       "array([ True,  True,  True,  True,  True,  True,  True,  True])"
      ]
     },
     "execution_count": 171,
     "metadata": {},
     "output_type": "execute_result"
    }
   ],
   "source": [
    "data_train.columns == data_test.columns"
   ]
  },
  {
   "cell_type": "code",
   "execution_count": 172,
   "id": "36120882-6296-4169-8f67-a0d384ae81f0",
   "metadata": {},
   "outputs": [],
   "source": [
    "union_df = pd.concat([data_train, data_test], ignore_index=True, sort=False)"
   ]
  },
  {
   "cell_type": "code",
   "execution_count": 173,
   "id": "f47e736e-0b10-4601-85f9-506152ec9527",
   "metadata": {},
   "outputs": [
    {
     "name": "stdout",
     "output_type": "stream",
     "text": [
      "<class 'pandas.core.frame.DataFrame'>\n",
      "RangeIndex: 2521 entries, 0 to 2520\n",
      "Data columns (total 8 columns):\n",
      " #   Column          Non-Null Count  Dtype  \n",
      "---  ------          --------------  -----  \n",
      " 0   beds            2521 non-null   int64  \n",
      " 1   baths           2521 non-null   float64\n",
      " 2   size            2521 non-null   float64\n",
      " 3   size_units      2521 non-null   object \n",
      " 4   lot_size        2097 non-null   float64\n",
      " 5   lot_size_units  2097 non-null   object \n",
      " 6   zip_code        2521 non-null   int64  \n",
      " 7   price           2521 non-null   float64\n",
      "dtypes: float64(4), int64(2), object(2)\n",
      "memory usage: 157.7+ KB\n"
     ]
    }
   ],
   "source": [
    "union_df.info()"
   ]
  },
  {
   "cell_type": "code",
   "execution_count": 174,
   "id": "180397bb-01bb-48c4-aa97-8cba21d4997e",
   "metadata": {},
   "outputs": [
    {
     "data": {
      "text/html": [
       "<div>\n",
       "<style scoped>\n",
       "    .dataframe tbody tr th:only-of-type {\n",
       "        vertical-align: middle;\n",
       "    }\n",
       "\n",
       "    .dataframe tbody tr th {\n",
       "        vertical-align: top;\n",
       "    }\n",
       "\n",
       "    .dataframe thead th {\n",
       "        text-align: right;\n",
       "    }\n",
       "</style>\n",
       "<table border=\"1\" class=\"dataframe\">\n",
       "  <thead>\n",
       "    <tr style=\"text-align: right;\">\n",
       "      <th></th>\n",
       "      <th>beds</th>\n",
       "      <th>baths</th>\n",
       "      <th>size</th>\n",
       "      <th>size_units</th>\n",
       "      <th>lot_size</th>\n",
       "      <th>lot_size_units</th>\n",
       "      <th>zip_code</th>\n",
       "      <th>price</th>\n",
       "    </tr>\n",
       "  </thead>\n",
       "  <tbody>\n",
       "    <tr>\n",
       "      <th>0</th>\n",
       "      <td>3</td>\n",
       "      <td>2.5</td>\n",
       "      <td>2590.0</td>\n",
       "      <td>sqft</td>\n",
       "      <td>6000.00</td>\n",
       "      <td>sqft</td>\n",
       "      <td>98144</td>\n",
       "      <td>795000.0</td>\n",
       "    </tr>\n",
       "    <tr>\n",
       "      <th>1</th>\n",
       "      <td>4</td>\n",
       "      <td>2.0</td>\n",
       "      <td>2240.0</td>\n",
       "      <td>sqft</td>\n",
       "      <td>0.31</td>\n",
       "      <td>acre</td>\n",
       "      <td>98106</td>\n",
       "      <td>915000.0</td>\n",
       "    </tr>\n",
       "    <tr>\n",
       "      <th>2</th>\n",
       "      <td>4</td>\n",
       "      <td>3.0</td>\n",
       "      <td>2040.0</td>\n",
       "      <td>sqft</td>\n",
       "      <td>3783.00</td>\n",
       "      <td>sqft</td>\n",
       "      <td>98107</td>\n",
       "      <td>950000.0</td>\n",
       "    </tr>\n",
       "    <tr>\n",
       "      <th>3</th>\n",
       "      <td>4</td>\n",
       "      <td>3.0</td>\n",
       "      <td>3800.0</td>\n",
       "      <td>sqft</td>\n",
       "      <td>5175.00</td>\n",
       "      <td>sqft</td>\n",
       "      <td>98199</td>\n",
       "      <td>1950000.0</td>\n",
       "    </tr>\n",
       "    <tr>\n",
       "      <th>4</th>\n",
       "      <td>2</td>\n",
       "      <td>2.0</td>\n",
       "      <td>1042.0</td>\n",
       "      <td>sqft</td>\n",
       "      <td>NaN</td>\n",
       "      <td>NaN</td>\n",
       "      <td>98102</td>\n",
       "      <td>950000.0</td>\n",
       "    </tr>\n",
       "  </tbody>\n",
       "</table>\n",
       "</div>"
      ],
      "text/plain": [
       "   beds  baths    size size_units  lot_size lot_size_units  zip_code  \\\n",
       "0     3    2.5  2590.0       sqft   6000.00           sqft     98144   \n",
       "1     4    2.0  2240.0       sqft      0.31           acre     98106   \n",
       "2     4    3.0  2040.0       sqft   3783.00           sqft     98107   \n",
       "3     4    3.0  3800.0       sqft   5175.00           sqft     98199   \n",
       "4     2    2.0  1042.0       sqft       NaN            NaN     98102   \n",
       "\n",
       "       price  \n",
       "0   795000.0  \n",
       "1   915000.0  \n",
       "2   950000.0  \n",
       "3  1950000.0  \n",
       "4   950000.0  "
      ]
     },
     "execution_count": 174,
     "metadata": {},
     "output_type": "execute_result"
    }
   ],
   "source": [
    "union_df.head()"
   ]
  },
  {
   "cell_type": "code",
   "execution_count": 175,
   "id": "f45862a8-db5e-4386-af26-6d2125124ca1",
   "metadata": {},
   "outputs": [],
   "source": [
    "data = union_df.copy()"
   ]
  },
  {
   "cell_type": "code",
   "execution_count": 176,
   "id": "a994960f-a608-4390-9060-e52b3810e68a",
   "metadata": {},
   "outputs": [
    {
     "data": {
      "text/html": [
       "<div>\n",
       "<style scoped>\n",
       "    .dataframe tbody tr th:only-of-type {\n",
       "        vertical-align: middle;\n",
       "    }\n",
       "\n",
       "    .dataframe tbody tr th {\n",
       "        vertical-align: top;\n",
       "    }\n",
       "\n",
       "    .dataframe thead th {\n",
       "        text-align: right;\n",
       "    }\n",
       "</style>\n",
       "<table border=\"1\" class=\"dataframe\">\n",
       "  <thead>\n",
       "    <tr style=\"text-align: right;\">\n",
       "      <th></th>\n",
       "      <th>beds</th>\n",
       "      <th>baths</th>\n",
       "      <th>size</th>\n",
       "      <th>size_units</th>\n",
       "      <th>lot_size</th>\n",
       "      <th>lot_size_units</th>\n",
       "      <th>zip_code</th>\n",
       "      <th>price</th>\n",
       "    </tr>\n",
       "  </thead>\n",
       "  <tbody>\n",
       "    <tr>\n",
       "      <th>count</th>\n",
       "      <td>2521.000000</td>\n",
       "      <td>2521.000000</td>\n",
       "      <td>2521.000000</td>\n",
       "      <td>2521</td>\n",
       "      <td>2097.000000</td>\n",
       "      <td>2097</td>\n",
       "      <td>2521.000000</td>\n",
       "      <td>2.521000e+03</td>\n",
       "    </tr>\n",
       "    <tr>\n",
       "      <th>unique</th>\n",
       "      <td>NaN</td>\n",
       "      <td>NaN</td>\n",
       "      <td>NaN</td>\n",
       "      <td>1</td>\n",
       "      <td>NaN</td>\n",
       "      <td>2</td>\n",
       "      <td>NaN</td>\n",
       "      <td>NaN</td>\n",
       "    </tr>\n",
       "    <tr>\n",
       "      <th>top</th>\n",
       "      <td>NaN</td>\n",
       "      <td>NaN</td>\n",
       "      <td>NaN</td>\n",
       "      <td>sqft</td>\n",
       "      <td>NaN</td>\n",
       "      <td>sqft</td>\n",
       "      <td>NaN</td>\n",
       "      <td>NaN</td>\n",
       "    </tr>\n",
       "    <tr>\n",
       "      <th>freq</th>\n",
       "      <td>NaN</td>\n",
       "      <td>NaN</td>\n",
       "      <td>NaN</td>\n",
       "      <td>2521</td>\n",
       "      <td>NaN</td>\n",
       "      <td>1818</td>\n",
       "      <td>NaN</td>\n",
       "      <td>NaN</td>\n",
       "    </tr>\n",
       "    <tr>\n",
       "      <th>mean</th>\n",
       "      <td>2.877033</td>\n",
       "      <td>2.171956</td>\n",
       "      <td>1758.998017</td>\n",
       "      <td>NaN</td>\n",
       "      <td>3896.245794</td>\n",
       "      <td>NaN</td>\n",
       "      <td>98123.984927</td>\n",
       "      <td>9.668217e+05</td>\n",
       "    </tr>\n",
       "    <tr>\n",
       "      <th>std</th>\n",
       "      <td>1.247518</td>\n",
       "      <td>1.004397</td>\n",
       "      <td>921.608036</td>\n",
       "      <td>NaN</td>\n",
       "      <td>2714.651578</td>\n",
       "      <td>NaN</td>\n",
       "      <td>23.118736</td>\n",
       "      <td>8.870111e+05</td>\n",
       "    </tr>\n",
       "    <tr>\n",
       "      <th>min</th>\n",
       "      <td>1.000000</td>\n",
       "      <td>0.500000</td>\n",
       "      <td>250.000000</td>\n",
       "      <td>NaN</td>\n",
       "      <td>0.230000</td>\n",
       "      <td>NaN</td>\n",
       "      <td>98101.000000</td>\n",
       "      <td>1.590000e+05</td>\n",
       "    </tr>\n",
       "    <tr>\n",
       "      <th>25%</th>\n",
       "      <td>2.000000</td>\n",
       "      <td>1.500000</td>\n",
       "      <td>1086.000000</td>\n",
       "      <td>NaN</td>\n",
       "      <td>1263.000000</td>\n",
       "      <td>NaN</td>\n",
       "      <td>98108.000000</td>\n",
       "      <td>6.050000e+05</td>\n",
       "    </tr>\n",
       "    <tr>\n",
       "      <th>50%</th>\n",
       "      <td>3.000000</td>\n",
       "      <td>2.000000</td>\n",
       "      <td>1580.000000</td>\n",
       "      <td>NaN</td>\n",
       "      <td>4001.000000</td>\n",
       "      <td>NaN</td>\n",
       "      <td>98117.000000</td>\n",
       "      <td>8.130000e+05</td>\n",
       "    </tr>\n",
       "    <tr>\n",
       "      <th>75%</th>\n",
       "      <td>4.000000</td>\n",
       "      <td>2.500000</td>\n",
       "      <td>2270.000000</td>\n",
       "      <td>NaN</td>\n",
       "      <td>6000.000000</td>\n",
       "      <td>NaN</td>\n",
       "      <td>98126.000000</td>\n",
       "      <td>1.115000e+06</td>\n",
       "    </tr>\n",
       "    <tr>\n",
       "      <th>max</th>\n",
       "      <td>15.000000</td>\n",
       "      <td>9.000000</td>\n",
       "      <td>11010.000000</td>\n",
       "      <td>NaN</td>\n",
       "      <td>9998.000000</td>\n",
       "      <td>NaN</td>\n",
       "      <td>98199.000000</td>\n",
       "      <td>2.500000e+07</td>\n",
       "    </tr>\n",
       "  </tbody>\n",
       "</table>\n",
       "</div>"
      ],
      "text/plain": [
       "               beds        baths          size size_units     lot_size  \\\n",
       "count   2521.000000  2521.000000   2521.000000       2521  2097.000000   \n",
       "unique          NaN          NaN           NaN          1          NaN   \n",
       "top             NaN          NaN           NaN       sqft          NaN   \n",
       "freq            NaN          NaN           NaN       2521          NaN   \n",
       "mean       2.877033     2.171956   1758.998017        NaN  3896.245794   \n",
       "std        1.247518     1.004397    921.608036        NaN  2714.651578   \n",
       "min        1.000000     0.500000    250.000000        NaN     0.230000   \n",
       "25%        2.000000     1.500000   1086.000000        NaN  1263.000000   \n",
       "50%        3.000000     2.000000   1580.000000        NaN  4001.000000   \n",
       "75%        4.000000     2.500000   2270.000000        NaN  6000.000000   \n",
       "max       15.000000     9.000000  11010.000000        NaN  9998.000000   \n",
       "\n",
       "       lot_size_units      zip_code         price  \n",
       "count            2097   2521.000000  2.521000e+03  \n",
       "unique              2           NaN           NaN  \n",
       "top              sqft           NaN           NaN  \n",
       "freq             1818           NaN           NaN  \n",
       "mean              NaN  98123.984927  9.668217e+05  \n",
       "std               NaN     23.118736  8.870111e+05  \n",
       "min               NaN  98101.000000  1.590000e+05  \n",
       "25%               NaN  98108.000000  6.050000e+05  \n",
       "50%               NaN  98117.000000  8.130000e+05  \n",
       "75%               NaN  98126.000000  1.115000e+06  \n",
       "max               NaN  98199.000000  2.500000e+07  "
      ]
     },
     "execution_count": 176,
     "metadata": {},
     "output_type": "execute_result"
    }
   ],
   "source": [
    "data.describe(include=\"all\")"
   ]
  },
  {
   "cell_type": "code",
   "execution_count": 177,
   "id": "bff7bd65-0e43-46e5-8489-d3ea9b11bc73",
   "metadata": {},
   "outputs": [
    {
     "data": {
      "text/plain": [
       "size_units\n",
       "sqft    2521\n",
       "Name: count, dtype: int64"
      ]
     },
     "execution_count": 177,
     "metadata": {},
     "output_type": "execute_result"
    }
   ],
   "source": [
    "data[\"size_units\"].value_counts()"
   ]
  },
  {
   "cell_type": "code",
   "execution_count": 178,
   "id": "57da303a-1609-4ca7-bdbb-479dfb1871ce",
   "metadata": {},
   "outputs": [
    {
     "data": {
      "text/plain": [
       "lot_size_units\n",
       "sqft    1818\n",
       "acre     279\n",
       "Name: count, dtype: int64"
      ]
     },
     "execution_count": 178,
     "metadata": {},
     "output_type": "execute_result"
    }
   ],
   "source": [
    "data[\"lot_size_units\"].value_counts()"
   ]
  },
  {
   "cell_type": "markdown",
   "id": "00df3e89-ed51-4433-ad05-5138bcd5a099",
   "metadata": {},
   "source": [
    "##### I have to change the units to the same units, but first lets categorize zip codes accorgin to socioeconomic status and drop the columns not needed."
   ]
  },
  {
   "cell_type": "code",
   "execution_count": 179,
   "id": "58322667-4df2-4d5c-982c-cd291b54f739",
   "metadata": {},
   "outputs": [],
   "source": [
    "# Done by copilot, which claims that it is based on median household income of the areas under the given zipcode.\n",
    "\n",
    "seattle_zip_categories = {\n",
    "\n",
    "   \"98144\": \"middle lower\",\n",
    "    \"98106\": \"middle lower\",\n",
    "    \"98107\": \"middle upper\",\n",
    "    \"98199\": \"affluent\",\n",
    "    \"98102\": \"middle upper\",\n",
    "    \"98133\": \"middle lower\",\n",
    "    \"98105\": \"middle lower\",\n",
    "    \"98108\": \"middle lower\",\n",
    "    \"98178\": \"middle lower\",\n",
    "    \"98103\": \"middle upper\",\n",
    "    \"98177\": \"affluent\",\n",
    "    \"98115\": \"middle upper\",\n",
    "    \"98122\": \"middle lower\",\n",
    "    \"98119\": \"middle upper\",\n",
    "    \"98117\": \"affluent\",\n",
    "    \"98116\": \"middle upper\",\n",
    "    \"98146\": \"middle lower\",\n",
    "    \"98109\": \"middle upper\",\n",
    "    \"98125\": \"middle lower\",\n",
    "    \"98101\": \"middle lower\",\n",
    "    \"98126\": \"middle lower\",\n",
    "    \"98118\": \"middle lower\",\n",
    "    \"98112\": \"affluent\",\n",
    "    \"98121\": \"affluent\",\n",
    "    \"98136\": \"affluent\",\n",
    "    \"98168\": \"lower\",\n",
    "    \"98104\": \"lower\",\n",
    "    \"98164\": \"affluent\",\n",
    "    \"98188\": \"lower\"\n",
    "\n",
    "}\n"
   ]
  },
  {
   "cell_type": "code",
   "execution_count": 180,
   "id": "94335421-7723-46bb-92a9-f2c261bd2998",
   "metadata": {},
   "outputs": [],
   "source": [
    "data[\"zip_code_category\"] = data.apply(lambda row: seattle_zip_categories.get(str(row[\"zip_code\"])), axis = 1)"
   ]
  },
  {
   "cell_type": "code",
   "execution_count": 181,
   "id": "dd247365-7e16-48fa-a13f-3651ab45b722",
   "metadata": {},
   "outputs": [
    {
     "data": {
      "text/html": [
       "<div>\n",
       "<style scoped>\n",
       "    .dataframe tbody tr th:only-of-type {\n",
       "        vertical-align: middle;\n",
       "    }\n",
       "\n",
       "    .dataframe tbody tr th {\n",
       "        vertical-align: top;\n",
       "    }\n",
       "\n",
       "    .dataframe thead th {\n",
       "        text-align: right;\n",
       "    }\n",
       "</style>\n",
       "<table border=\"1\" class=\"dataframe\">\n",
       "  <thead>\n",
       "    <tr style=\"text-align: right;\">\n",
       "      <th></th>\n",
       "      <th>beds</th>\n",
       "      <th>baths</th>\n",
       "      <th>size</th>\n",
       "      <th>size_units</th>\n",
       "      <th>lot_size</th>\n",
       "      <th>lot_size_units</th>\n",
       "      <th>zip_code</th>\n",
       "      <th>price</th>\n",
       "      <th>zip_code_category</th>\n",
       "    </tr>\n",
       "  </thead>\n",
       "  <tbody>\n",
       "    <tr>\n",
       "      <th>0</th>\n",
       "      <td>3</td>\n",
       "      <td>2.5</td>\n",
       "      <td>2590.0</td>\n",
       "      <td>sqft</td>\n",
       "      <td>6000.00</td>\n",
       "      <td>sqft</td>\n",
       "      <td>98144</td>\n",
       "      <td>795000.0</td>\n",
       "      <td>middle lower</td>\n",
       "    </tr>\n",
       "    <tr>\n",
       "      <th>1</th>\n",
       "      <td>4</td>\n",
       "      <td>2.0</td>\n",
       "      <td>2240.0</td>\n",
       "      <td>sqft</td>\n",
       "      <td>0.31</td>\n",
       "      <td>acre</td>\n",
       "      <td>98106</td>\n",
       "      <td>915000.0</td>\n",
       "      <td>middle lower</td>\n",
       "    </tr>\n",
       "    <tr>\n",
       "      <th>2</th>\n",
       "      <td>4</td>\n",
       "      <td>3.0</td>\n",
       "      <td>2040.0</td>\n",
       "      <td>sqft</td>\n",
       "      <td>3783.00</td>\n",
       "      <td>sqft</td>\n",
       "      <td>98107</td>\n",
       "      <td>950000.0</td>\n",
       "      <td>middle upper</td>\n",
       "    </tr>\n",
       "    <tr>\n",
       "      <th>3</th>\n",
       "      <td>4</td>\n",
       "      <td>3.0</td>\n",
       "      <td>3800.0</td>\n",
       "      <td>sqft</td>\n",
       "      <td>5175.00</td>\n",
       "      <td>sqft</td>\n",
       "      <td>98199</td>\n",
       "      <td>1950000.0</td>\n",
       "      <td>affluent</td>\n",
       "    </tr>\n",
       "    <tr>\n",
       "      <th>4</th>\n",
       "      <td>2</td>\n",
       "      <td>2.0</td>\n",
       "      <td>1042.0</td>\n",
       "      <td>sqft</td>\n",
       "      <td>NaN</td>\n",
       "      <td>NaN</td>\n",
       "      <td>98102</td>\n",
       "      <td>950000.0</td>\n",
       "      <td>middle upper</td>\n",
       "    </tr>\n",
       "  </tbody>\n",
       "</table>\n",
       "</div>"
      ],
      "text/plain": [
       "   beds  baths    size size_units  lot_size lot_size_units  zip_code  \\\n",
       "0     3    2.5  2590.0       sqft   6000.00           sqft     98144   \n",
       "1     4    2.0  2240.0       sqft      0.31           acre     98106   \n",
       "2     4    3.0  2040.0       sqft   3783.00           sqft     98107   \n",
       "3     4    3.0  3800.0       sqft   5175.00           sqft     98199   \n",
       "4     2    2.0  1042.0       sqft       NaN            NaN     98102   \n",
       "\n",
       "       price zip_code_category  \n",
       "0   795000.0      middle lower  \n",
       "1   915000.0      middle lower  \n",
       "2   950000.0      middle upper  \n",
       "3  1950000.0          affluent  \n",
       "4   950000.0      middle upper  "
      ]
     },
     "execution_count": 181,
     "metadata": {},
     "output_type": "execute_result"
    }
   ],
   "source": [
    "data.head()"
   ]
  },
  {
   "cell_type": "code",
   "execution_count": 182,
   "id": "60c7950c-c341-4f2b-ade4-1934603c6a7a",
   "metadata": {},
   "outputs": [
    {
     "data": {
      "text/plain": [
       "array([98144, 98106, 98107, 98199, 98102, 98133, 98105, 98108, 98178,\n",
       "       98103, 98177, 98115, 98122, 98119, 98117, 98116, 98146, 98109,\n",
       "       98125, 98101, 98126, 98118, 98112, 98121, 98136, 98168, 98104,\n",
       "       98164, 98188], dtype=int64)"
      ]
     },
     "execution_count": 182,
     "metadata": {},
     "output_type": "execute_result"
    }
   ],
   "source": [
    "data[\"zip_code\"].unique()"
   ]
  },
  {
   "cell_type": "code",
   "execution_count": 183,
   "id": "d48ac5ac-58a5-4f7d-8d6f-e80132b38c3f",
   "metadata": {},
   "outputs": [
    {
     "data": {
      "text/html": [
       "<div>\n",
       "<style scoped>\n",
       "    .dataframe tbody tr th:only-of-type {\n",
       "        vertical-align: middle;\n",
       "    }\n",
       "\n",
       "    .dataframe tbody tr th {\n",
       "        vertical-align: top;\n",
       "    }\n",
       "\n",
       "    .dataframe thead th {\n",
       "        text-align: right;\n",
       "    }\n",
       "</style>\n",
       "<table border=\"1\" class=\"dataframe\">\n",
       "  <thead>\n",
       "    <tr style=\"text-align: right;\">\n",
       "      <th></th>\n",
       "      <th>beds</th>\n",
       "      <th>baths</th>\n",
       "      <th>size</th>\n",
       "      <th>size_units</th>\n",
       "      <th>lot_size</th>\n",
       "      <th>lot_size_units</th>\n",
       "      <th>zip_code</th>\n",
       "      <th>price</th>\n",
       "      <th>zip_code_category</th>\n",
       "    </tr>\n",
       "  </thead>\n",
       "  <tbody>\n",
       "  </tbody>\n",
       "</table>\n",
       "</div>"
      ],
      "text/plain": [
       "Empty DataFrame\n",
       "Columns: [beds, baths, size, size_units, lot_size, lot_size_units, zip_code, price, zip_code_category]\n",
       "Index: []"
      ]
     },
     "execution_count": 183,
     "metadata": {},
     "output_type": "execute_result"
    }
   ],
   "source": [
    "data[data[\"zip_code_category\"].isnull()]"
   ]
  },
  {
   "cell_type": "code",
   "execution_count": 184,
   "id": "eaf32671-35fd-4dba-ae14-4b8dc51235fa",
   "metadata": {},
   "outputs": [],
   "source": [
    "data.drop(columns=[\"zip_code\",\"size_units\"], inplace=True)"
   ]
  },
  {
   "cell_type": "code",
   "execution_count": 185,
   "id": "9ccfd0e3-ec19-4bf7-aca2-956a97d7c8cf",
   "metadata": {},
   "outputs": [
    {
     "data": {
      "text/plain": [
       "beds                   0\n",
       "baths                  0\n",
       "size                   0\n",
       "lot_size             424\n",
       "lot_size_units       424\n",
       "price                  0\n",
       "zip_code_category      0\n",
       "dtype: int64"
      ]
     },
     "execution_count": 185,
     "metadata": {},
     "output_type": "execute_result"
    }
   ],
   "source": [
    "data.isnull().sum()"
   ]
  },
  {
   "cell_type": "markdown",
   "id": "cf13daa6-584d-47b5-ba8b-3771613c9816",
   "metadata": {},
   "source": [
    "##### What is the proportion potentially dropped?"
   ]
  },
  {
   "cell_type": "code",
   "execution_count": 186,
   "id": "4a96f31c-e2c5-43a5-982e-7d599c7c8aa8",
   "metadata": {},
   "outputs": [
    {
     "data": {
      "text/plain": [
       "0.16818722729075763"
      ]
     },
     "execution_count": 186,
     "metadata": {},
     "output_type": "execute_result"
    }
   ],
   "source": [
    "424/2521"
   ]
  },
  {
   "cell_type": "code",
   "execution_count": 187,
   "id": "1c6983aa-9638-45dd-b9ef-b8d7fd113c04",
   "metadata": {},
   "outputs": [],
   "source": [
    "data.dropna(axis=0, inplace=True)"
   ]
  },
  {
   "cell_type": "code",
   "execution_count": 188,
   "id": "eeb1cc09-987d-484f-b792-b1f2cc892894",
   "metadata": {},
   "outputs": [],
   "source": [
    "data_no_missing_values = data.copy()"
   ]
  },
  {
   "cell_type": "code",
   "execution_count": 189,
   "id": "f50bb9b3-3cfd-42e6-bf81-10285f849afa",
   "metadata": {},
   "outputs": [
    {
     "data": {
      "text/html": [
       "<div>\n",
       "<style scoped>\n",
       "    .dataframe tbody tr th:only-of-type {\n",
       "        vertical-align: middle;\n",
       "    }\n",
       "\n",
       "    .dataframe tbody tr th {\n",
       "        vertical-align: top;\n",
       "    }\n",
       "\n",
       "    .dataframe thead th {\n",
       "        text-align: right;\n",
       "    }\n",
       "</style>\n",
       "<table border=\"1\" class=\"dataframe\">\n",
       "  <thead>\n",
       "    <tr style=\"text-align: right;\">\n",
       "      <th></th>\n",
       "      <th>beds</th>\n",
       "      <th>baths</th>\n",
       "      <th>size</th>\n",
       "      <th>lot_size</th>\n",
       "      <th>lot_size_units</th>\n",
       "      <th>price</th>\n",
       "      <th>zip_code_category</th>\n",
       "    </tr>\n",
       "  </thead>\n",
       "  <tbody>\n",
       "    <tr>\n",
       "      <th>0</th>\n",
       "      <td>3</td>\n",
       "      <td>2.5</td>\n",
       "      <td>2590.0</td>\n",
       "      <td>6000.00</td>\n",
       "      <td>sqft</td>\n",
       "      <td>795000.0</td>\n",
       "      <td>middle lower</td>\n",
       "    </tr>\n",
       "    <tr>\n",
       "      <th>1</th>\n",
       "      <td>4</td>\n",
       "      <td>2.0</td>\n",
       "      <td>2240.0</td>\n",
       "      <td>0.31</td>\n",
       "      <td>acre</td>\n",
       "      <td>915000.0</td>\n",
       "      <td>middle lower</td>\n",
       "    </tr>\n",
       "    <tr>\n",
       "      <th>2</th>\n",
       "      <td>4</td>\n",
       "      <td>3.0</td>\n",
       "      <td>2040.0</td>\n",
       "      <td>3783.00</td>\n",
       "      <td>sqft</td>\n",
       "      <td>950000.0</td>\n",
       "      <td>middle upper</td>\n",
       "    </tr>\n",
       "    <tr>\n",
       "      <th>3</th>\n",
       "      <td>4</td>\n",
       "      <td>3.0</td>\n",
       "      <td>3800.0</td>\n",
       "      <td>5175.00</td>\n",
       "      <td>sqft</td>\n",
       "      <td>1950000.0</td>\n",
       "      <td>affluent</td>\n",
       "    </tr>\n",
       "    <tr>\n",
       "      <th>5</th>\n",
       "      <td>2</td>\n",
       "      <td>2.0</td>\n",
       "      <td>1190.0</td>\n",
       "      <td>1.00</td>\n",
       "      <td>acre</td>\n",
       "      <td>740000.0</td>\n",
       "      <td>middle upper</td>\n",
       "    </tr>\n",
       "  </tbody>\n",
       "</table>\n",
       "</div>"
      ],
      "text/plain": [
       "   beds  baths    size  lot_size lot_size_units      price zip_code_category\n",
       "0     3    2.5  2590.0   6000.00           sqft   795000.0      middle lower\n",
       "1     4    2.0  2240.0      0.31           acre   915000.0      middle lower\n",
       "2     4    3.0  2040.0   3783.00           sqft   950000.0      middle upper\n",
       "3     4    3.0  3800.0   5175.00           sqft  1950000.0          affluent\n",
       "5     2    2.0  1190.0      1.00           acre   740000.0      middle upper"
      ]
     },
     "execution_count": 189,
     "metadata": {},
     "output_type": "execute_result"
    }
   ],
   "source": [
    "data_no_missing_values.head()"
   ]
  },
  {
   "cell_type": "code",
   "execution_count": 190,
   "id": "2e000259-7ee1-43a1-a51f-1ec10e60ff1b",
   "metadata": {},
   "outputs": [],
   "source": [
    "conversion_factors = {\n",
    "    'acre': 43560,\n",
    "    'sqm': 10.7639,\n",
    "    'sqft': 1\n",
    "}\n",
    "\n",
    "data_no_missing_values[\"lot_size_in_sqft\"] = data_no_missing_values.apply (lambda row: row[\"lot_size\"] * conversion_factors.get(row[\"lot_size_units\"], 1), axis=1)"
   ]
  },
  {
   "cell_type": "code",
   "execution_count": 191,
   "id": "8dbb4a01-9bfc-4d6b-97cb-ca987026b562",
   "metadata": {},
   "outputs": [
    {
     "data": {
      "text/plain": [
       "Index(['beds', 'baths', 'size', 'lot_size', 'lot_size_units', 'price',\n",
       "       'zip_code_category', 'lot_size_in_sqft'],\n",
       "      dtype='object')"
      ]
     },
     "execution_count": 191,
     "metadata": {},
     "output_type": "execute_result"
    }
   ],
   "source": [
    "data_no_missing_values.columns"
   ]
  },
  {
   "cell_type": "code",
   "execution_count": 192,
   "id": "9d7895b1-2613-47d2-9466-64609db31aab",
   "metadata": {},
   "outputs": [],
   "source": [
    "data_no_missing_values.drop(columns=['lot_size', 'lot_size_units'], axis=1, inplace=True)"
   ]
  },
  {
   "cell_type": "code",
   "execution_count": 193,
   "id": "94dedbcd-12a7-4ed2-90be-20809dd273f5",
   "metadata": {},
   "outputs": [],
   "source": [
    "data_no_missing_values.rename(columns={\"size\": \"size_in_sqft\"}, inplace=True)"
   ]
  },
  {
   "cell_type": "code",
   "execution_count": 194,
   "id": "3be60c4b-9707-452b-8c3f-6afcd5744d10",
   "metadata": {},
   "outputs": [
    {
     "name": "stdout",
     "output_type": "stream",
     "text": [
      "<class 'pandas.core.frame.DataFrame'>\n",
      "Index: 2097 entries, 0 to 2520\n",
      "Data columns (total 6 columns):\n",
      " #   Column             Non-Null Count  Dtype  \n",
      "---  ------             --------------  -----  \n",
      " 0   beds               2097 non-null   int64  \n",
      " 1   baths              2097 non-null   float64\n",
      " 2   size_in_sqft       2097 non-null   float64\n",
      " 3   price              2097 non-null   float64\n",
      " 4   zip_code_category  2097 non-null   object \n",
      " 5   lot_size_in_sqft   2097 non-null   float64\n",
      "dtypes: float64(4), int64(1), object(1)\n",
      "memory usage: 114.7+ KB\n"
     ]
    }
   ],
   "source": [
    "data_no_missing_values.info()"
   ]
  },
  {
   "cell_type": "code",
   "execution_count": 195,
   "id": "b3e2f24d-d307-4949-994a-18dfee4a070c",
   "metadata": {},
   "outputs": [
    {
     "data": {
      "text/html": [
       "<div>\n",
       "<style scoped>\n",
       "    .dataframe tbody tr th:only-of-type {\n",
       "        vertical-align: middle;\n",
       "    }\n",
       "\n",
       "    .dataframe tbody tr th {\n",
       "        vertical-align: top;\n",
       "    }\n",
       "\n",
       "    .dataframe thead th {\n",
       "        text-align: right;\n",
       "    }\n",
       "</style>\n",
       "<table border=\"1\" class=\"dataframe\">\n",
       "  <thead>\n",
       "    <tr style=\"text-align: right;\">\n",
       "      <th></th>\n",
       "      <th>beds</th>\n",
       "      <th>baths</th>\n",
       "      <th>size_in_sqft</th>\n",
       "      <th>price</th>\n",
       "      <th>zip_code_category</th>\n",
       "      <th>lot_size_in_sqft</th>\n",
       "    </tr>\n",
       "  </thead>\n",
       "  <tbody>\n",
       "    <tr>\n",
       "      <th>count</th>\n",
       "      <td>2097.000000</td>\n",
       "      <td>2097.000000</td>\n",
       "      <td>2097.000000</td>\n",
       "      <td>2.097000e+03</td>\n",
       "      <td>2097</td>\n",
       "      <td>2.097000e+03</td>\n",
       "    </tr>\n",
       "    <tr>\n",
       "      <th>unique</th>\n",
       "      <td>NaN</td>\n",
       "      <td>NaN</td>\n",
       "      <td>NaN</td>\n",
       "      <td>NaN</td>\n",
       "      <td>4</td>\n",
       "      <td>NaN</td>\n",
       "    </tr>\n",
       "    <tr>\n",
       "      <th>top</th>\n",
       "      <td>NaN</td>\n",
       "      <td>NaN</td>\n",
       "      <td>NaN</td>\n",
       "      <td>NaN</td>\n",
       "      <td>middle lower</td>\n",
       "      <td>NaN</td>\n",
       "    </tr>\n",
       "    <tr>\n",
       "      <th>freq</th>\n",
       "      <td>NaN</td>\n",
       "      <td>NaN</td>\n",
       "      <td>NaN</td>\n",
       "      <td>NaN</td>\n",
       "      <td>907</td>\n",
       "      <td>NaN</td>\n",
       "    </tr>\n",
       "    <tr>\n",
       "      <th>mean</th>\n",
       "      <td>3.137339</td>\n",
       "      <td>2.305436</td>\n",
       "      <td>1916.727706</td>\n",
       "      <td>1.039809e+06</td>\n",
       "      <td>NaN</td>\n",
       "      <td>1.678385e+04</td>\n",
       "    </tr>\n",
       "    <tr>\n",
       "      <th>std</th>\n",
       "      <td>1.175945</td>\n",
       "      <td>1.010824</td>\n",
       "      <td>915.073679</td>\n",
       "      <td>9.415656e+05</td>\n",
       "      <td>NaN</td>\n",
       "      <td>2.571518e+05</td>\n",
       "    </tr>\n",
       "    <tr>\n",
       "      <th>min</th>\n",
       "      <td>1.000000</td>\n",
       "      <td>0.500000</td>\n",
       "      <td>250.000000</td>\n",
       "      <td>1.590000e+05</td>\n",
       "      <td>NaN</td>\n",
       "      <td>5.000000e+02</td>\n",
       "    </tr>\n",
       "    <tr>\n",
       "      <th>25%</th>\n",
       "      <td>2.000000</td>\n",
       "      <td>1.500000</td>\n",
       "      <td>1280.000000</td>\n",
       "      <td>6.850000e+05</td>\n",
       "      <td>NaN</td>\n",
       "      <td>3.000000e+03</td>\n",
       "    </tr>\n",
       "    <tr>\n",
       "      <th>50%</th>\n",
       "      <td>3.000000</td>\n",
       "      <td>2.000000</td>\n",
       "      <td>1740.000000</td>\n",
       "      <td>8.700000e+05</td>\n",
       "      <td>NaN</td>\n",
       "      <td>5.000000e+03</td>\n",
       "    </tr>\n",
       "    <tr>\n",
       "      <th>75%</th>\n",
       "      <td>4.000000</td>\n",
       "      <td>3.000000</td>\n",
       "      <td>2390.000000</td>\n",
       "      <td>1.180000e+06</td>\n",
       "      <td>NaN</td>\n",
       "      <td>7.407000e+03</td>\n",
       "    </tr>\n",
       "    <tr>\n",
       "      <th>max</th>\n",
       "      <td>15.000000</td>\n",
       "      <td>9.000000</td>\n",
       "      <td>11010.000000</td>\n",
       "      <td>2.500000e+07</td>\n",
       "      <td>NaN</td>\n",
       "      <td>1.089000e+07</td>\n",
       "    </tr>\n",
       "  </tbody>\n",
       "</table>\n",
       "</div>"
      ],
      "text/plain": [
       "               beds        baths  size_in_sqft         price  \\\n",
       "count   2097.000000  2097.000000   2097.000000  2.097000e+03   \n",
       "unique          NaN          NaN           NaN           NaN   \n",
       "top             NaN          NaN           NaN           NaN   \n",
       "freq            NaN          NaN           NaN           NaN   \n",
       "mean       3.137339     2.305436   1916.727706  1.039809e+06   \n",
       "std        1.175945     1.010824    915.073679  9.415656e+05   \n",
       "min        1.000000     0.500000    250.000000  1.590000e+05   \n",
       "25%        2.000000     1.500000   1280.000000  6.850000e+05   \n",
       "50%        3.000000     2.000000   1740.000000  8.700000e+05   \n",
       "75%        4.000000     3.000000   2390.000000  1.180000e+06   \n",
       "max       15.000000     9.000000  11010.000000  2.500000e+07   \n",
       "\n",
       "       zip_code_category  lot_size_in_sqft  \n",
       "count               2097      2.097000e+03  \n",
       "unique                 4               NaN  \n",
       "top         middle lower               NaN  \n",
       "freq                 907               NaN  \n",
       "mean                 NaN      1.678385e+04  \n",
       "std                  NaN      2.571518e+05  \n",
       "min                  NaN      5.000000e+02  \n",
       "25%                  NaN      3.000000e+03  \n",
       "50%                  NaN      5.000000e+03  \n",
       "75%                  NaN      7.407000e+03  \n",
       "max                  NaN      1.089000e+07  "
      ]
     },
     "execution_count": 195,
     "metadata": {},
     "output_type": "execute_result"
    }
   ],
   "source": [
    "data_no_missing_values.describe(include=\"all\")"
   ]
  },
  {
   "cell_type": "markdown",
   "id": "6a0cda56-fc31-46e6-a3b8-b93bf1acceab",
   "metadata": {},
   "source": [
    "### Here I have the data prepared for the final preprocessing - outliers cut."
   ]
  },
  {
   "cell_type": "code",
   "execution_count": 196,
   "id": "91dc2a1d-aee8-445c-a24d-1bd85ff3a6a1",
   "metadata": {},
   "outputs": [],
   "source": [
    "data_clean = data_no_missing_values.copy()"
   ]
  },
  {
   "cell_type": "code",
   "execution_count": 197,
   "id": "4c101adb-ead0-4d5b-b150-e4dcac166de3",
   "metadata": {},
   "outputs": [],
   "source": [
    "sns.set_theme(style=\"darkgrid\")"
   ]
  },
  {
   "cell_type": "code",
   "execution_count": 198,
   "id": "b8b8dc67-d13b-45e8-bbad-f9718ac16eab",
   "metadata": {},
   "outputs": [
    {
     "data": {
      "text/plain": [
       "<seaborn.axisgrid.FacetGrid at 0x26fdc3d2100>"
      ]
     },
     "execution_count": 198,
     "metadata": {},
     "output_type": "execute_result"
    },
    {
     "data": {
      "image/png": "[encoded data removed]",
      "text/plain": [
       "<Figure size 500x500 with 1 Axes>"
      ]
     },
     "metadata": {},
     "output_type": "display_data"
    }
   ],
   "source": [
    "sns.displot(data_clean[\"price\"])"
   ]
  },
  {
   "cell_type": "markdown",
   "id": "46fcbe73-8779-4965-b30a-1a3b30e28a10",
   "metadata": {},
   "source": [
    "##### Lets drop above q3 + 1,5 * interquartille range in price."
   ]
  },
  {
   "cell_type": "code",
   "execution_count": 199,
   "id": "14267bda-2012-4122-a443-c82fbad99005",
   "metadata": {},
   "outputs": [],
   "source": [
    "q1 = data_clean[\"price\"].quantile(0.25)\n",
    "q3 = data_clean[\"price\"].quantile(0.75)\n",
    "iqr = q3 - q1\n",
    "outlier_price_upper = q3 + 1.5 * iqr\n",
    "outlier_price_lower = q1 - 1.5 * iqr"
   ]
  },
  {
   "cell_type": "code",
   "execution_count": 200,
   "id": "f751f5a4-5473-4b2e-bda0-59086ba259e9",
   "metadata": {},
   "outputs": [],
   "source": [
    "data_price_outliers = data_clean[data_clean[\"price\"].between(outlier_price_lower, outlier_price_upper)]"
   ]
  },
  {
   "cell_type": "code",
   "execution_count": 201,
   "id": "6071f7ca-f85b-48a2-8c76-514e5ed06868",
   "metadata": {},
   "outputs": [
    {
     "name": "stdout",
     "output_type": "stream",
     "text": [
      "<class 'pandas.core.frame.DataFrame'>\n",
      "Index: 1962 entries, 0 to 2520\n",
      "Data columns (total 6 columns):\n",
      " #   Column             Non-Null Count  Dtype  \n",
      "---  ------             --------------  -----  \n",
      " 0   beds               1962 non-null   int64  \n",
      " 1   baths              1962 non-null   float64\n",
      " 2   size_in_sqft       1962 non-null   float64\n",
      " 3   price              1962 non-null   float64\n",
      " 4   zip_code_category  1962 non-null   object \n",
      " 5   lot_size_in_sqft   1962 non-null   float64\n",
      "dtypes: float64(4), int64(1), object(1)\n",
      "memory usage: 107.3+ KB\n"
     ]
    }
   ],
   "source": [
    "data_price_outliers.info()"
   ]
  },
  {
   "cell_type": "code",
   "execution_count": 202,
   "id": "615fbab6-47db-4609-907c-b0606c79a680",
   "metadata": {},
   "outputs": [
    {
     "data": {
      "text/plain": [
       "<seaborn.axisgrid.FacetGrid at 0x26fdc531220>"
      ]
     },
     "execution_count": 202,
     "metadata": {},
     "output_type": "execute_result"
    },
    {
     "data": {
      "image/png": "[encoded data removed]",
      "text/plain": [
       "<Figure size 500x500 with 1 Axes>"
      ]
     },
     "metadata": {},
     "output_type": "display_data"
    }
   ],
   "source": [
    "sns.displot(data_price_outliers[\"price\"])"
   ]
  },
  {
   "cell_type": "markdown",
   "id": "14a7a0df-95ad-4a90-b570-f58aae90d47f",
   "metadata": {},
   "source": [
    "##### Get rid of the beds outliers base on IQR again."
   ]
  },
  {
   "cell_type": "code",
   "execution_count": 203,
   "id": "ffc6bc12-7a6f-46d9-9a0b-0fb20d212781",
   "metadata": {},
   "outputs": [],
   "source": [
    "q1 = data_price_outliers[\"beds\"].quantile(0.25)\n",
    "q3 = data_price_outliers[\"beds\"].quantile(0.75)\n",
    "iqr = q3 - q1\n",
    "outlier_beds_upper = q3 + 1.5 * iqr\n",
    "outlier_beds_lower = q1 - 1.5 * iqr"
   ]
  },
  {
   "cell_type": "code",
   "execution_count": 204,
   "id": "dc3f749b-ecb8-4adf-9230-f0ef147f15b7",
   "metadata": {},
   "outputs": [],
   "source": [
    "data_beds_outliers = data_price_outliers[data_price_outliers[\"beds\"].between(outlier_beds_lower, outlier_beds_upper)]"
   ]
  },
  {
   "cell_type": "code",
   "execution_count": 205,
   "id": "d28968bc-55ce-4fcf-9306-af88b61721b9",
   "metadata": {},
   "outputs": [
    {
     "data": {
      "text/plain": [
       "<seaborn.axisgrid.FacetGrid at 0x26fdc82ec70>"
      ]
     },
     "execution_count": 205,
     "metadata": {},
     "output_type": "execute_result"
    },
    {
     "data": {
      "image/png": "[encoded data removed]",
      "text/plain": [
       "<Figure size 500x500 with 1 Axes>"
      ]
     },
     "metadata": {},
     "output_type": "display_data"
    }
   ],
   "source": [
    "sns.displot(data_beds_outliers[\"beds\"])"
   ]
  },
  {
   "cell_type": "code",
   "execution_count": 206,
   "id": "029ad315-13bc-48b5-af45-dc4cf0e3a003",
   "metadata": {},
   "outputs": [
    {
     "data": {
      "text/plain": [
       "<seaborn.axisgrid.FacetGrid at 0x26fdc8c5790>"
      ]
     },
     "execution_count": 206,
     "metadata": {},
     "output_type": "execute_result"
    },
    {
     "data": {
      "image/png": "[encoded data removed]",
      "text/plain": [
       "<Figure size 500x500 with 1 Axes>"
      ]
     },
     "metadata": {},
     "output_type": "display_data"
    }
   ],
   "source": [
    "sns.displot(data_beds_outliers[\"baths\"])"
   ]
  },
  {
   "cell_type": "markdown",
   "id": "0f5ce098-0b81-4b6b-8cdb-0a9f7f763ed8",
   "metadata": {},
   "source": [
    "##### Get rid of baths outliers based on IQR again."
   ]
  },
  {
   "cell_type": "code",
   "execution_count": 207,
   "id": "1404cc6e-a3fb-4776-aae8-942205fb45bc",
   "metadata": {},
   "outputs": [],
   "source": [
    "q1 = data_beds_outliers[\"baths\"].quantile(0.25)\n",
    "q3 = data_beds_outliers[\"baths\"].quantile(0.75)\n",
    "iqr = q3 - q1\n",
    "outlier_baths_upper = q3 + 1.5 * iqr\n",
    "outlier_baths_lower = q1 - 1.5 * iqr"
   ]
  },
  {
   "cell_type": "code",
   "execution_count": 208,
   "id": "c754b076-20fa-414d-863c-6e6de5e82a8a",
   "metadata": {},
   "outputs": [],
   "source": [
    "data_baths_outliers = data_beds_outliers[data_beds_outliers[\"baths\"].between(outlier_baths_lower, outlier_baths_upper)]"
   ]
  },
  {
   "cell_type": "code",
   "execution_count": 209,
   "id": "00490c32-306a-4723-8283-ef7d07f33790",
   "metadata": {},
   "outputs": [
    {
     "data": {
      "text/plain": [
       "<seaborn.axisgrid.FacetGrid at 0x26fdc942400>"
      ]
     },
     "execution_count": 209,
     "metadata": {},
     "output_type": "execute_result"
    },
    {
     "data": {
      "image/png": "[encoded data removed]",
      "text/plain": [
       "<Figure size 500x500 with 1 Axes>"
      ]
     },
     "metadata": {},
     "output_type": "display_data"
    }
   ],
   "source": [
    "sns.displot(data_baths_outliers[\"baths\"])"
   ]
  },
  {
   "cell_type": "code",
   "execution_count": 210,
   "id": "08960cee-bd81-4be1-888b-7ace6791a42b",
   "metadata": {},
   "outputs": [
    {
     "data": {
      "text/plain": [
       "<seaborn.axisgrid.FacetGrid at 0x26fdd9e77c0>"
      ]
     },
     "execution_count": 210,
     "metadata": {},
     "output_type": "execute_result"
    },
    {
     "data": {
      "image/png": "[encoded data removed]",
      "text/plain": [
       "<Figure size 500x500 with 1 Axes>"
      ]
     },
     "metadata": {},
     "output_type": "display_data"
    }
   ],
   "source": [
    "sns.displot(data_baths_outliers[\"size_in_sqft\"])"
   ]
  },
  {
   "cell_type": "code",
   "execution_count": 211,
   "id": "521cf356-0144-4fa4-97e9-ddbf68ee2a86",
   "metadata": {},
   "outputs": [
    {
     "data": {
      "text/plain": [
       "3549.5200000000004"
      ]
     },
     "execution_count": 211,
     "metadata": {},
     "output_type": "execute_result"
    }
   ],
   "source": [
    "q = data_baths_outliers[\"size_in_sqft\"].quantile(0.99)\n",
    "q"
   ]
  },
  {
   "cell_type": "code",
   "execution_count": 212,
   "id": "d7220eb7-7a31-449b-8634-9ae1fa460278",
   "metadata": {},
   "outputs": [
    {
     "name": "stdout",
     "output_type": "stream",
     "text": [
      "-304.0 3780.0\n"
     ]
    }
   ],
   "source": [
    "q1 = data_baths_outliers[\"size_in_sqft\"].quantile(0.25)\n",
    "q3 = data_baths_outliers[\"size_in_sqft\"].quantile(0.75)\n",
    "iqr = q3 - q1\n",
    "outlier_size_upper = q3 + 1.5 * iqr\n",
    "outlier_size_lower = q1 - 1.5 * iqr\n",
    "print(outlier_size_lower, outlier_size_upper)"
   ]
  },
  {
   "cell_type": "code",
   "execution_count": 213,
   "id": "3dfbcb83-4f63-46fd-bc18-6442f7ddc6d2",
   "metadata": {},
   "outputs": [],
   "source": [
    "data_size_in_sqt_outliers = data_baths_outliers[data_baths_outliers[\"size_in_sqft\"].between(outlier_size_lower, outlier_size_upper)]"
   ]
  },
  {
   "cell_type": "code",
   "execution_count": 214,
   "id": "325efa17-6f68-4e00-b20b-a7f40572212e",
   "metadata": {},
   "outputs": [
    {
     "data": {
      "text/plain": [
       "<seaborn.axisgrid.FacetGrid at 0x26fdda9a460>"
      ]
     },
     "execution_count": 214,
     "metadata": {},
     "output_type": "execute_result"
    },
    {
     "data": {
      "image/png": "[encoded data removed]",
      "text/plain": [
       "<Figure size 500x500 with 1 Axes>"
      ]
     },
     "metadata": {},
     "output_type": "display_data"
    }
   ],
   "source": [
    "sns.displot(data_size_in_sqt_outliers[\"size_in_sqft\"])"
   ]
  },
  {
   "cell_type": "code",
   "execution_count": 215,
   "id": "c0b0ddf8-13d4-46e1-b566-fac3f927e3dc",
   "metadata": {},
   "outputs": [
    {
     "data": {
      "text/plain": [
       "count    1.894000e+03\n",
       "mean     1.769926e+04\n",
       "std      2.705523e+05\n",
       "min      5.000000e+02\n",
       "25%      2.600000e+03\n",
       "50%      5.000000e+03\n",
       "75%      7.235500e+03\n",
       "max      1.089000e+07\n",
       "Name: lot_size_in_sqft, dtype: float64"
      ]
     },
     "execution_count": 215,
     "metadata": {},
     "output_type": "execute_result"
    }
   ],
   "source": [
    "data_size_in_sqt_outliers[\"lot_size_in_sqft\"].describe()"
   ]
  },
  {
   "cell_type": "code",
   "execution_count": 216,
   "id": "7ef11c3d-ef5b-4046-8f35-2b47f6f57bcb",
   "metadata": {},
   "outputs": [],
   "source": [
    "q1 = data_size_in_sqt_outliers[\"lot_size_in_sqft\"].quantile(0.25)\n",
    "q3 = data_size_in_sqt_outliers[\"lot_size_in_sqft\"].quantile(0.75)\n",
    "iqr = q3 - q1\n",
    "outlier_lot_size_upper = q3 + 1.5 * iqr\n",
    "outlier_lot_size_lower = q1 - 1.5 * iqr"
   ]
  },
  {
   "cell_type": "code",
   "execution_count": 127,
   "id": "215f3925-017d-4d78-ae46-3a1fe5100224",
   "metadata": {},
   "outputs": [],
   "source": [
    "data_prepro = data_size_in_sqt_outliers[data_size_in_sqt_outliers[\"lot_size_in_sqft\"].between(outlier_size_in_sqt_ouliers]"
   ]
  },
  {
   "cell_type": "code",
   "execution_count": 128,
   "id": "05077b42-202d-4ad0-80fd-70e82d490c8a",
   "metadata": {},
   "outputs": [
    {
     "name": "stdout",
     "output_type": "stream",
     "text": [
      "<class 'pandas.core.frame.DataFrame'>\n",
      "Index: 1689 entries, 0 to 2520\n",
      "Data columns (total 6 columns):\n",
      " #   Column             Non-Null Count  Dtype  \n",
      "---  ------             --------------  -----  \n",
      " 0   beds               1689 non-null   int64  \n",
      " 1   baths              1689 non-null   float64\n",
      " 2   size_in_sqft       1689 non-null   float64\n",
      " 3   price              1689 non-null   float64\n",
      " 4   zip_code_category  1689 non-null   object \n",
      " 5   lot_size_in_sqft   1689 non-null   float64\n",
      "dtypes: float64(4), int64(1), object(1)\n",
      "memory usage: 92.4+ KB\n"
     ]
    }
   ],
   "source": [
    "data_prepro.info()"
   ]
  },
  {
   "cell_type": "code",
   "execution_count": 129,
   "id": "f4a1d032-b3d5-4707-8a5d-9bfe78c9c302",
   "metadata": {},
   "outputs": [],
   "source": [
    "data_clean = data_prepro.copy()"
   ]
  },
  {
   "cell_type": "code",
   "execution_count": 130,
   "id": "44e8a503-64ae-4ad9-b5c0-5b429edfbf99",
   "metadata": {},
   "outputs": [
    {
     "data": {
      "text/plain": [
       "<seaborn.axisgrid.FacetGrid at 0x26fd75f36d0>"
      ]
     },
     "execution_count": 130,
     "metadata": {},
     "output_type": "execute_result"
    },
    {
     "data": {
      "image/png": "[encoded data removed]",
      "text/plain": [
       "<Figure size 500x500 with 1 Axes>"
      ]
     },
     "metadata": {},
     "output_type": "display_data"
    }
   ],
   "source": [
    "sns.displot(data_clean[\"lot_size_in_sqft\"])"
   ]
  },
  {
   "cell_type": "code",
   "execution_count": 131,
   "id": "f6b82b78-f478-4eb8-bd5d-c3ee625a4b42",
   "metadata": {},
   "outputs": [
    {
     "data": {
      "text/html": [
       "<div>\n",
       "<style scoped>\n",
       "    .dataframe tbody tr th:only-of-type {\n",
       "        vertical-align: middle;\n",
       "    }\n",
       "\n",
       "    .dataframe tbody tr th {\n",
       "        vertical-align: top;\n",
       "    }\n",
       "\n",
       "    .dataframe thead th {\n",
       "        text-align: right;\n",
       "    }\n",
       "</style>\n",
       "<table border=\"1\" class=\"dataframe\">\n",
       "  <thead>\n",
       "    <tr style=\"text-align: right;\">\n",
       "      <th></th>\n",
       "      <th>beds</th>\n",
       "      <th>baths</th>\n",
       "      <th>size_in_sqft</th>\n",
       "      <th>price</th>\n",
       "      <th>zip_code_category</th>\n",
       "      <th>lot_size_in_sqft</th>\n",
       "    </tr>\n",
       "  </thead>\n",
       "  <tbody>\n",
       "    <tr>\n",
       "      <th>count</th>\n",
       "      <td>1689.000000</td>\n",
       "      <td>1689.000000</td>\n",
       "      <td>1689.000000</td>\n",
       "      <td>1.689000e+03</td>\n",
       "      <td>1689</td>\n",
       "      <td>1689.000000</td>\n",
       "    </tr>\n",
       "    <tr>\n",
       "      <th>unique</th>\n",
       "      <td>NaN</td>\n",
       "      <td>NaN</td>\n",
       "      <td>NaN</td>\n",
       "      <td>NaN</td>\n",
       "      <td>4</td>\n",
       "      <td>NaN</td>\n",
       "    </tr>\n",
       "    <tr>\n",
       "      <th>top</th>\n",
       "      <td>NaN</td>\n",
       "      <td>NaN</td>\n",
       "      <td>NaN</td>\n",
       "      <td>NaN</td>\n",
       "      <td>middle lower</td>\n",
       "      <td>NaN</td>\n",
       "    </tr>\n",
       "    <tr>\n",
       "      <th>freq</th>\n",
       "      <td>NaN</td>\n",
       "      <td>NaN</td>\n",
       "      <td>NaN</td>\n",
       "      <td>NaN</td>\n",
       "      <td>744</td>\n",
       "      <td>NaN</td>\n",
       "    </tr>\n",
       "    <tr>\n",
       "      <th>mean</th>\n",
       "      <td>3.023683</td>\n",
       "      <td>2.112197</td>\n",
       "      <td>1758.069272</td>\n",
       "      <td>9.030834e+05</td>\n",
       "      <td>NaN</td>\n",
       "      <td>4769.003789</td>\n",
       "    </tr>\n",
       "    <tr>\n",
       "      <th>std</th>\n",
       "      <td>0.909746</td>\n",
       "      <td>0.727339</td>\n",
       "      <td>641.627676</td>\n",
       "      <td>3.231774e+05</td>\n",
       "      <td>NaN</td>\n",
       "      <td>2932.267641</td>\n",
       "    </tr>\n",
       "    <tr>\n",
       "      <th>min</th>\n",
       "      <td>1.000000</td>\n",
       "      <td>1.000000</td>\n",
       "      <td>376.000000</td>\n",
       "      <td>1.594880e+05</td>\n",
       "      <td>NaN</td>\n",
       "      <td>500.000000</td>\n",
       "    </tr>\n",
       "    <tr>\n",
       "      <th>25%</th>\n",
       "      <td>2.000000</td>\n",
       "      <td>1.500000</td>\n",
       "      <td>1280.000000</td>\n",
       "      <td>6.850000e+05</td>\n",
       "      <td>NaN</td>\n",
       "      <td>2250.000000</td>\n",
       "    </tr>\n",
       "    <tr>\n",
       "      <th>50%</th>\n",
       "      <td>3.000000</td>\n",
       "      <td>2.000000</td>\n",
       "      <td>1670.000000</td>\n",
       "      <td>8.500000e+05</td>\n",
       "      <td>NaN</td>\n",
       "      <td>4800.000000</td>\n",
       "    </tr>\n",
       "    <tr>\n",
       "      <th>75%</th>\n",
       "      <td>4.000000</td>\n",
       "      <td>2.500000</td>\n",
       "      <td>2220.000000</td>\n",
       "      <td>1.062500e+06</td>\n",
       "      <td>NaN</td>\n",
       "      <td>6380.000000</td>\n",
       "    </tr>\n",
       "    <tr>\n",
       "      <th>max</th>\n",
       "      <td>6.000000</td>\n",
       "      <td>3.500000</td>\n",
       "      <td>3510.000000</td>\n",
       "      <td>1.900000e+06</td>\n",
       "      <td>NaN</td>\n",
       "      <td>14374.800000</td>\n",
       "    </tr>\n",
       "  </tbody>\n",
       "</table>\n",
       "</div>"
      ],
      "text/plain": [
       "               beds        baths  size_in_sqft         price  \\\n",
       "count   1689.000000  1689.000000   1689.000000  1.689000e+03   \n",
       "unique          NaN          NaN           NaN           NaN   \n",
       "top             NaN          NaN           NaN           NaN   \n",
       "freq            NaN          NaN           NaN           NaN   \n",
       "mean       3.023683     2.112197   1758.069272  9.030834e+05   \n",
       "std        0.909746     0.727339    641.627676  3.231774e+05   \n",
       "min        1.000000     1.000000    376.000000  1.594880e+05   \n",
       "25%        2.000000     1.500000   1280.000000  6.850000e+05   \n",
       "50%        3.000000     2.000000   1670.000000  8.500000e+05   \n",
       "75%        4.000000     2.500000   2220.000000  1.062500e+06   \n",
       "max        6.000000     3.500000   3510.000000  1.900000e+06   \n",
       "\n",
       "       zip_code_category  lot_size_in_sqft  \n",
       "count               1689       1689.000000  \n",
       "unique                 4               NaN  \n",
       "top         middle lower               NaN  \n",
       "freq                 744               NaN  \n",
       "mean                 NaN       4769.003789  \n",
       "std                  NaN       2932.267641  \n",
       "min                  NaN        500.000000  \n",
       "25%                  NaN       2250.000000  \n",
       "50%                  NaN       4800.000000  \n",
       "75%                  NaN       6380.000000  \n",
       "max                  NaN      14374.800000  "
      ]
     },
     "execution_count": 131,
     "metadata": {},
     "output_type": "execute_result"
    }
   ],
   "source": [
    "data_clean.describe(include=\"all\")"
   ]
  },
  {
   "cell_type": "code",
   "execution_count": 132,
   "id": "b1d337f8-2faf-4e17-bdb8-bf280d39c6c7",
   "metadata": {},
   "outputs": [
    {
     "data": {
      "image/png": "[encoded data removed]",
      "text/plain": [
       "<Figure size 1500x300 with 4 Axes>"
      ]
     },
     "metadata": {},
     "output_type": "display_data"
    }
   ],
   "source": [
    "f, (ax1, ax2, ax3, ax4) = plt.subplots(1, 4, sharey=True, figsize =(15,3))\n",
    "ax1.scatter(data_clean[\"beds\"],data_clean[\"price\"])\n",
    "ax1.set_title(\"price and beds\")\n",
    "ax2.scatter(data_clean[\"baths\"],data_clean[\"price\"])\n",
    "ax2.set_title(\"price and baths\")\n",
    "ax3.scatter(data_clean[\"size_in_sqft\"],data_clean[\"price\"])\n",
    "ax3.set_title(\"price and size in sqft\")\n",
    "ax4.scatter(data_clean[\"lot_size_in_sqft\"],data_clean[\"price\"])\n",
    "ax4.set_title(\"price and lot size in sqft\")\n",
    "plt.show()"
   ]
  },
  {
   "cell_type": "markdown",
   "id": "f0827ac2-cec7-46c9-bf71-ccbf72e76ed3",
   "metadata": {},
   "source": [
    "#### Since variable \"lot size in sqft\" seems to have no impact on the price, I will drop it. Otherwise, I should have done some ZIP code classification in the relation to the city center distance, maybe, or commuting time?"
   ]
  },
  {
   "cell_type": "code",
   "execution_count": 133,
   "id": "327ca731-cc96-45b8-a0fa-7c318db1d9ab",
   "metadata": {},
   "outputs": [],
   "source": [
    "data_clean.drop(columns=[\"lot_size_in_sqft\"], inplace=True, axis = 1)"
   ]
  },
  {
   "cell_type": "markdown",
   "id": "bd167791-efd6-4f9e-ae83-5050c382eedd",
   "metadata": {},
   "source": [
    "### Do the linear regression basics and checkt the relevance of the variables"
   ]
  },
  {
   "cell_type": "code",
   "execution_count": 134,
   "id": "8b9b4c80-3964-4f3c-ba3b-b5facff6e42a",
   "metadata": {},
   "outputs": [],
   "source": [
    "x = data_clean[[\"beds\", \"baths\",\"size_in_sqft\"]]\n",
    "y = data_clean[\"price\"]"
   ]
  },
  {
   "cell_type": "code",
   "execution_count": 135,
   "id": "e9d9a2f4-c2bf-4af0-b9f1-5d93d10bbaf1",
   "metadata": {},
   "outputs": [],
   "source": [
    "reg = LinearRegression()"
   ]
  },
  {
   "cell_type": "code",
   "execution_count": 136,
   "id": "4f5c128c-994c-45f0-8d58-0030654195b4",
   "metadata": {},
   "outputs": [
    {
     "data": {
      "text/html": [
       "<style>#sk-container-id-1 {\n",
       "  /* Definition of color scheme common for light and dark mode */\n",
       "  --sklearn-color-text: #000;\n",
       "  --sklearn-color-text-muted: #666;\n",
       "  --sklearn-color-line: gray;\n",
       "  /* Definition of color scheme for unfitted estimators */\n",
       "  --sklearn-color-unfitted-level-0: #fff5e6;\n",
       "  --sklearn-color-unfitted-level-1: #f6e4d2;\n",
       "  --sklearn-color-unfitted-level-2: #ffe0b3;\n",
       "  --sklearn-color-unfitted-level-3: chocolate;\n",
       "  /* Definition of color scheme for fitted estimators */\n",
       "  --sklearn-color-fitted-level-0: #f0f8ff;\n",
       "  --sklearn-color-fitted-level-1: #d4ebff;\n",
       "  --sklearn-color-fitted-level-2: #b3dbfd;\n",
       "  --sklearn-color-fitted-level-3: cornflowerblue;\n",
       "\n",
       "  /* Specific color for light theme */\n",
       "  --sklearn-color-text-on-default-background: var(--sg-text-color, var(--theme-code-foreground, var(--jp-content-font-color1, black)));\n",
       "  --sklearn-color-background: var(--sg-background-color, var(--theme-background, var(--jp-layout-color0, white)));\n",
       "  --sklearn-color-border-box: var(--sg-text-color, var(--theme-code-foreground, var(--jp-content-font-color1, black)));\n",
       "  --sklearn-color-icon: #696969;\n",
       "\n",
       "  @media (prefers-color-scheme: dark) {\n",
       "    /* Redefinition of color scheme for dark theme */\n",
       "    --sklearn-color-text-on-default-background: var(--sg-text-color, var(--theme-code-foreground, var(--jp-content-font-color1, white)));\n",
       "    --sklearn-color-background: var(--sg-background-color, var(--theme-background, var(--jp-layout-color0, #111)));\n",
       "    --sklearn-color-border-box: var(--sg-text-color, var(--theme-code-foreground, var(--jp-content-font-color1, white)));\n",
       "    --sklearn-color-icon: #878787;\n",
       "  }\n",
       "}\n",
       "\n",
       "#sk-container-id-1 {\n",
       "  color: var(--sklearn-color-text);\n",
       "}\n",
       "\n",
       "#sk-container-id-1 pre {\n",
       "  padding: 0;\n",
       "}\n",
       "\n",
       "#sk-container-id-1 input.sk-hidden--visually {\n",
       "  border: 0;\n",
       "  clip: rect(1px 1px 1px 1px);\n",
       "  clip: rect(1px, 1px, 1px, 1px);\n",
       "  height: 1px;\n",
       "  margin: -1px;\n",
       "  overflow: hidden;\n",
       "  padding: 0;\n",
       "  position: absolute;\n",
       "  width: 1px;\n",
       "}\n",
       "\n",
       "#sk-container-id-1 div.sk-dashed-wrapped {\n",
       "  border: 1px dashed var(--sklearn-color-line);\n",
       "  margin: 0 0.4em 0.5em 0.4em;\n",
       "  box-sizing: border-box;\n",
       "  padding-bottom: 0.4em;\n",
       "  background-color: var(--sklearn-color-background);\n",
       "}\n",
       "\n",
       "#sk-container-id-1 div.sk-container {\n",
       "  /* jupyter's `normalize.less` sets `[hidden] { display: none; }`\n",
       "     but bootstrap.min.css set `[hidden] { display: none !important; }`\n",
       "     so we also need the `!important` here to be able to override the\n",
       "     default hidden behavior on the sphinx rendered scikit-learn.org.\n",
       "     See: https://github.com/scikit-learn/scikit-learn/issues/21755 */\n",
       "  display: inline-block !important;\n",
       "  position: relative;\n",
       "}\n",
       "\n",
       "#sk-container-id-1 div.sk-text-repr-fallback {\n",
       "  display: none;\n",
       "}\n",
       "\n",
       "div.sk-parallel-item,\n",
       "div.sk-serial,\n",
       "div.sk-item {\n",
       "  /* draw centered vertical line to link estimators */\n",
       "  background-image: linear-gradient(var(--sklearn-color-text-on-default-background), var(--sklearn-color-text-on-default-background));\n",
       "  background-size: 2px 100%;\n",
       "  background-repeat: no-repeat;\n",
       "  background-position: center center;\n",
       "}\n",
       "\n",
       "/* Parallel-specific style estimator block */\n",
       "\n",
       "#sk-container-id-1 div.sk-parallel-item::after {\n",
       "  content: \"\";\n",
       "  width: 100%;\n",
       "  border-bottom: 2px solid var(--sklearn-color-text-on-default-background);\n",
       "  flex-grow: 1;\n",
       "}\n",
       "\n",
       "#sk-container-id-1 div.sk-parallel {\n",
       "  display: flex;\n",
       "  align-items: stretch;\n",
       "  justify-content: center;\n",
       "  background-color: var(--sklearn-color-background);\n",
       "  position: relative;\n",
       "}\n",
       "\n",
       "#sk-container-id-1 div.sk-parallel-item {\n",
       "  display: flex;\n",
       "  flex-direction: column;\n",
       "}\n",
       "\n",
       "#sk-container-id-1 div.sk-parallel-item:first-child::after {\n",
       "  align-self: flex-end;\n",
       "  width: 50%;\n",
       "}\n",
       "\n",
       "#sk-container-id-1 div.sk-parallel-item:last-child::after {\n",
       "  align-self: flex-start;\n",
       "  width: 50%;\n",
       "}\n",
       "\n",
       "#sk-container-id-1 div.sk-parallel-item:only-child::after {\n",
       "  width: 0;\n",
       "}\n",
       "\n",
       "/* Serial-specific style estimator block */\n",
       "\n",
       "#sk-container-id-1 div.sk-serial {\n",
       "  display: flex;\n",
       "  flex-direction: column;\n",
       "  align-items: center;\n",
       "  background-color: var(--sklearn-color-background);\n",
       "  padding-right: 1em;\n",
       "  padding-left: 1em;\n",
       "}\n",
       "\n",
       "\n",
       "/* Toggleable style: style used for estimator/Pipeline/ColumnTransformer box that is\n",
       "clickable and can be expanded/collapsed.\n",
       "- Pipeline and ColumnTransformer use this feature and define the default style\n",
       "- Estimators will overwrite some part of the style using the `sk-estimator` class\n",
       "*/\n",
       "\n",
       "/* Pipeline and ColumnTransformer style (default) */\n",
       "\n",
       "#sk-container-id-1 div.sk-toggleable {\n",
       "  /* Default theme specific background. It is overwritten whether we have a\n",
       "  specific estimator or a Pipeline/ColumnTransformer */\n",
       "  background-color: var(--sklearn-color-background);\n",
       "}\n",
       "\n",
       "/* Toggleable label */\n",
       "#sk-container-id-1 label.sk-toggleable__label {\n",
       "  cursor: pointer;\n",
       "  display: flex;\n",
       "  width: 100%;\n",
       "  margin-bottom: 0;\n",
       "  padding: 0.5em;\n",
       "  box-sizing: border-box;\n",
       "  text-align: center;\n",
       "  align-items: start;\n",
       "  justify-content: space-between;\n",
       "  gap: 0.5em;\n",
       "}\n",
       "\n",
       "#sk-container-id-1 label.sk-toggleable__label .caption {\n",
       "  font-size: 0.6rem;\n",
       "  font-weight: lighter;\n",
       "  color: var(--sklearn-color-text-muted);\n",
       "}\n",
       "\n",
       "#sk-container-id-1 label.sk-toggleable__label-arrow:before {\n",
       "  /* Arrow on the left of the label */\n",
       "  content: \"▸\";\n",
       "  float: left;\n",
       "  margin-right: 0.25em;\n",
       "  color: var(--sklearn-color-icon);\n",
       "}\n",
       "\n",
       "#sk-container-id-1 label.sk-toggleable__label-arrow:hover:before {\n",
       "  color: var(--sklearn-color-text);\n",
       "}\n",
       "\n",
       "/* Toggleable content - dropdown */\n",
       "\n",
       "#sk-container-id-1 div.sk-toggleable__content {\n",
       "  max-height: 0;\n",
       "  max-width: 0;\n",
       "  overflow: hidden;\n",
       "  text-align: left;\n",
       "  /* unfitted */\n",
       "  background-color: var(--sklearn-color-unfitted-level-0);\n",
       "}\n",
       "\n",
       "#sk-container-id-1 div.sk-toggleable__content.fitted {\n",
       "  /* fitted */\n",
       "  background-color: var(--sklearn-color-fitted-level-0);\n",
       "}\n",
       "\n",
       "#sk-container-id-1 div.sk-toggleable__content pre {\n",
       "  margin: 0.2em;\n",
       "  border-radius: 0.25em;\n",
       "  color: var(--sklearn-color-text);\n",
       "  /* unfitted */\n",
       "  background-color: var(--sklearn-color-unfitted-level-0);\n",
       "}\n",
       "\n",
       "#sk-container-id-1 div.sk-toggleable__content.fitted pre {\n",
       "  /* unfitted */\n",
       "  background-color: var(--sklearn-color-fitted-level-0);\n",
       "}\n",
       "\n",
       "#sk-container-id-1 input.sk-toggleable__control:checked~div.sk-toggleable__content {\n",
       "  /* Expand drop-down */\n",
       "  max-height: 200px;\n",
       "  max-width: 100%;\n",
       "  overflow: auto;\n",
       "}\n",
       "\n",
       "#sk-container-id-1 input.sk-toggleable__control:checked~label.sk-toggleable__label-arrow:before {\n",
       "  content: \"▾\";\n",
       "}\n",
       "\n",
       "/* Pipeline/ColumnTransformer-specific style */\n",
       "\n",
       "#sk-container-id-1 div.sk-label input.sk-toggleable__control:checked~label.sk-toggleable__label {\n",
       "  color: var(--sklearn-color-text);\n",
       "  background-color: var(--sklearn-color-unfitted-level-2);\n",
       "}\n",
       "\n",
       "#sk-container-id-1 div.sk-label.fitted input.sk-toggleable__control:checked~label.sk-toggleable__label {\n",
       "  background-color: var(--sklearn-color-fitted-level-2);\n",
       "}\n",
       "\n",
       "/* Estimator-specific style */\n",
       "\n",
       "/* Colorize estimator box */\n",
       "#sk-container-id-1 div.sk-estimator input.sk-toggleable__control:checked~label.sk-toggleable__label {\n",
       "  /* unfitted */\n",
       "  background-color: var(--sklearn-color-unfitted-level-2);\n",
       "}\n",
       "\n",
       "#sk-container-id-1 div.sk-estimator.fitted input.sk-toggleable__control:checked~label.sk-toggleable__label {\n",
       "  /* fitted */\n",
       "  background-color: var(--sklearn-color-fitted-level-2);\n",
       "}\n",
       "\n",
       "#sk-container-id-1 div.sk-label label.sk-toggleable__label,\n",
       "#sk-container-id-1 div.sk-label label {\n",
       "  /* The background is the default theme color */\n",
       "  color: var(--sklearn-color-text-on-default-background);\n",
       "}\n",
       "\n",
       "/* On hover, darken the color of the background */\n",
       "#sk-container-id-1 div.sk-label:hover label.sk-toggleable__label {\n",
       "  color: var(--sklearn-color-text);\n",
       "  background-color: var(--sklearn-color-unfitted-level-2);\n",
       "}\n",
       "\n",
       "/* Label box, darken color on hover, fitted */\n",
       "#sk-container-id-1 div.sk-label.fitted:hover label.sk-toggleable__label.fitted {\n",
       "  color: var(--sklearn-color-text);\n",
       "  background-color: var(--sklearn-color-fitted-level-2);\n",
       "}\n",
       "\n",
       "/* Estimator label */\n",
       "\n",
       "#sk-container-id-1 div.sk-label label {\n",
       "  font-family: monospace;\n",
       "  font-weight: bold;\n",
       "  display: inline-block;\n",
       "  line-height: 1.2em;\n",
       "}\n",
       "\n",
       "#sk-container-id-1 div.sk-label-container {\n",
       "  text-align: center;\n",
       "}\n",
       "\n",
       "/* Estimator-specific */\n",
       "#sk-container-id-1 div.sk-estimator {\n",
       "  font-family: monospace;\n",
       "  border: 1px dotted var(--sklearn-color-border-box);\n",
       "  border-radius: 0.25em;\n",
       "  box-sizing: border-box;\n",
       "  margin-bottom: 0.5em;\n",
       "  /* unfitted */\n",
       "  background-color: var(--sklearn-color-unfitted-level-0);\n",
       "}\n",
       "\n",
       "#sk-container-id-1 div.sk-estimator.fitted {\n",
       "  /* fitted */\n",
       "  background-color: var(--sklearn-color-fitted-level-0);\n",
       "}\n",
       "\n",
       "/* on hover */\n",
       "#sk-container-id-1 div.sk-estimator:hover {\n",
       "  /* unfitted */\n",
       "  background-color: var(--sklearn-color-unfitted-level-2);\n",
       "}\n",
       "\n",
       "#sk-container-id-1 div.sk-estimator.fitted:hover {\n",
       "  /* fitted */\n",
       "  background-color: var(--sklearn-color-fitted-level-2);\n",
       "}\n",
       "\n",
       "/* Specification for estimator info (e.g. \"i\" and \"?\") */\n",
       "\n",
       "/* Common style for \"i\" and \"?\" */\n",
       "\n",
       ".sk-estimator-doc-link,\n",
       "a:link.sk-estimator-doc-link,\n",
       "a:visited.sk-estimator-doc-link {\n",
       "  float: right;\n",
       "  font-size: smaller;\n",
       "  line-height: 1em;\n",
       "  font-family: monospace;\n",
       "  background-color: var(--sklearn-color-background);\n",
       "  border-radius: 1em;\n",
       "  height: 1em;\n",
       "  width: 1em;\n",
       "  text-decoration: none !important;\n",
       "  margin-left: 0.5em;\n",
       "  text-align: center;\n",
       "  /* unfitted */\n",
       "  border: var(--sklearn-color-unfitted-level-1) 1pt solid;\n",
       "  color: var(--sklearn-color-unfitted-level-1);\n",
       "}\n",
       "\n",
       ".sk-estimator-doc-link.fitted,\n",
       "a:link.sk-estimator-doc-link.fitted,\n",
       "a:visited.sk-estimator-doc-link.fitted {\n",
       "  /* fitted */\n",
       "  border: var(--sklearn-color-fitted-level-1) 1pt solid;\n",
       "  color: var(--sklearn-color-fitted-level-1);\n",
       "}\n",
       "\n",
       "/* On hover */\n",
       "div.sk-estimator:hover .sk-estimator-doc-link:hover,\n",
       ".sk-estimator-doc-link:hover,\n",
       "div.sk-label-container:hover .sk-estimator-doc-link:hover,\n",
       ".sk-estimator-doc-link:hover {\n",
       "  /* unfitted */\n",
       "  background-color: var(--sklearn-color-unfitted-level-3);\n",
       "  color: var(--sklearn-color-background);\n",
       "  text-decoration: none;\n",
       "}\n",
       "\n",
       "div.sk-estimator.fitted:hover .sk-estimator-doc-link.fitted:hover,\n",
       ".sk-estimator-doc-link.fitted:hover,\n",
       "div.sk-label-container:hover .sk-estimator-doc-link.fitted:hover,\n",
       ".sk-estimator-doc-link.fitted:hover {\n",
       "  /* fitted */\n",
       "  background-color: var(--sklearn-color-fitted-level-3);\n",
       "  color: var(--sklearn-color-background);\n",
       "  text-decoration: none;\n",
       "}\n",
       "\n",
       "/* Span, style for the box shown on hovering the info icon */\n",
       ".sk-estimator-doc-link span {\n",
       "  display: none;\n",
       "  z-index: 9999;\n",
       "  position: relative;\n",
       "  font-weight: normal;\n",
       "  right: .2ex;\n",
       "  padding: .5ex;\n",
       "  margin: .5ex;\n",
       "  width: min-content;\n",
       "  min-width: 20ex;\n",
       "  max-width: 50ex;\n",
       "  color: var(--sklearn-color-text);\n",
       "  box-shadow: 2pt 2pt 4pt #999;\n",
       "  /* unfitted */\n",
       "  background: var(--sklearn-color-unfitted-level-0);\n",
       "  border: .5pt solid var(--sklearn-color-unfitted-level-3);\n",
       "}\n",
       "\n",
       ".sk-estimator-doc-link.fitted span {\n",
       "  /* fitted */\n",
       "  background: var(--sklearn-color-fitted-level-0);\n",
       "  border: var(--sklearn-color-fitted-level-3);\n",
       "}\n",
       "\n",
       ".sk-estimator-doc-link:hover span {\n",
       "  display: block;\n",
       "}\n",
       "\n",
       "/* \"?\"-specific style due to the `<a>` HTML tag */\n",
       "\n",
       "#sk-container-id-1 a.estimator_doc_link {\n",
       "  float: right;\n",
       "  font-size: 1rem;\n",
       "  line-height: 1em;\n",
       "  font-family: monospace;\n",
       "  background-color: var(--sklearn-color-background);\n",
       "  border-radius: 1rem;\n",
       "  height: 1rem;\n",
       "  width: 1rem;\n",
       "  text-decoration: none;\n",
       "  /* unfitted */\n",
       "  color: var(--sklearn-color-unfitted-level-1);\n",
       "  border: var(--sklearn-color-unfitted-level-1) 1pt solid;\n",
       "}\n",
       "\n",
       "#sk-container-id-1 a.estimator_doc_link.fitted {\n",
       "  /* fitted */\n",
       "  border: var(--sklearn-color-fitted-level-1) 1pt solid;\n",
       "  color: var(--sklearn-color-fitted-level-1);\n",
       "}\n",
       "\n",
       "/* On hover */\n",
       "#sk-container-id-1 a.estimator_doc_link:hover {\n",
       "  /* unfitted */\n",
       "  background-color: var(--sklearn-color-unfitted-level-3);\n",
       "  color: var(--sklearn-color-background);\n",
       "  text-decoration: none;\n",
       "}\n",
       "\n",
       "#sk-container-id-1 a.estimator_doc_link.fitted:hover {\n",
       "  /* fitted */\n",
       "  background-color: var(--sklearn-color-fitted-level-3);\n",
       "}\n",
       "</style><div id=\"sk-container-id-1\" class=\"sk-top-container\"><div class=\"sk-text-repr-fallback\"><pre>LinearRegression()</pre><b>In a Jupyter environment, please rerun this cell to show the HTML representation or trust the notebook. <br />On GitHub, the HTML representation is unable to render, please try loading this page with nbviewer.org.</b></div><div class=\"sk-container\" hidden><div class=\"sk-item\"><div class=\"sk-estimator fitted sk-toggleable\"><input class=\"sk-toggleable__control sk-hidden--visually\" id=\"sk-estimator-id-1\" type=\"checkbox\" checked><label for=\"sk-estimator-id-1\" class=\"sk-toggleable__label fitted sk-toggleable__label-arrow\"><div><div>LinearRegression</div></div><div><a class=\"sk-estimator-doc-link fitted\" rel=\"noreferrer\" target=\"_blank\" href=\"https://scikit-learn.org/1.6/modules/generated/sklearn.linear_model.LinearRegression.html\">?<span>Documentation for LinearRegression</span></a><span class=\"sk-estimator-doc-link fitted\">i<span>Fitted</span></span></div></label><div class=\"sk-toggleable__content fitted\"><pre>LinearRegression()</pre></div> </div></div></div></div>"
      ],
      "text/plain": [
       "LinearRegression()"
      ]
     },
     "execution_count": 136,
     "metadata": {},
     "output_type": "execute_result"
    }
   ],
   "source": [
    "reg.fit(x, y)"
   ]
  },
  {
   "cell_type": "code",
   "execution_count": 137,
   "id": "ecff5618-59f8-42da-a82f-e495a74dc84c",
   "metadata": {},
   "outputs": [
    {
     "data": {
      "text/plain": [
       "0.46352872244332055"
      ]
     },
     "execution_count": 137,
     "metadata": {},
     "output_type": "execute_result"
    }
   ],
   "source": [
    "reg.score(x, y)"
   ]
  },
  {
   "cell_type": "code",
   "execution_count": 138,
   "id": "076816a3-eaf1-4c0b-8c0a-d4d7d2e94f8f",
   "metadata": {},
   "outputs": [],
   "source": [
    "# Provedu drop na outliers spodních, provedu VIF před standardizací, pak feature selection se standardizací, převod zip kódů před tím vším, následně rozdělím data na testovací a trénovací a provedu standardizaci na trénovací a regresi na trénovací"
   ]
  }
 ],
 "metadata": {
  "kernelspec": {
   "display_name": "Python 3 (ipykernel)",
   "language": "python",
   "name": "python3"
  },
  "language_info": {
   "codemirror_mode": {
    "name": "ipython",
    "version": 3
   },
   "file_extension": ".py",
   "mimetype": "text/x-python",
   "name": "python",
   "nbconvert_exporter": "python",
   "pygments_lexer": "ipython3",
   "version": "3.9.6"
  }
 },
 "nbformat": 4,
 "nbformat_minor": 5
}
