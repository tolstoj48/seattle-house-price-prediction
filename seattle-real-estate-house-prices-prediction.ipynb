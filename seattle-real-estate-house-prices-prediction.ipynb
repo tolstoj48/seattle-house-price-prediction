{
 "cells": [
  {
   "cell_type": "markdown",
   "id": "9fa53119-71fc-4453-ab5a-100def7aa7c0",
   "metadata": {},
   "source": [
    "# TO DO: solve the outliers - get rid of outliers based on statistical custom"
   ]
  },
  {
   "cell_type": "markdown",
   "id": "cfc447d7-dbd2-42d2-a038-e50e3bf728cd",
   "metadata": {},
   "source": [
    "### First, joing the test and train data into one, to split them and train the coding"
   ]
  },
  {
   "cell_type": "code",
   "execution_count": 196,
   "id": "3c8debc2-2e31-4fe1-b286-23a4bbde6870",
   "metadata": {},
   "outputs": [],
   "source": [
    "import pandas as pd\n",
    "import seaborn as sns"
   ]
  },
  {
   "cell_type": "code",
   "execution_count": 197,
   "id": "5f874468-d5f6-4f7d-add8-cb2194c20054",
   "metadata": {},
   "outputs": [],
   "source": [
    "data_train = pd.read_csv(\"./data/train.csv\")\n",
    "data_test = pd.read_csv(\"./data/test.csv\")"
   ]
  },
  {
   "cell_type": "code",
   "execution_count": 198,
   "id": "4fc1863a-e7a8-4226-9d14-a5a31d7d0c5e",
   "metadata": {},
   "outputs": [
    {
     "name": "stdout",
     "output_type": "stream",
     "text": [
      "<class 'pandas.core.frame.DataFrame'>\n",
      "RangeIndex: 2016 entries, 0 to 2015\n",
      "Data columns (total 8 columns):\n",
      " #   Column          Non-Null Count  Dtype  \n",
      "---  ------          --------------  -----  \n",
      " 0   beds            2016 non-null   int64  \n",
      " 1   baths           2016 non-null   float64\n",
      " 2   size            2016 non-null   float64\n",
      " 3   size_units      2016 non-null   object \n",
      " 4   lot_size        1669 non-null   float64\n",
      " 5   lot_size_units  1669 non-null   object \n",
      " 6   zip_code        2016 non-null   int64  \n",
      " 7   price           2016 non-null   float64\n",
      "dtypes: float64(4), int64(2), object(2)\n",
      "memory usage: 126.1+ KB\n"
     ]
    }
   ],
   "source": [
    "data_train.info()"
   ]
  },
  {
   "cell_type": "code",
   "execution_count": 199,
   "id": "8f1d71ef-ee76-4450-a94b-b15da03e5b43",
   "metadata": {},
   "outputs": [
    {
     "name": "stdout",
     "output_type": "stream",
     "text": [
      "<class 'pandas.core.frame.DataFrame'>\n",
      "RangeIndex: 505 entries, 0 to 504\n",
      "Data columns (total 8 columns):\n",
      " #   Column          Non-Null Count  Dtype  \n",
      "---  ------          --------------  -----  \n",
      " 0   beds            505 non-null    int64  \n",
      " 1   baths           505 non-null    float64\n",
      " 2   size            505 non-null    float64\n",
      " 3   size_units      505 non-null    object \n",
      " 4   lot_size        428 non-null    float64\n",
      " 5   lot_size_units  428 non-null    object \n",
      " 6   zip_code        505 non-null    int64  \n",
      " 7   price           505 non-null    float64\n",
      "dtypes: float64(4), int64(2), object(2)\n",
      "memory usage: 31.7+ KB\n"
     ]
    }
   ],
   "source": [
    "data_test.info()"
   ]
  },
  {
   "cell_type": "code",
   "execution_count": 200,
   "id": "b99121b9-d68f-4264-a69b-7a4974d46e91",
   "metadata": {},
   "outputs": [
    {
     "data": {
      "text/plain": [
       "array([ True,  True,  True,  True,  True,  True,  True,  True])"
      ]
     },
     "execution_count": 200,
     "metadata": {},
     "output_type": "execute_result"
    }
   ],
   "source": [
    "data_train.columns == data_test.columns"
   ]
  },
  {
   "cell_type": "code",
   "execution_count": 201,
   "id": "36120882-6296-4169-8f67-a0d384ae81f0",
   "metadata": {},
   "outputs": [],
   "source": [
    "union_df = pd.concat([data_train, data_test], ignore_index=True, sort=False)"
   ]
  },
  {
   "cell_type": "code",
   "execution_count": 202,
   "id": "f47e736e-0b10-4601-85f9-506152ec9527",
   "metadata": {},
   "outputs": [
    {
     "name": "stdout",
     "output_type": "stream",
     "text": [
      "<class 'pandas.core.frame.DataFrame'>\n",
      "RangeIndex: 2521 entries, 0 to 2520\n",
      "Data columns (total 8 columns):\n",
      " #   Column          Non-Null Count  Dtype  \n",
      "---  ------          --------------  -----  \n",
      " 0   beds            2521 non-null   int64  \n",
      " 1   baths           2521 non-null   float64\n",
      " 2   size            2521 non-null   float64\n",
      " 3   size_units      2521 non-null   object \n",
      " 4   lot_size        2097 non-null   float64\n",
      " 5   lot_size_units  2097 non-null   object \n",
      " 6   zip_code        2521 non-null   int64  \n",
      " 7   price           2521 non-null   float64\n",
      "dtypes: float64(4), int64(2), object(2)\n",
      "memory usage: 157.7+ KB\n"
     ]
    }
   ],
   "source": [
    "union_df.info()"
   ]
  },
  {
   "cell_type": "code",
   "execution_count": 203,
   "id": "180397bb-01bb-48c4-aa97-8cba21d4997e",
   "metadata": {},
   "outputs": [
    {
     "data": {
      "text/html": [
       "<div>\n",
       "<style scoped>\n",
       "    .dataframe tbody tr th:only-of-type {\n",
       "        vertical-align: middle;\n",
       "    }\n",
       "\n",
       "    .dataframe tbody tr th {\n",
       "        vertical-align: top;\n",
       "    }\n",
       "\n",
       "    .dataframe thead th {\n",
       "        text-align: right;\n",
       "    }\n",
       "</style>\n",
       "<table border=\"1\" class=\"dataframe\">\n",
       "  <thead>\n",
       "    <tr style=\"text-align: right;\">\n",
       "      <th></th>\n",
       "      <th>beds</th>\n",
       "      <th>baths</th>\n",
       "      <th>size</th>\n",
       "      <th>size_units</th>\n",
       "      <th>lot_size</th>\n",
       "      <th>lot_size_units</th>\n",
       "      <th>zip_code</th>\n",
       "      <th>price</th>\n",
       "    </tr>\n",
       "  </thead>\n",
       "  <tbody>\n",
       "    <tr>\n",
       "      <th>0</th>\n",
       "      <td>3</td>\n",
       "      <td>2.5</td>\n",
       "      <td>2590.0</td>\n",
       "      <td>sqft</td>\n",
       "      <td>6000.00</td>\n",
       "      <td>sqft</td>\n",
       "      <td>98144</td>\n",
       "      <td>795000.0</td>\n",
       "    </tr>\n",
       "    <tr>\n",
       "      <th>1</th>\n",
       "      <td>4</td>\n",
       "      <td>2.0</td>\n",
       "      <td>2240.0</td>\n",
       "      <td>sqft</td>\n",
       "      <td>0.31</td>\n",
       "      <td>acre</td>\n",
       "      <td>98106</td>\n",
       "      <td>915000.0</td>\n",
       "    </tr>\n",
       "    <tr>\n",
       "      <th>2</th>\n",
       "      <td>4</td>\n",
       "      <td>3.0</td>\n",
       "      <td>2040.0</td>\n",
       "      <td>sqft</td>\n",
       "      <td>3783.00</td>\n",
       "      <td>sqft</td>\n",
       "      <td>98107</td>\n",
       "      <td>950000.0</td>\n",
       "    </tr>\n",
       "    <tr>\n",
       "      <th>3</th>\n",
       "      <td>4</td>\n",
       "      <td>3.0</td>\n",
       "      <td>3800.0</td>\n",
       "      <td>sqft</td>\n",
       "      <td>5175.00</td>\n",
       "      <td>sqft</td>\n",
       "      <td>98199</td>\n",
       "      <td>1950000.0</td>\n",
       "    </tr>\n",
       "    <tr>\n",
       "      <th>4</th>\n",
       "      <td>2</td>\n",
       "      <td>2.0</td>\n",
       "      <td>1042.0</td>\n",
       "      <td>sqft</td>\n",
       "      <td>NaN</td>\n",
       "      <td>NaN</td>\n",
       "      <td>98102</td>\n",
       "      <td>950000.0</td>\n",
       "    </tr>\n",
       "  </tbody>\n",
       "</table>\n",
       "</div>"
      ],
      "text/plain": [
       "   beds  baths    size size_units  lot_size lot_size_units  zip_code  \\\n",
       "0     3    2.5  2590.0       sqft   6000.00           sqft     98144   \n",
       "1     4    2.0  2240.0       sqft      0.31           acre     98106   \n",
       "2     4    3.0  2040.0       sqft   3783.00           sqft     98107   \n",
       "3     4    3.0  3800.0       sqft   5175.00           sqft     98199   \n",
       "4     2    2.0  1042.0       sqft       NaN            NaN     98102   \n",
       "\n",
       "       price  \n",
       "0   795000.0  \n",
       "1   915000.0  \n",
       "2   950000.0  \n",
       "3  1950000.0  \n",
       "4   950000.0  "
      ]
     },
     "execution_count": 203,
     "metadata": {},
     "output_type": "execute_result"
    }
   ],
   "source": [
    "union_df.head()"
   ]
  },
  {
   "cell_type": "code",
   "execution_count": 204,
   "id": "f45862a8-db5e-4386-af26-6d2125124ca1",
   "metadata": {},
   "outputs": [],
   "source": [
    "data = union_df.copy()"
   ]
  },
  {
   "cell_type": "code",
   "execution_count": 205,
   "id": "a994960f-a608-4390-9060-e52b3810e68a",
   "metadata": {},
   "outputs": [
    {
     "data": {
      "text/html": [
       "<div>\n",
       "<style scoped>\n",
       "    .dataframe tbody tr th:only-of-type {\n",
       "        vertical-align: middle;\n",
       "    }\n",
       "\n",
       "    .dataframe tbody tr th {\n",
       "        vertical-align: top;\n",
       "    }\n",
       "\n",
       "    .dataframe thead th {\n",
       "        text-align: right;\n",
       "    }\n",
       "</style>\n",
       "<table border=\"1\" class=\"dataframe\">\n",
       "  <thead>\n",
       "    <tr style=\"text-align: right;\">\n",
       "      <th></th>\n",
       "      <th>beds</th>\n",
       "      <th>baths</th>\n",
       "      <th>size</th>\n",
       "      <th>size_units</th>\n",
       "      <th>lot_size</th>\n",
       "      <th>lot_size_units</th>\n",
       "      <th>zip_code</th>\n",
       "      <th>price</th>\n",
       "    </tr>\n",
       "  </thead>\n",
       "  <tbody>\n",
       "    <tr>\n",
       "      <th>count</th>\n",
       "      <td>2521.000000</td>\n",
       "      <td>2521.000000</td>\n",
       "      <td>2521.000000</td>\n",
       "      <td>2521</td>\n",
       "      <td>2097.000000</td>\n",
       "      <td>2097</td>\n",
       "      <td>2521.000000</td>\n",
       "      <td>2.521000e+03</td>\n",
       "    </tr>\n",
       "    <tr>\n",
       "      <th>unique</th>\n",
       "      <td>NaN</td>\n",
       "      <td>NaN</td>\n",
       "      <td>NaN</td>\n",
       "      <td>1</td>\n",
       "      <td>NaN</td>\n",
       "      <td>2</td>\n",
       "      <td>NaN</td>\n",
       "      <td>NaN</td>\n",
       "    </tr>\n",
       "    <tr>\n",
       "      <th>top</th>\n",
       "      <td>NaN</td>\n",
       "      <td>NaN</td>\n",
       "      <td>NaN</td>\n",
       "      <td>sqft</td>\n",
       "      <td>NaN</td>\n",
       "      <td>sqft</td>\n",
       "      <td>NaN</td>\n",
       "      <td>NaN</td>\n",
       "    </tr>\n",
       "    <tr>\n",
       "      <th>freq</th>\n",
       "      <td>NaN</td>\n",
       "      <td>NaN</td>\n",
       "      <td>NaN</td>\n",
       "      <td>2521</td>\n",
       "      <td>NaN</td>\n",
       "      <td>1818</td>\n",
       "      <td>NaN</td>\n",
       "      <td>NaN</td>\n",
       "    </tr>\n",
       "    <tr>\n",
       "      <th>mean</th>\n",
       "      <td>2.877033</td>\n",
       "      <td>2.171956</td>\n",
       "      <td>1758.998017</td>\n",
       "      <td>NaN</td>\n",
       "      <td>3896.245794</td>\n",
       "      <td>NaN</td>\n",
       "      <td>98123.984927</td>\n",
       "      <td>9.668217e+05</td>\n",
       "    </tr>\n",
       "    <tr>\n",
       "      <th>std</th>\n",
       "      <td>1.247518</td>\n",
       "      <td>1.004397</td>\n",
       "      <td>921.608036</td>\n",
       "      <td>NaN</td>\n",
       "      <td>2714.651578</td>\n",
       "      <td>NaN</td>\n",
       "      <td>23.118736</td>\n",
       "      <td>8.870111e+05</td>\n",
       "    </tr>\n",
       "    <tr>\n",
       "      <th>min</th>\n",
       "      <td>1.000000</td>\n",
       "      <td>0.500000</td>\n",
       "      <td>250.000000</td>\n",
       "      <td>NaN</td>\n",
       "      <td>0.230000</td>\n",
       "      <td>NaN</td>\n",
       "      <td>98101.000000</td>\n",
       "      <td>1.590000e+05</td>\n",
       "    </tr>\n",
       "    <tr>\n",
       "      <th>25%</th>\n",
       "      <td>2.000000</td>\n",
       "      <td>1.500000</td>\n",
       "      <td>1086.000000</td>\n",
       "      <td>NaN</td>\n",
       "      <td>1263.000000</td>\n",
       "      <td>NaN</td>\n",
       "      <td>98108.000000</td>\n",
       "      <td>6.050000e+05</td>\n",
       "    </tr>\n",
       "    <tr>\n",
       "      <th>50%</th>\n",
       "      <td>3.000000</td>\n",
       "      <td>2.000000</td>\n",
       "      <td>1580.000000</td>\n",
       "      <td>NaN</td>\n",
       "      <td>4001.000000</td>\n",
       "      <td>NaN</td>\n",
       "      <td>98117.000000</td>\n",
       "      <td>8.130000e+05</td>\n",
       "    </tr>\n",
       "    <tr>\n",
       "      <th>75%</th>\n",
       "      <td>4.000000</td>\n",
       "      <td>2.500000</td>\n",
       "      <td>2270.000000</td>\n",
       "      <td>NaN</td>\n",
       "      <td>6000.000000</td>\n",
       "      <td>NaN</td>\n",
       "      <td>98126.000000</td>\n",
       "      <td>1.115000e+06</td>\n",
       "    </tr>\n",
       "    <tr>\n",
       "      <th>max</th>\n",
       "      <td>15.000000</td>\n",
       "      <td>9.000000</td>\n",
       "      <td>11010.000000</td>\n",
       "      <td>NaN</td>\n",
       "      <td>9998.000000</td>\n",
       "      <td>NaN</td>\n",
       "      <td>98199.000000</td>\n",
       "      <td>2.500000e+07</td>\n",
       "    </tr>\n",
       "  </tbody>\n",
       "</table>\n",
       "</div>"
      ],
      "text/plain": [
       "               beds        baths          size size_units     lot_size  \\\n",
       "count   2521.000000  2521.000000   2521.000000       2521  2097.000000   \n",
       "unique          NaN          NaN           NaN          1          NaN   \n",
       "top             NaN          NaN           NaN       sqft          NaN   \n",
       "freq            NaN          NaN           NaN       2521          NaN   \n",
       "mean       2.877033     2.171956   1758.998017        NaN  3896.245794   \n",
       "std        1.247518     1.004397    921.608036        NaN  2714.651578   \n",
       "min        1.000000     0.500000    250.000000        NaN     0.230000   \n",
       "25%        2.000000     1.500000   1086.000000        NaN  1263.000000   \n",
       "50%        3.000000     2.000000   1580.000000        NaN  4001.000000   \n",
       "75%        4.000000     2.500000   2270.000000        NaN  6000.000000   \n",
       "max       15.000000     9.000000  11010.000000        NaN  9998.000000   \n",
       "\n",
       "       lot_size_units      zip_code         price  \n",
       "count            2097   2521.000000  2.521000e+03  \n",
       "unique              2           NaN           NaN  \n",
       "top              sqft           NaN           NaN  \n",
       "freq             1818           NaN           NaN  \n",
       "mean              NaN  98123.984927  9.668217e+05  \n",
       "std               NaN     23.118736  8.870111e+05  \n",
       "min               NaN  98101.000000  1.590000e+05  \n",
       "25%               NaN  98108.000000  6.050000e+05  \n",
       "50%               NaN  98117.000000  8.130000e+05  \n",
       "75%               NaN  98126.000000  1.115000e+06  \n",
       "max               NaN  98199.000000  2.500000e+07  "
      ]
     },
     "execution_count": 205,
     "metadata": {},
     "output_type": "execute_result"
    }
   ],
   "source": [
    "data.describe(include=\"all\")"
   ]
  },
  {
   "cell_type": "code",
   "execution_count": 206,
   "id": "bff7bd65-0e43-46e5-8489-d3ea9b11bc73",
   "metadata": {},
   "outputs": [
    {
     "data": {
      "text/plain": [
       "size_units\n",
       "sqft    2521\n",
       "Name: count, dtype: int64"
      ]
     },
     "execution_count": 206,
     "metadata": {},
     "output_type": "execute_result"
    }
   ],
   "source": [
    "data[\"size_units\"].value_counts()"
   ]
  },
  {
   "cell_type": "code",
   "execution_count": 207,
   "id": "57da303a-1609-4ca7-bdbb-479dfb1871ce",
   "metadata": {},
   "outputs": [
    {
     "data": {
      "text/plain": [
       "lot_size_units\n",
       "sqft    1818\n",
       "acre     279\n",
       "Name: count, dtype: int64"
      ]
     },
     "execution_count": 207,
     "metadata": {},
     "output_type": "execute_result"
    }
   ],
   "source": [
    "data[\"lot_size_units\"].value_counts()"
   ]
  },
  {
   "cell_type": "markdown",
   "id": "00df3e89-ed51-4433-ad05-5138bcd5a099",
   "metadata": {},
   "source": [
    "##### I have to change the units to the same units, but first lets drop the column not needed."
   ]
  },
  {
   "cell_type": "code",
   "execution_count": 208,
   "id": "eaf32671-35fd-4dba-ae14-4b8dc51235fa",
   "metadata": {},
   "outputs": [],
   "source": [
    "data.drop(columns=[\"zip_code\",\"size_units\"], inplace=True)"
   ]
  },
  {
   "cell_type": "code",
   "execution_count": 209,
   "id": "9ccfd0e3-ec19-4bf7-aca2-956a97d7c8cf",
   "metadata": {},
   "outputs": [
    {
     "data": {
      "text/plain": [
       "beds                0\n",
       "baths               0\n",
       "size                0\n",
       "lot_size          424\n",
       "lot_size_units    424\n",
       "price               0\n",
       "dtype: int64"
      ]
     },
     "execution_count": 209,
     "metadata": {},
     "output_type": "execute_result"
    }
   ],
   "source": [
    "data.isnull().sum()"
   ]
  },
  {
   "cell_type": "markdown",
   "id": "cf13daa6-584d-47b5-ba8b-3771613c9816",
   "metadata": {},
   "source": [
    "##### What is the proportion potentially dropped?"
   ]
  },
  {
   "cell_type": "code",
   "execution_count": 210,
   "id": "4a96f31c-e2c5-43a5-982e-7d599c7c8aa8",
   "metadata": {},
   "outputs": [
    {
     "data": {
      "text/plain": [
       "0.16818722729075763"
      ]
     },
     "execution_count": 210,
     "metadata": {},
     "output_type": "execute_result"
    }
   ],
   "source": [
    "424/2521"
   ]
  },
  {
   "cell_type": "code",
   "execution_count": 211,
   "id": "1c6983aa-9638-45dd-b9ef-b8d7fd113c04",
   "metadata": {},
   "outputs": [],
   "source": [
    "data.dropna(axis=0, inplace=True)"
   ]
  },
  {
   "cell_type": "code",
   "execution_count": 212,
   "id": "eeb1cc09-987d-484f-b792-b1f2cc892894",
   "metadata": {},
   "outputs": [],
   "source": [
    "data_no_missing_values = data.copy()"
   ]
  },
  {
   "cell_type": "code",
   "execution_count": 213,
   "id": "f50bb9b3-3cfd-42e6-bf81-10285f849afa",
   "metadata": {},
   "outputs": [
    {
     "data": {
      "text/html": [
       "<div>\n",
       "<style scoped>\n",
       "    .dataframe tbody tr th:only-of-type {\n",
       "        vertical-align: middle;\n",
       "    }\n",
       "\n",
       "    .dataframe tbody tr th {\n",
       "        vertical-align: top;\n",
       "    }\n",
       "\n",
       "    .dataframe thead th {\n",
       "        text-align: right;\n",
       "    }\n",
       "</style>\n",
       "<table border=\"1\" class=\"dataframe\">\n",
       "  <thead>\n",
       "    <tr style=\"text-align: right;\">\n",
       "      <th></th>\n",
       "      <th>beds</th>\n",
       "      <th>baths</th>\n",
       "      <th>size</th>\n",
       "      <th>lot_size</th>\n",
       "      <th>lot_size_units</th>\n",
       "      <th>price</th>\n",
       "    </tr>\n",
       "  </thead>\n",
       "  <tbody>\n",
       "    <tr>\n",
       "      <th>0</th>\n",
       "      <td>3</td>\n",
       "      <td>2.5</td>\n",
       "      <td>2590.0</td>\n",
       "      <td>6000.00</td>\n",
       "      <td>sqft</td>\n",
       "      <td>795000.0</td>\n",
       "    </tr>\n",
       "    <tr>\n",
       "      <th>1</th>\n",
       "      <td>4</td>\n",
       "      <td>2.0</td>\n",
       "      <td>2240.0</td>\n",
       "      <td>0.31</td>\n",
       "      <td>acre</td>\n",
       "      <td>915000.0</td>\n",
       "    </tr>\n",
       "    <tr>\n",
       "      <th>2</th>\n",
       "      <td>4</td>\n",
       "      <td>3.0</td>\n",
       "      <td>2040.0</td>\n",
       "      <td>3783.00</td>\n",
       "      <td>sqft</td>\n",
       "      <td>950000.0</td>\n",
       "    </tr>\n",
       "    <tr>\n",
       "      <th>3</th>\n",
       "      <td>4</td>\n",
       "      <td>3.0</td>\n",
       "      <td>3800.0</td>\n",
       "      <td>5175.00</td>\n",
       "      <td>sqft</td>\n",
       "      <td>1950000.0</td>\n",
       "    </tr>\n",
       "    <tr>\n",
       "      <th>5</th>\n",
       "      <td>2</td>\n",
       "      <td>2.0</td>\n",
       "      <td>1190.0</td>\n",
       "      <td>1.00</td>\n",
       "      <td>acre</td>\n",
       "      <td>740000.0</td>\n",
       "    </tr>\n",
       "  </tbody>\n",
       "</table>\n",
       "</div>"
      ],
      "text/plain": [
       "   beds  baths    size  lot_size lot_size_units      price\n",
       "0     3    2.5  2590.0   6000.00           sqft   795000.0\n",
       "1     4    2.0  2240.0      0.31           acre   915000.0\n",
       "2     4    3.0  2040.0   3783.00           sqft   950000.0\n",
       "3     4    3.0  3800.0   5175.00           sqft  1950000.0\n",
       "5     2    2.0  1190.0      1.00           acre   740000.0"
      ]
     },
     "execution_count": 213,
     "metadata": {},
     "output_type": "execute_result"
    }
   ],
   "source": [
    "data_no_missing_values.head()"
   ]
  },
  {
   "cell_type": "code",
   "execution_count": 214,
   "id": "2e000259-7ee1-43a1-a51f-1ec10e60ff1b",
   "metadata": {},
   "outputs": [],
   "source": [
    "conversion_factors = {\n",
    "    'acre': 43560,\n",
    "    'sqm': 10.7639,\n",
    "    'sqft': 1\n",
    "}\n",
    "\n",
    "data_no_missing_values[\"lot_size_in_sqft\"] = data_no_missing_values.apply (lambda row: row[\"lot_size\"] * conversion_factors.get(row[\"lot_size_units\"], 1), axis=1)"
   ]
  },
  {
   "cell_type": "code",
   "execution_count": 215,
   "id": "8dbb4a01-9bfc-4d6b-97cb-ca987026b562",
   "metadata": {},
   "outputs": [
    {
     "data": {
      "text/plain": [
       "Index(['beds', 'baths', 'size', 'lot_size', 'lot_size_units', 'price',\n",
       "       'lot_size_in_sqft'],\n",
       "      dtype='object')"
      ]
     },
     "execution_count": 215,
     "metadata": {},
     "output_type": "execute_result"
    }
   ],
   "source": [
    "data_no_missing_values.columns"
   ]
  },
  {
   "cell_type": "code",
   "execution_count": 216,
   "id": "9d7895b1-2613-47d2-9466-64609db31aab",
   "metadata": {},
   "outputs": [],
   "source": [
    "data_no_missing_values.drop(columns=['lot_size', 'lot_size_units'], axis=1, inplace=True)"
   ]
  },
  {
   "cell_type": "code",
   "execution_count": 217,
   "id": "94dedbcd-12a7-4ed2-90be-20809dd273f5",
   "metadata": {},
   "outputs": [],
   "source": [
    "data_no_missing_values.rename(columns={\"size\": \"size_in_sqft\"}, inplace=True)"
   ]
  },
  {
   "cell_type": "code",
   "execution_count": 218,
   "id": "3be60c4b-9707-452b-8c3f-6afcd5744d10",
   "metadata": {},
   "outputs": [
    {
     "name": "stdout",
     "output_type": "stream",
     "text": [
      "<class 'pandas.core.frame.DataFrame'>\n",
      "Index: 2097 entries, 0 to 2520\n",
      "Data columns (total 5 columns):\n",
      " #   Column            Non-Null Count  Dtype  \n",
      "---  ------            --------------  -----  \n",
      " 0   beds              2097 non-null   int64  \n",
      " 1   baths             2097 non-null   float64\n",
      " 2   size_in_sqft      2097 non-null   float64\n",
      " 3   price             2097 non-null   float64\n",
      " 4   lot_size_in_sqft  2097 non-null   float64\n",
      "dtypes: float64(4), int64(1)\n",
      "memory usage: 98.3 KB\n"
     ]
    }
   ],
   "source": [
    "data_no_missing_values.info()"
   ]
  },
  {
   "cell_type": "code",
   "execution_count": 219,
   "id": "b3e2f24d-d307-4949-994a-18dfee4a070c",
   "metadata": {},
   "outputs": [
    {
     "data": {
      "text/html": [
       "<div>\n",
       "<style scoped>\n",
       "    .dataframe tbody tr th:only-of-type {\n",
       "        vertical-align: middle;\n",
       "    }\n",
       "\n",
       "    .dataframe tbody tr th {\n",
       "        vertical-align: top;\n",
       "    }\n",
       "\n",
       "    .dataframe thead th {\n",
       "        text-align: right;\n",
       "    }\n",
       "</style>\n",
       "<table border=\"1\" class=\"dataframe\">\n",
       "  <thead>\n",
       "    <tr style=\"text-align: right;\">\n",
       "      <th></th>\n",
       "      <th>beds</th>\n",
       "      <th>baths</th>\n",
       "      <th>size_in_sqft</th>\n",
       "      <th>price</th>\n",
       "      <th>lot_size_in_sqft</th>\n",
       "    </tr>\n",
       "  </thead>\n",
       "  <tbody>\n",
       "    <tr>\n",
       "      <th>count</th>\n",
       "      <td>2097.000000</td>\n",
       "      <td>2097.000000</td>\n",
       "      <td>2097.000000</td>\n",
       "      <td>2.097000e+03</td>\n",
       "      <td>2.097000e+03</td>\n",
       "    </tr>\n",
       "    <tr>\n",
       "      <th>mean</th>\n",
       "      <td>3.137339</td>\n",
       "      <td>2.305436</td>\n",
       "      <td>1916.727706</td>\n",
       "      <td>1.039809e+06</td>\n",
       "      <td>1.678385e+04</td>\n",
       "    </tr>\n",
       "    <tr>\n",
       "      <th>std</th>\n",
       "      <td>1.175945</td>\n",
       "      <td>1.010824</td>\n",
       "      <td>915.073679</td>\n",
       "      <td>9.415656e+05</td>\n",
       "      <td>2.571518e+05</td>\n",
       "    </tr>\n",
       "    <tr>\n",
       "      <th>min</th>\n",
       "      <td>1.000000</td>\n",
       "      <td>0.500000</td>\n",
       "      <td>250.000000</td>\n",
       "      <td>1.590000e+05</td>\n",
       "      <td>5.000000e+02</td>\n",
       "    </tr>\n",
       "    <tr>\n",
       "      <th>25%</th>\n",
       "      <td>2.000000</td>\n",
       "      <td>1.500000</td>\n",
       "      <td>1280.000000</td>\n",
       "      <td>6.850000e+05</td>\n",
       "      <td>3.000000e+03</td>\n",
       "    </tr>\n",
       "    <tr>\n",
       "      <th>50%</th>\n",
       "      <td>3.000000</td>\n",
       "      <td>2.000000</td>\n",
       "      <td>1740.000000</td>\n",
       "      <td>8.700000e+05</td>\n",
       "      <td>5.000000e+03</td>\n",
       "    </tr>\n",
       "    <tr>\n",
       "      <th>75%</th>\n",
       "      <td>4.000000</td>\n",
       "      <td>3.000000</td>\n",
       "      <td>2390.000000</td>\n",
       "      <td>1.180000e+06</td>\n",
       "      <td>7.407000e+03</td>\n",
       "    </tr>\n",
       "    <tr>\n",
       "      <th>max</th>\n",
       "      <td>15.000000</td>\n",
       "      <td>9.000000</td>\n",
       "      <td>11010.000000</td>\n",
       "      <td>2.500000e+07</td>\n",
       "      <td>1.089000e+07</td>\n",
       "    </tr>\n",
       "  </tbody>\n",
       "</table>\n",
       "</div>"
      ],
      "text/plain": [
       "              beds        baths  size_in_sqft         price  lot_size_in_sqft\n",
       "count  2097.000000  2097.000000   2097.000000  2.097000e+03      2.097000e+03\n",
       "mean      3.137339     2.305436   1916.727706  1.039809e+06      1.678385e+04\n",
       "std       1.175945     1.010824    915.073679  9.415656e+05      2.571518e+05\n",
       "min       1.000000     0.500000    250.000000  1.590000e+05      5.000000e+02\n",
       "25%       2.000000     1.500000   1280.000000  6.850000e+05      3.000000e+03\n",
       "50%       3.000000     2.000000   1740.000000  8.700000e+05      5.000000e+03\n",
       "75%       4.000000     3.000000   2390.000000  1.180000e+06      7.407000e+03\n",
       "max      15.000000     9.000000  11010.000000  2.500000e+07      1.089000e+07"
      ]
     },
     "execution_count": 219,
     "metadata": {},
     "output_type": "execute_result"
    }
   ],
   "source": [
    "data_no_missing_values.describe(include=\"all\")"
   ]
  },
  {
   "cell_type": "markdown",
   "id": "6a0cda56-fc31-46e6-a3b8-b93bf1acceab",
   "metadata": {},
   "source": [
    "### Here I have the data prepared for the final preprocessing - outliers cut."
   ]
  },
  {
   "cell_type": "code",
   "execution_count": 220,
   "id": "91dc2a1d-aee8-445c-a24d-1bd85ff3a6a1",
   "metadata": {},
   "outputs": [],
   "source": [
    "data_clean = data_no_missing_values.copy()"
   ]
  },
  {
   "cell_type": "code",
   "execution_count": 221,
   "id": "4c101adb-ead0-4d5b-b150-e4dcac166de3",
   "metadata": {},
   "outputs": [],
   "source": [
    "sns.set_theme(style=\"darkgrid\")"
   ]
  },
  {
   "cell_type": "code",
   "execution_count": 222,
   "id": "b8b8dc67-d13b-45e8-bbad-f9718ac16eab",
   "metadata": {},
   "outputs": [
    {
     "data": {
      "text/plain": [
       "<seaborn.axisgrid.FacetGrid at 0x210b2aae310>"
      ]
     },
     "execution_count": 222,
     "metadata": {},
     "output_type": "execute_result"
    },
    {
     "data": {
      "image/png": "[encoded data removed]",
      "text/plain": [
       "<Figure size 500x500 with 1 Axes>"
      ]
     },
     "metadata": {},
     "output_type": "display_data"
    }
   ],
   "source": [
    "sns.displot(data_clean[\"price\"])"
   ]
  },
  {
   "cell_type": "markdown",
   "id": "46fcbe73-8779-4965-b30a-1a3b30e28a10",
   "metadata": {},
   "source": [
    "##### Lets drop 1 % of outliers based on price."
   ]
  },
  {
   "cell_type": "code",
   "execution_count": 223,
   "id": "14267bda-2012-4122-a443-c82fbad99005",
   "metadata": {},
   "outputs": [
    {
     "data": {
      "text/plain": [
       "3320799.999999999"
      ]
     },
     "execution_count": 223,
     "metadata": {},
     "output_type": "execute_result"
    }
   ],
   "source": [
    "q = data_clean[\"price\"].quantile(0.99)\n",
    "q"
   ]
  },
  {
   "cell_type": "code",
   "execution_count": 224,
   "id": "d5e0ddd4-b461-4eed-a65b-e93d054640a2",
   "metadata": {},
   "outputs": [
    {
     "name": "stdout",
     "output_type": "stream",
     "text": [
      "<class 'pandas.core.frame.DataFrame'>\n",
      "Index: 2076 entries, 0 to 2520\n",
      "Data columns (total 5 columns):\n",
      " #   Column            Non-Null Count  Dtype  \n",
      "---  ------            --------------  -----  \n",
      " 0   beds              2076 non-null   int64  \n",
      " 1   baths             2076 non-null   float64\n",
      " 2   size_in_sqft      2076 non-null   float64\n",
      " 3   price             2076 non-null   float64\n",
      " 4   lot_size_in_sqft  2076 non-null   float64\n",
      "dtypes: float64(4), int64(1)\n",
      "memory usage: 97.3 KB\n"
     ]
    }
   ],
   "source": [
    "data_clean[data_clean[\"price\"] < q].info()"
   ]
  },
  {
   "cell_type": "code",
   "execution_count": 225,
   "id": "f751f5a4-5473-4b2e-bda0-59086ba259e9",
   "metadata": {},
   "outputs": [],
   "source": [
    "data_price_outliers = data_clean[data_clean[\"price\"] < q]"
   ]
  },
  {
   "cell_type": "code",
   "execution_count": 226,
   "id": "6071f7ca-f85b-48a2-8c76-514e5ed06868",
   "metadata": {},
   "outputs": [
    {
     "name": "stdout",
     "output_type": "stream",
     "text": [
      "<class 'pandas.core.frame.DataFrame'>\n",
      "Index: 2076 entries, 0 to 2520\n",
      "Data columns (total 5 columns):\n",
      " #   Column            Non-Null Count  Dtype  \n",
      "---  ------            --------------  -----  \n",
      " 0   beds              2076 non-null   int64  \n",
      " 1   baths             2076 non-null   float64\n",
      " 2   size_in_sqft      2076 non-null   float64\n",
      " 3   price             2076 non-null   float64\n",
      " 4   lot_size_in_sqft  2076 non-null   float64\n",
      "dtypes: float64(4), int64(1)\n",
      "memory usage: 97.3 KB\n"
     ]
    }
   ],
   "source": [
    "data_price_outliers.info()"
   ]
  },
  {
   "cell_type": "code",
   "execution_count": 227,
   "id": "615fbab6-47db-4609-907c-b0606c79a680",
   "metadata": {},
   "outputs": [
    {
     "data": {
      "text/plain": [
       "<seaborn.axisgrid.FacetGrid at 0x2109accc6a0>"
      ]
     },
     "execution_count": 227,
     "metadata": {},
     "output_type": "execute_result"
    },
    {
     "data": {
      "image/png": "[encoded data removed]",
      "text/plain": [
       "<Figure size 500x500 with 1 Axes>"
      ]
     },
     "metadata": {},
     "output_type": "display_data"
    }
   ],
   "source": [
    "sns.displot(data_price_outliers[\"beds\"])"
   ]
  },
  {
   "cell_type": "markdown",
   "id": "14a7a0df-95ad-4a90-b570-f58aae90d47f",
   "metadata": {},
   "source": [
    "##### I will keep the beds, since it is topped by about 14 rooms."
   ]
  },
  {
   "cell_type": "code",
   "execution_count": 228,
   "id": "029ad315-13bc-48b5-af45-dc4cf0e3a003",
   "metadata": {},
   "outputs": [
    {
     "data": {
      "text/plain": [
       "<seaborn.axisgrid.FacetGrid at 0x210b2d8ac70>"
      ]
     },
     "execution_count": 228,
     "metadata": {},
     "output_type": "execute_result"
    },
    {
     "data": {
      "image/png": "[encoded data removed]",
      "text/plain": [
       "<Figure size 500x500 with 1 Axes>"
      ]
     },
     "metadata": {},
     "output_type": "display_data"
    }
   ],
   "source": [
    "sns.displot(data_price_outliers[\"baths\"])"
   ]
  },
  {
   "cell_type": "markdown",
   "id": "0f5ce098-0b81-4b6b-8cdb-0a9f7f763ed8",
   "metadata": {},
   "source": [
    "##### I will keep the baths, since it is topped by about 8-10 baths"
   ]
  },
  {
   "cell_type": "code",
   "execution_count": 229,
   "id": "08960cee-bd81-4be1-888b-7ace6791a42b",
   "metadata": {},
   "outputs": [
    {
     "data": {
      "text/plain": [
       "<seaborn.axisgrid.FacetGrid at 0x210b2ab6430>"
      ]
     },
     "execution_count": 229,
     "metadata": {},
     "output_type": "execute_result"
    },
    {
     "data": {
      "image/png": "[encoded data removed]",
      "text/plain": [
       "<Figure size 500x500 with 1 Axes>"
      ]
     },
     "metadata": {},
     "output_type": "display_data"
    }
   ],
   "source": [
    "sns.displot(data_price_outliers[\"size_in_sqft\"])"
   ]
  },
  {
   "cell_type": "code",
   "execution_count": 230,
   "id": "521cf356-0144-4fa4-97e9-ddbf68ee2a86",
   "metadata": {},
   "outputs": [
    {
     "data": {
      "text/plain": [
       "4393.75"
      ]
     },
     "execution_count": 230,
     "metadata": {},
     "output_type": "execute_result"
    }
   ],
   "source": [
    "q = data_price_outliers[\"size_in_sqft\"].quantile(0.99)\n",
    "q"
   ]
  },
  {
   "cell_type": "code",
   "execution_count": 231,
   "id": "30761aa7-42c9-4551-bae3-25166e022303",
   "metadata": {},
   "outputs": [],
   "source": [
    "data_size_in_sqt_outliers = data_price_outliers[data_price_outliers[\"size_in_sqft\"] < q]"
   ]
  },
  {
   "cell_type": "code",
   "execution_count": 232,
   "id": "325efa17-6f68-4e00-b20b-a7f40572212e",
   "metadata": {},
   "outputs": [
    {
     "name": "stdout",
     "output_type": "stream",
     "text": [
      "<class 'pandas.core.frame.DataFrame'>\n",
      "Index: 2055 entries, 0 to 2520\n",
      "Data columns (total 5 columns):\n",
      " #   Column            Non-Null Count  Dtype  \n",
      "---  ------            --------------  -----  \n",
      " 0   beds              2055 non-null   int64  \n",
      " 1   baths             2055 non-null   float64\n",
      " 2   size_in_sqft      2055 non-null   float64\n",
      " 3   price             2055 non-null   float64\n",
      " 4   lot_size_in_sqft  2055 non-null   float64\n",
      "dtypes: float64(4), int64(1)\n",
      "memory usage: 96.3 KB\n"
     ]
    }
   ],
   "source": [
    "data_size_in_sqt_outliers.info()"
   ]
  },
  {
   "cell_type": "code",
   "execution_count": 233,
   "id": "45019fd7-3bb7-4476-b8ce-99678d91f578",
   "metadata": {},
   "outputs": [
    {
     "data": {
      "text/plain": [
       "<seaborn.axisgrid.FacetGrid at 0x2109acbc040>"
      ]
     },
     "execution_count": 233,
     "metadata": {},
     "output_type": "execute_result"
    },
    {
     "data": {
      "image/png": "[encoded data removed]",
      "text/plain": [
       "<Figure size 500x500 with 1 Axes>"
      ]
     },
     "metadata": {},
     "output_type": "display_data"
    }
   ],
   "source": [
    "sns.displot(data_size_in_sqt_outliers[\"lot_size_in_sqft\"])"
   ]
  },
  {
   "cell_type": "code",
   "execution_count": 234,
   "id": "c0b0ddf8-13d4-46e1-b566-fac3f927e3dc",
   "metadata": {},
   "outputs": [
    {
     "data": {
      "text/plain": [
       "count    2.055000e+03\n",
       "mean     1.689156e+04\n",
       "std      2.597603e+05\n",
       "min      5.000000e+02\n",
       "25%      2.914500e+03\n",
       "50%      5.000000e+03\n",
       "75%      7.283000e+03\n",
       "max      1.089000e+07\n",
       "Name: lot_size_in_sqft, dtype: float64"
      ]
     },
     "execution_count": 234,
     "metadata": {},
     "output_type": "execute_result"
    }
   ],
   "source": [
    "data_size_in_sqt_outliers[\"lot_size_in_sqft\"].describe()"
   ]
  },
  {
   "cell_type": "code",
   "execution_count": null,
   "id": "4087d055-b881-4b39-95db-b2f8435013d6",
   "metadata": {},
   "outputs": [],
   "source": []
  },
  {
   "cell_type": "code",
   "execution_count": 235,
   "id": "a83a41e0-2bcb-43cc-addd-ee485107e132",
   "metadata": {},
   "outputs": [
    {
     "data": {
      "text/plain": [
       "172933.2"
      ]
     },
     "execution_count": 235,
     "metadata": {},
     "output_type": "execute_result"
    }
   ],
   "source": [
    "q = data_size_in_sqt_outliers[\"lot_size_in_sqft\"].quantile(0.99)\n",
    "q"
   ]
  },
  {
   "cell_type": "code",
   "execution_count": 236,
   "id": "05077b42-202d-4ad0-80fd-70e82d490c8a",
   "metadata": {},
   "outputs": [
    {
     "name": "stdout",
     "output_type": "stream",
     "text": [
      "<class 'pandas.core.frame.DataFrame'>\n",
      "Index: 2033 entries, 0 to 2520\n",
      "Data columns (total 5 columns):\n",
      " #   Column            Non-Null Count  Dtype  \n",
      "---  ------            --------------  -----  \n",
      " 0   beds              2033 non-null   int64  \n",
      " 1   baths             2033 non-null   float64\n",
      " 2   size_in_sqft      2033 non-null   float64\n",
      " 3   price             2033 non-null   float64\n",
      " 4   lot_size_in_sqft  2033 non-null   float64\n",
      "dtypes: float64(4), int64(1)\n",
      "memory usage: 95.3 KB\n"
     ]
    }
   ],
   "source": [
    "data_prepro = data_size_in_sqt_outliers[data_size_in_sqt_outliers[\"lot_size_in_sqft\"] < q]\n",
    "data_prepro.info()"
   ]
  },
  {
   "cell_type": "code",
   "execution_count": 238,
   "id": "44e8a503-64ae-4ad9-b5c0-5b429edfbf99",
   "metadata": {},
   "outputs": [
    {
     "data": {
      "text/plain": [
       "<seaborn.axisgrid.FacetGrid at 0x21104c28c10>"
      ]
     },
     "execution_count": 238,
     "metadata": {},
     "output_type": "execute_result"
    },
    {
     "data": {
      "image/png": "[encoded data removed]",
      "text/plain": [
       "<Figure size 500x500 with 1 Axes>"
      ]
     },
     "metadata": {},
     "output_type": "display_data"
    }
   ],
   "source": [
    "sns.displot(data_prepro[\"lot_size_in_sqft\"])"
   ]
  },
  {
   "cell_type": "code",
   "execution_count": 240,
   "id": "f6b82b78-f478-4eb8-bd5d-c3ee625a4b42",
   "metadata": {},
   "outputs": [
    {
     "data": {
      "text/html": [
       "<div>\n",
       "<style scoped>\n",
       "    .dataframe tbody tr th:only-of-type {\n",
       "        vertical-align: middle;\n",
       "    }\n",
       "\n",
       "    .dataframe tbody tr th {\n",
       "        vertical-align: top;\n",
       "    }\n",
       "\n",
       "    .dataframe thead th {\n",
       "        text-align: right;\n",
       "    }\n",
       "</style>\n",
       "<table border=\"1\" class=\"dataframe\">\n",
       "  <thead>\n",
       "    <tr style=\"text-align: right;\">\n",
       "      <th></th>\n",
       "      <th>beds</th>\n",
       "      <th>baths</th>\n",
       "      <th>size_in_sqft</th>\n",
       "      <th>price</th>\n",
       "      <th>lot_size_in_sqft</th>\n",
       "    </tr>\n",
       "  </thead>\n",
       "  <tbody>\n",
       "    <tr>\n",
       "      <th>count</th>\n",
       "      <td>2033.000000</td>\n",
       "      <td>2033.000000</td>\n",
       "      <td>2033.000000</td>\n",
       "      <td>2.033000e+03</td>\n",
       "      <td>2033.000000</td>\n",
       "    </tr>\n",
       "    <tr>\n",
       "      <th>mean</th>\n",
       "      <td>3.111166</td>\n",
       "      <td>2.270290</td>\n",
       "      <td>1863.420561</td>\n",
       "      <td>9.790085e+05</td>\n",
       "      <td>7331.740974</td>\n",
       "    </tr>\n",
       "    <tr>\n",
       "      <th>std</th>\n",
       "      <td>1.116465</td>\n",
       "      <td>0.961801</td>\n",
       "      <td>784.089688</td>\n",
       "      <td>4.654295e+05</td>\n",
       "      <td>12257.306505</td>\n",
       "    </tr>\n",
       "    <tr>\n",
       "      <th>min</th>\n",
       "      <td>1.000000</td>\n",
       "      <td>0.500000</td>\n",
       "      <td>376.000000</td>\n",
       "      <td>1.594880e+05</td>\n",
       "      <td>500.000000</td>\n",
       "    </tr>\n",
       "    <tr>\n",
       "      <th>25%</th>\n",
       "      <td>2.000000</td>\n",
       "      <td>1.500000</td>\n",
       "      <td>1280.000000</td>\n",
       "      <td>6.850000e+05</td>\n",
       "      <td>2856.000000</td>\n",
       "    </tr>\n",
       "    <tr>\n",
       "      <th>50%</th>\n",
       "      <td>3.000000</td>\n",
       "      <td>2.000000</td>\n",
       "      <td>1730.000000</td>\n",
       "      <td>8.650000e+05</td>\n",
       "      <td>5000.000000</td>\n",
       "    </tr>\n",
       "    <tr>\n",
       "      <th>75%</th>\n",
       "      <td>4.000000</td>\n",
       "      <td>3.000000</td>\n",
       "      <td>2360.000000</td>\n",
       "      <td>1.160000e+06</td>\n",
       "      <td>7200.000000</td>\n",
       "    </tr>\n",
       "    <tr>\n",
       "      <th>max</th>\n",
       "      <td>14.000000</td>\n",
       "      <td>9.000000</td>\n",
       "      <td>4385.000000</td>\n",
       "      <td>3.300000e+06</td>\n",
       "      <td>154202.400000</td>\n",
       "    </tr>\n",
       "  </tbody>\n",
       "</table>\n",
       "</div>"
      ],
      "text/plain": [
       "              beds        baths  size_in_sqft         price  lot_size_in_sqft\n",
       "count  2033.000000  2033.000000   2033.000000  2.033000e+03       2033.000000\n",
       "mean      3.111166     2.270290   1863.420561  9.790085e+05       7331.740974\n",
       "std       1.116465     0.961801    784.089688  4.654295e+05      12257.306505\n",
       "min       1.000000     0.500000    376.000000  1.594880e+05        500.000000\n",
       "25%       2.000000     1.500000   1280.000000  6.850000e+05       2856.000000\n",
       "50%       3.000000     2.000000   1730.000000  8.650000e+05       5000.000000\n",
       "75%       4.000000     3.000000   2360.000000  1.160000e+06       7200.000000\n",
       "max      14.000000     9.000000   4385.000000  3.300000e+06     154202.400000"
      ]
     },
     "execution_count": 240,
     "metadata": {},
     "output_type": "execute_result"
    }
   ],
   "source": [
    "data_prepro.describe(include=\"all\")"
   ]
  }
 ],
 "metadata": {
  "kernelspec": {
   "display_name": "Python 3 (ipykernel)",
   "language": "python",
   "name": "python3"
  },
  "language_info": {
   "codemirror_mode": {
    "name": "ipython",
    "version": 3
   },
   "file_extension": ".py",
   "mimetype": "text/x-python",
   "name": "python",
   "nbconvert_exporter": "python",
   "pygments_lexer": "ipython3",
   "version": "3.9.6"
  }
 },
 "nbformat": 4,
 "nbformat_minor": 5
}
