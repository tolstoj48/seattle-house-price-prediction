{
 "cells": [
  {
   "cell_type": "markdown",
   "id": "05b015f8-cd86-4a88-93e8-cbeabf5763d4",
   "metadata": {},
   "source": [
    "# TO DO: split the data into training and testing samples"
   ]
  },
  {
   "cell_type": "markdown",
   "id": "cfc447d7-dbd2-42d2-a038-e50e3bf728cd",
   "metadata": {},
   "source": [
    "### First, joing the test and train data into one, to split them and train the coding"
   ]
  },
  {
   "cell_type": "code",
   "execution_count": 301,
   "id": "3c8debc2-2e31-4fe1-b286-23a4bbde6870",
   "metadata": {},
   "outputs": [],
   "source": [
    "import pandas as pd\n",
    "import seaborn as sns\n",
    "import matplotlib.pyplot as plt\n",
    "from sklearn.linear_model import LinearRegression"
   ]
  },
  {
   "cell_type": "code",
   "execution_count": 302,
   "id": "5f874468-d5f6-4f7d-add8-cb2194c20054",
   "metadata": {},
   "outputs": [],
   "source": [
    "data_train = pd.read_csv(\"./data/train.csv\")\n",
    "data_test = pd.read_csv(\"./data/test.csv\")"
   ]
  },
  {
   "cell_type": "code",
   "execution_count": 303,
   "id": "4fc1863a-e7a8-4226-9d14-a5a31d7d0c5e",
   "metadata": {},
   "outputs": [
    {
     "name": "stdout",
     "output_type": "stream",
     "text": [
      "<class 'pandas.core.frame.DataFrame'>\n",
      "RangeIndex: 2016 entries, 0 to 2015\n",
      "Data columns (total 8 columns):\n",
      " #   Column          Non-Null Count  Dtype  \n",
      "---  ------          --------------  -----  \n",
      " 0   beds            2016 non-null   int64  \n",
      " 1   baths           2016 non-null   float64\n",
      " 2   size            2016 non-null   float64\n",
      " 3   size_units      2016 non-null   object \n",
      " 4   lot_size        1669 non-null   float64\n",
      " 5   lot_size_units  1669 non-null   object \n",
      " 6   zip_code        2016 non-null   int64  \n",
      " 7   price           2016 non-null   float64\n",
      "dtypes: float64(4), int64(2), object(2)\n",
      "memory usage: 126.1+ KB\n"
     ]
    }
   ],
   "source": [
    "data_train.info()"
   ]
  },
  {
   "cell_type": "code",
   "execution_count": 304,
   "id": "8f1d71ef-ee76-4450-a94b-b15da03e5b43",
   "metadata": {},
   "outputs": [
    {
     "name": "stdout",
     "output_type": "stream",
     "text": [
      "<class 'pandas.core.frame.DataFrame'>\n",
      "RangeIndex: 505 entries, 0 to 504\n",
      "Data columns (total 8 columns):\n",
      " #   Column          Non-Null Count  Dtype  \n",
      "---  ------          --------------  -----  \n",
      " 0   beds            505 non-null    int64  \n",
      " 1   baths           505 non-null    float64\n",
      " 2   size            505 non-null    float64\n",
      " 3   size_units      505 non-null    object \n",
      " 4   lot_size        428 non-null    float64\n",
      " 5   lot_size_units  428 non-null    object \n",
      " 6   zip_code        505 non-null    int64  \n",
      " 7   price           505 non-null    float64\n",
      "dtypes: float64(4), int64(2), object(2)\n",
      "memory usage: 31.7+ KB\n"
     ]
    }
   ],
   "source": [
    "data_test.info()"
   ]
  },
  {
   "cell_type": "code",
   "execution_count": 305,
   "id": "b99121b9-d68f-4264-a69b-7a4974d46e91",
   "metadata": {},
   "outputs": [
    {
     "data": {
      "text/plain": [
       "array([ True,  True,  True,  True,  True,  True,  True,  True])"
      ]
     },
     "execution_count": 305,
     "metadata": {},
     "output_type": "execute_result"
    }
   ],
   "source": [
    "data_train.columns == data_test.columns"
   ]
  },
  {
   "cell_type": "code",
   "execution_count": 306,
   "id": "36120882-6296-4169-8f67-a0d384ae81f0",
   "metadata": {},
   "outputs": [],
   "source": [
    "union_df = pd.concat([data_train, data_test], ignore_index=True, sort=False)"
   ]
  },
  {
   "cell_type": "code",
   "execution_count": 307,
   "id": "f47e736e-0b10-4601-85f9-506152ec9527",
   "metadata": {},
   "outputs": [
    {
     "name": "stdout",
     "output_type": "stream",
     "text": [
      "<class 'pandas.core.frame.DataFrame'>\n",
      "RangeIndex: 2521 entries, 0 to 2520\n",
      "Data columns (total 8 columns):\n",
      " #   Column          Non-Null Count  Dtype  \n",
      "---  ------          --------------  -----  \n",
      " 0   beds            2521 non-null   int64  \n",
      " 1   baths           2521 non-null   float64\n",
      " 2   size            2521 non-null   float64\n",
      " 3   size_units      2521 non-null   object \n",
      " 4   lot_size        2097 non-null   float64\n",
      " 5   lot_size_units  2097 non-null   object \n",
      " 6   zip_code        2521 non-null   int64  \n",
      " 7   price           2521 non-null   float64\n",
      "dtypes: float64(4), int64(2), object(2)\n",
      "memory usage: 157.7+ KB\n"
     ]
    }
   ],
   "source": [
    "union_df.info()"
   ]
  },
  {
   "cell_type": "code",
   "execution_count": 308,
   "id": "180397bb-01bb-48c4-aa97-8cba21d4997e",
   "metadata": {},
   "outputs": [
    {
     "data": {
      "text/html": [
       "<div>\n",
       "<style scoped>\n",
       "    .dataframe tbody tr th:only-of-type {\n",
       "        vertical-align: middle;\n",
       "    }\n",
       "\n",
       "    .dataframe tbody tr th {\n",
       "        vertical-align: top;\n",
       "    }\n",
       "\n",
       "    .dataframe thead th {\n",
       "        text-align: right;\n",
       "    }\n",
       "</style>\n",
       "<table border=\"1\" class=\"dataframe\">\n",
       "  <thead>\n",
       "    <tr style=\"text-align: right;\">\n",
       "      <th></th>\n",
       "      <th>beds</th>\n",
       "      <th>baths</th>\n",
       "      <th>size</th>\n",
       "      <th>size_units</th>\n",
       "      <th>lot_size</th>\n",
       "      <th>lot_size_units</th>\n",
       "      <th>zip_code</th>\n",
       "      <th>price</th>\n",
       "    </tr>\n",
       "  </thead>\n",
       "  <tbody>\n",
       "    <tr>\n",
       "      <th>0</th>\n",
       "      <td>3</td>\n",
       "      <td>2.5</td>\n",
       "      <td>2590.0</td>\n",
       "      <td>sqft</td>\n",
       "      <td>6000.00</td>\n",
       "      <td>sqft</td>\n",
       "      <td>98144</td>\n",
       "      <td>795000.0</td>\n",
       "    </tr>\n",
       "    <tr>\n",
       "      <th>1</th>\n",
       "      <td>4</td>\n",
       "      <td>2.0</td>\n",
       "      <td>2240.0</td>\n",
       "      <td>sqft</td>\n",
       "      <td>0.31</td>\n",
       "      <td>acre</td>\n",
       "      <td>98106</td>\n",
       "      <td>915000.0</td>\n",
       "    </tr>\n",
       "    <tr>\n",
       "      <th>2</th>\n",
       "      <td>4</td>\n",
       "      <td>3.0</td>\n",
       "      <td>2040.0</td>\n",
       "      <td>sqft</td>\n",
       "      <td>3783.00</td>\n",
       "      <td>sqft</td>\n",
       "      <td>98107</td>\n",
       "      <td>950000.0</td>\n",
       "    </tr>\n",
       "    <tr>\n",
       "      <th>3</th>\n",
       "      <td>4</td>\n",
       "      <td>3.0</td>\n",
       "      <td>3800.0</td>\n",
       "      <td>sqft</td>\n",
       "      <td>5175.00</td>\n",
       "      <td>sqft</td>\n",
       "      <td>98199</td>\n",
       "      <td>1950000.0</td>\n",
       "    </tr>\n",
       "    <tr>\n",
       "      <th>4</th>\n",
       "      <td>2</td>\n",
       "      <td>2.0</td>\n",
       "      <td>1042.0</td>\n",
       "      <td>sqft</td>\n",
       "      <td>NaN</td>\n",
       "      <td>NaN</td>\n",
       "      <td>98102</td>\n",
       "      <td>950000.0</td>\n",
       "    </tr>\n",
       "  </tbody>\n",
       "</table>\n",
       "</div>"
      ],
      "text/plain": [
       "   beds  baths    size size_units  lot_size lot_size_units  zip_code  \\\n",
       "0     3    2.5  2590.0       sqft   6000.00           sqft     98144   \n",
       "1     4    2.0  2240.0       sqft      0.31           acre     98106   \n",
       "2     4    3.0  2040.0       sqft   3783.00           sqft     98107   \n",
       "3     4    3.0  3800.0       sqft   5175.00           sqft     98199   \n",
       "4     2    2.0  1042.0       sqft       NaN            NaN     98102   \n",
       "\n",
       "       price  \n",
       "0   795000.0  \n",
       "1   915000.0  \n",
       "2   950000.0  \n",
       "3  1950000.0  \n",
       "4   950000.0  "
      ]
     },
     "execution_count": 308,
     "metadata": {},
     "output_type": "execute_result"
    }
   ],
   "source": [
    "union_df.head()"
   ]
  },
  {
   "cell_type": "code",
   "execution_count": 309,
   "id": "f45862a8-db5e-4386-af26-6d2125124ca1",
   "metadata": {},
   "outputs": [],
   "source": [
    "data = union_df.copy()"
   ]
  },
  {
   "cell_type": "code",
   "execution_count": 310,
   "id": "a994960f-a608-4390-9060-e52b3810e68a",
   "metadata": {},
   "outputs": [
    {
     "data": {
      "text/html": [
       "<div>\n",
       "<style scoped>\n",
       "    .dataframe tbody tr th:only-of-type {\n",
       "        vertical-align: middle;\n",
       "    }\n",
       "\n",
       "    .dataframe tbody tr th {\n",
       "        vertical-align: top;\n",
       "    }\n",
       "\n",
       "    .dataframe thead th {\n",
       "        text-align: right;\n",
       "    }\n",
       "</style>\n",
       "<table border=\"1\" class=\"dataframe\">\n",
       "  <thead>\n",
       "    <tr style=\"text-align: right;\">\n",
       "      <th></th>\n",
       "      <th>beds</th>\n",
       "      <th>baths</th>\n",
       "      <th>size</th>\n",
       "      <th>size_units</th>\n",
       "      <th>lot_size</th>\n",
       "      <th>lot_size_units</th>\n",
       "      <th>zip_code</th>\n",
       "      <th>price</th>\n",
       "    </tr>\n",
       "  </thead>\n",
       "  <tbody>\n",
       "    <tr>\n",
       "      <th>count</th>\n",
       "      <td>2521.000000</td>\n",
       "      <td>2521.000000</td>\n",
       "      <td>2521.000000</td>\n",
       "      <td>2521</td>\n",
       "      <td>2097.000000</td>\n",
       "      <td>2097</td>\n",
       "      <td>2521.000000</td>\n",
       "      <td>2.521000e+03</td>\n",
       "    </tr>\n",
       "    <tr>\n",
       "      <th>unique</th>\n",
       "      <td>NaN</td>\n",
       "      <td>NaN</td>\n",
       "      <td>NaN</td>\n",
       "      <td>1</td>\n",
       "      <td>NaN</td>\n",
       "      <td>2</td>\n",
       "      <td>NaN</td>\n",
       "      <td>NaN</td>\n",
       "    </tr>\n",
       "    <tr>\n",
       "      <th>top</th>\n",
       "      <td>NaN</td>\n",
       "      <td>NaN</td>\n",
       "      <td>NaN</td>\n",
       "      <td>sqft</td>\n",
       "      <td>NaN</td>\n",
       "      <td>sqft</td>\n",
       "      <td>NaN</td>\n",
       "      <td>NaN</td>\n",
       "    </tr>\n",
       "    <tr>\n",
       "      <th>freq</th>\n",
       "      <td>NaN</td>\n",
       "      <td>NaN</td>\n",
       "      <td>NaN</td>\n",
       "      <td>2521</td>\n",
       "      <td>NaN</td>\n",
       "      <td>1818</td>\n",
       "      <td>NaN</td>\n",
       "      <td>NaN</td>\n",
       "    </tr>\n",
       "    <tr>\n",
       "      <th>mean</th>\n",
       "      <td>2.877033</td>\n",
       "      <td>2.171956</td>\n",
       "      <td>1758.998017</td>\n",
       "      <td>NaN</td>\n",
       "      <td>3896.245794</td>\n",
       "      <td>NaN</td>\n",
       "      <td>98123.984927</td>\n",
       "      <td>9.668217e+05</td>\n",
       "    </tr>\n",
       "    <tr>\n",
       "      <th>std</th>\n",
       "      <td>1.247518</td>\n",
       "      <td>1.004397</td>\n",
       "      <td>921.608036</td>\n",
       "      <td>NaN</td>\n",
       "      <td>2714.651578</td>\n",
       "      <td>NaN</td>\n",
       "      <td>23.118736</td>\n",
       "      <td>8.870111e+05</td>\n",
       "    </tr>\n",
       "    <tr>\n",
       "      <th>min</th>\n",
       "      <td>1.000000</td>\n",
       "      <td>0.500000</td>\n",
       "      <td>250.000000</td>\n",
       "      <td>NaN</td>\n",
       "      <td>0.230000</td>\n",
       "      <td>NaN</td>\n",
       "      <td>98101.000000</td>\n",
       "      <td>1.590000e+05</td>\n",
       "    </tr>\n",
       "    <tr>\n",
       "      <th>25%</th>\n",
       "      <td>2.000000</td>\n",
       "      <td>1.500000</td>\n",
       "      <td>1086.000000</td>\n",
       "      <td>NaN</td>\n",
       "      <td>1263.000000</td>\n",
       "      <td>NaN</td>\n",
       "      <td>98108.000000</td>\n",
       "      <td>6.050000e+05</td>\n",
       "    </tr>\n",
       "    <tr>\n",
       "      <th>50%</th>\n",
       "      <td>3.000000</td>\n",
       "      <td>2.000000</td>\n",
       "      <td>1580.000000</td>\n",
       "      <td>NaN</td>\n",
       "      <td>4001.000000</td>\n",
       "      <td>NaN</td>\n",
       "      <td>98117.000000</td>\n",
       "      <td>8.130000e+05</td>\n",
       "    </tr>\n",
       "    <tr>\n",
       "      <th>75%</th>\n",
       "      <td>4.000000</td>\n",
       "      <td>2.500000</td>\n",
       "      <td>2270.000000</td>\n",
       "      <td>NaN</td>\n",
       "      <td>6000.000000</td>\n",
       "      <td>NaN</td>\n",
       "      <td>98126.000000</td>\n",
       "      <td>1.115000e+06</td>\n",
       "    </tr>\n",
       "    <tr>\n",
       "      <th>max</th>\n",
       "      <td>15.000000</td>\n",
       "      <td>9.000000</td>\n",
       "      <td>11010.000000</td>\n",
       "      <td>NaN</td>\n",
       "      <td>9998.000000</td>\n",
       "      <td>NaN</td>\n",
       "      <td>98199.000000</td>\n",
       "      <td>2.500000e+07</td>\n",
       "    </tr>\n",
       "  </tbody>\n",
       "</table>\n",
       "</div>"
      ],
      "text/plain": [
       "               beds        baths          size size_units     lot_size  \\\n",
       "count   2521.000000  2521.000000   2521.000000       2521  2097.000000   \n",
       "unique          NaN          NaN           NaN          1          NaN   \n",
       "top             NaN          NaN           NaN       sqft          NaN   \n",
       "freq            NaN          NaN           NaN       2521          NaN   \n",
       "mean       2.877033     2.171956   1758.998017        NaN  3896.245794   \n",
       "std        1.247518     1.004397    921.608036        NaN  2714.651578   \n",
       "min        1.000000     0.500000    250.000000        NaN     0.230000   \n",
       "25%        2.000000     1.500000   1086.000000        NaN  1263.000000   \n",
       "50%        3.000000     2.000000   1580.000000        NaN  4001.000000   \n",
       "75%        4.000000     2.500000   2270.000000        NaN  6000.000000   \n",
       "max       15.000000     9.000000  11010.000000        NaN  9998.000000   \n",
       "\n",
       "       lot_size_units      zip_code         price  \n",
       "count            2097   2521.000000  2.521000e+03  \n",
       "unique              2           NaN           NaN  \n",
       "top              sqft           NaN           NaN  \n",
       "freq             1818           NaN           NaN  \n",
       "mean              NaN  98123.984927  9.668217e+05  \n",
       "std               NaN     23.118736  8.870111e+05  \n",
       "min               NaN  98101.000000  1.590000e+05  \n",
       "25%               NaN  98108.000000  6.050000e+05  \n",
       "50%               NaN  98117.000000  8.130000e+05  \n",
       "75%               NaN  98126.000000  1.115000e+06  \n",
       "max               NaN  98199.000000  2.500000e+07  "
      ]
     },
     "execution_count": 310,
     "metadata": {},
     "output_type": "execute_result"
    }
   ],
   "source": [
    "data.describe(include=\"all\")"
   ]
  },
  {
   "cell_type": "code",
   "execution_count": 311,
   "id": "bff7bd65-0e43-46e5-8489-d3ea9b11bc73",
   "metadata": {},
   "outputs": [
    {
     "data": {
      "text/plain": [
       "size_units\n",
       "sqft    2521\n",
       "Name: count, dtype: int64"
      ]
     },
     "execution_count": 311,
     "metadata": {},
     "output_type": "execute_result"
    }
   ],
   "source": [
    "data[\"size_units\"].value_counts()"
   ]
  },
  {
   "cell_type": "code",
   "execution_count": 312,
   "id": "57da303a-1609-4ca7-bdbb-479dfb1871ce",
   "metadata": {},
   "outputs": [
    {
     "data": {
      "text/plain": [
       "lot_size_units\n",
       "sqft    1818\n",
       "acre     279\n",
       "Name: count, dtype: int64"
      ]
     },
     "execution_count": 312,
     "metadata": {},
     "output_type": "execute_result"
    }
   ],
   "source": [
    "data[\"lot_size_units\"].value_counts()"
   ]
  },
  {
   "cell_type": "markdown",
   "id": "00df3e89-ed51-4433-ad05-5138bcd5a099",
   "metadata": {},
   "source": [
    "##### I have to change the units to the same units, but first lets categorize zip codes accorgin to socioeconomic status and drop the columns not needed."
   ]
  },
  {
   "cell_type": "code",
   "execution_count": 313,
   "id": "58322667-4df2-4d5c-982c-cd291b54f739",
   "metadata": {},
   "outputs": [],
   "source": [
    "# Done by copilot, which claims that it is based on median household income of the areas under the given zipcode.\n",
    "\n",
    "seattle_zip_categories = {\n",
    "\n",
    "   \"98144\": \"middle lower\",\n",
    "    \"98106\": \"middle lower\",\n",
    "    \"98107\": \"middle upper\",\n",
    "    \"98199\": \"affluent\",\n",
    "    \"98102\": \"middle upper\",\n",
    "    \"98133\": \"middle lower\",\n",
    "    \"98105\": \"middle lower\",\n",
    "    \"98108\": \"middle lower\",\n",
    "    \"98178\": \"middle lower\",\n",
    "    \"98103\": \"middle upper\",\n",
    "    \"98177\": \"affluent\",\n",
    "    \"98115\": \"middle upper\",\n",
    "    \"98122\": \"middle lower\",\n",
    "    \"98119\": \"middle upper\",\n",
    "    \"98117\": \"affluent\",\n",
    "    \"98116\": \"middle upper\",\n",
    "    \"98146\": \"middle lower\",\n",
    "    \"98109\": \"middle upper\",\n",
    "    \"98125\": \"middle lower\",\n",
    "    \"98101\": \"middle lower\",\n",
    "    \"98126\": \"middle lower\",\n",
    "    \"98118\": \"middle lower\",\n",
    "    \"98112\": \"affluent\",\n",
    "    \"98121\": \"affluent\",\n",
    "    \"98136\": \"affluent\",\n",
    "    \"98168\": \"lower\",\n",
    "    \"98104\": \"lower\",\n",
    "    \"98164\": \"affluent\",\n",
    "    \"98188\": \"lower\"\n",
    "\n",
    "}\n"
   ]
  },
  {
   "cell_type": "code",
   "execution_count": 314,
   "id": "94335421-7723-46bb-92a9-f2c261bd2998",
   "metadata": {},
   "outputs": [],
   "source": [
    "data[\"zip_code_category\"] = data.apply(lambda row: seattle_zip_categories.get(str(row[\"zip_code\"])), axis = 1)"
   ]
  },
  {
   "cell_type": "code",
   "execution_count": 315,
   "id": "dd247365-7e16-48fa-a13f-3651ab45b722",
   "metadata": {},
   "outputs": [
    {
     "data": {
      "text/html": [
       "<div>\n",
       "<style scoped>\n",
       "    .dataframe tbody tr th:only-of-type {\n",
       "        vertical-align: middle;\n",
       "    }\n",
       "\n",
       "    .dataframe tbody tr th {\n",
       "        vertical-align: top;\n",
       "    }\n",
       "\n",
       "    .dataframe thead th {\n",
       "        text-align: right;\n",
       "    }\n",
       "</style>\n",
       "<table border=\"1\" class=\"dataframe\">\n",
       "  <thead>\n",
       "    <tr style=\"text-align: right;\">\n",
       "      <th></th>\n",
       "      <th>beds</th>\n",
       "      <th>baths</th>\n",
       "      <th>size</th>\n",
       "      <th>size_units</th>\n",
       "      <th>lot_size</th>\n",
       "      <th>lot_size_units</th>\n",
       "      <th>zip_code</th>\n",
       "      <th>price</th>\n",
       "      <th>zip_code_category</th>\n",
       "    </tr>\n",
       "  </thead>\n",
       "  <tbody>\n",
       "    <tr>\n",
       "      <th>0</th>\n",
       "      <td>3</td>\n",
       "      <td>2.5</td>\n",
       "      <td>2590.0</td>\n",
       "      <td>sqft</td>\n",
       "      <td>6000.00</td>\n",
       "      <td>sqft</td>\n",
       "      <td>98144</td>\n",
       "      <td>795000.0</td>\n",
       "      <td>middle lower</td>\n",
       "    </tr>\n",
       "    <tr>\n",
       "      <th>1</th>\n",
       "      <td>4</td>\n",
       "      <td>2.0</td>\n",
       "      <td>2240.0</td>\n",
       "      <td>sqft</td>\n",
       "      <td>0.31</td>\n",
       "      <td>acre</td>\n",
       "      <td>98106</td>\n",
       "      <td>915000.0</td>\n",
       "      <td>middle lower</td>\n",
       "    </tr>\n",
       "    <tr>\n",
       "      <th>2</th>\n",
       "      <td>4</td>\n",
       "      <td>3.0</td>\n",
       "      <td>2040.0</td>\n",
       "      <td>sqft</td>\n",
       "      <td>3783.00</td>\n",
       "      <td>sqft</td>\n",
       "      <td>98107</td>\n",
       "      <td>950000.0</td>\n",
       "      <td>middle upper</td>\n",
       "    </tr>\n",
       "    <tr>\n",
       "      <th>3</th>\n",
       "      <td>4</td>\n",
       "      <td>3.0</td>\n",
       "      <td>3800.0</td>\n",
       "      <td>sqft</td>\n",
       "      <td>5175.00</td>\n",
       "      <td>sqft</td>\n",
       "      <td>98199</td>\n",
       "      <td>1950000.0</td>\n",
       "      <td>affluent</td>\n",
       "    </tr>\n",
       "    <tr>\n",
       "      <th>4</th>\n",
       "      <td>2</td>\n",
       "      <td>2.0</td>\n",
       "      <td>1042.0</td>\n",
       "      <td>sqft</td>\n",
       "      <td>NaN</td>\n",
       "      <td>NaN</td>\n",
       "      <td>98102</td>\n",
       "      <td>950000.0</td>\n",
       "      <td>middle upper</td>\n",
       "    </tr>\n",
       "  </tbody>\n",
       "</table>\n",
       "</div>"
      ],
      "text/plain": [
       "   beds  baths    size size_units  lot_size lot_size_units  zip_code  \\\n",
       "0     3    2.5  2590.0       sqft   6000.00           sqft     98144   \n",
       "1     4    2.0  2240.0       sqft      0.31           acre     98106   \n",
       "2     4    3.0  2040.0       sqft   3783.00           sqft     98107   \n",
       "3     4    3.0  3800.0       sqft   5175.00           sqft     98199   \n",
       "4     2    2.0  1042.0       sqft       NaN            NaN     98102   \n",
       "\n",
       "       price zip_code_category  \n",
       "0   795000.0      middle lower  \n",
       "1   915000.0      middle lower  \n",
       "2   950000.0      middle upper  \n",
       "3  1950000.0          affluent  \n",
       "4   950000.0      middle upper  "
      ]
     },
     "execution_count": 315,
     "metadata": {},
     "output_type": "execute_result"
    }
   ],
   "source": [
    "data.head()"
   ]
  },
  {
   "cell_type": "code",
   "execution_count": 316,
   "id": "60c7950c-c341-4f2b-ade4-1934603c6a7a",
   "metadata": {},
   "outputs": [
    {
     "data": {
      "text/plain": [
       "array([98144, 98106, 98107, 98199, 98102, 98133, 98105, 98108, 98178,\n",
       "       98103, 98177, 98115, 98122, 98119, 98117, 98116, 98146, 98109,\n",
       "       98125, 98101, 98126, 98118, 98112, 98121, 98136, 98168, 98104,\n",
       "       98164, 98188], dtype=int64)"
      ]
     },
     "execution_count": 316,
     "metadata": {},
     "output_type": "execute_result"
    }
   ],
   "source": [
    "data[\"zip_code\"].unique()"
   ]
  },
  {
   "cell_type": "code",
   "execution_count": 317,
   "id": "d48ac5ac-58a5-4f7d-8d6f-e80132b38c3f",
   "metadata": {},
   "outputs": [
    {
     "data": {
      "text/html": [
       "<div>\n",
       "<style scoped>\n",
       "    .dataframe tbody tr th:only-of-type {\n",
       "        vertical-align: middle;\n",
       "    }\n",
       "\n",
       "    .dataframe tbody tr th {\n",
       "        vertical-align: top;\n",
       "    }\n",
       "\n",
       "    .dataframe thead th {\n",
       "        text-align: right;\n",
       "    }\n",
       "</style>\n",
       "<table border=\"1\" class=\"dataframe\">\n",
       "  <thead>\n",
       "    <tr style=\"text-align: right;\">\n",
       "      <th></th>\n",
       "      <th>beds</th>\n",
       "      <th>baths</th>\n",
       "      <th>size</th>\n",
       "      <th>size_units</th>\n",
       "      <th>lot_size</th>\n",
       "      <th>lot_size_units</th>\n",
       "      <th>zip_code</th>\n",
       "      <th>price</th>\n",
       "      <th>zip_code_category</th>\n",
       "    </tr>\n",
       "  </thead>\n",
       "  <tbody>\n",
       "  </tbody>\n",
       "</table>\n",
       "</div>"
      ],
      "text/plain": [
       "Empty DataFrame\n",
       "Columns: [beds, baths, size, size_units, lot_size, lot_size_units, zip_code, price, zip_code_category]\n",
       "Index: []"
      ]
     },
     "execution_count": 317,
     "metadata": {},
     "output_type": "execute_result"
    }
   ],
   "source": [
    "data[data[\"zip_code_category\"].isnull()]"
   ]
  },
  {
   "cell_type": "code",
   "execution_count": 318,
   "id": "eaf32671-35fd-4dba-ae14-4b8dc51235fa",
   "metadata": {},
   "outputs": [],
   "source": [
    "data.drop(columns=[\"zip_code\",\"size_units\"], inplace=True)"
   ]
  },
  {
   "cell_type": "code",
   "execution_count": 319,
   "id": "9ccfd0e3-ec19-4bf7-aca2-956a97d7c8cf",
   "metadata": {},
   "outputs": [
    {
     "data": {
      "text/plain": [
       "beds                   0\n",
       "baths                  0\n",
       "size                   0\n",
       "lot_size             424\n",
       "lot_size_units       424\n",
       "price                  0\n",
       "zip_code_category      0\n",
       "dtype: int64"
      ]
     },
     "execution_count": 319,
     "metadata": {},
     "output_type": "execute_result"
    }
   ],
   "source": [
    "data.isnull().sum()"
   ]
  },
  {
   "cell_type": "markdown",
   "id": "cf13daa6-584d-47b5-ba8b-3771613c9816",
   "metadata": {},
   "source": [
    "##### What is the proportion potentially dropped?"
   ]
  },
  {
   "cell_type": "code",
   "execution_count": 320,
   "id": "4a96f31c-e2c5-43a5-982e-7d599c7c8aa8",
   "metadata": {},
   "outputs": [
    {
     "data": {
      "text/plain": [
       "0.16818722729075763"
      ]
     },
     "execution_count": 320,
     "metadata": {},
     "output_type": "execute_result"
    }
   ],
   "source": [
    "424/2521"
   ]
  },
  {
   "cell_type": "code",
   "execution_count": 321,
   "id": "1c6983aa-9638-45dd-b9ef-b8d7fd113c04",
   "metadata": {},
   "outputs": [],
   "source": [
    "data.dropna(axis=0, inplace=True)"
   ]
  },
  {
   "cell_type": "code",
   "execution_count": 322,
   "id": "eeb1cc09-987d-484f-b792-b1f2cc892894",
   "metadata": {},
   "outputs": [],
   "source": [
    "data_no_missing_values = data.copy()"
   ]
  },
  {
   "cell_type": "code",
   "execution_count": 323,
   "id": "f50bb9b3-3cfd-42e6-bf81-10285f849afa",
   "metadata": {},
   "outputs": [
    {
     "data": {
      "text/html": [
       "<div>\n",
       "<style scoped>\n",
       "    .dataframe tbody tr th:only-of-type {\n",
       "        vertical-align: middle;\n",
       "    }\n",
       "\n",
       "    .dataframe tbody tr th {\n",
       "        vertical-align: top;\n",
       "    }\n",
       "\n",
       "    .dataframe thead th {\n",
       "        text-align: right;\n",
       "    }\n",
       "</style>\n",
       "<table border=\"1\" class=\"dataframe\">\n",
       "  <thead>\n",
       "    <tr style=\"text-align: right;\">\n",
       "      <th></th>\n",
       "      <th>beds</th>\n",
       "      <th>baths</th>\n",
       "      <th>size</th>\n",
       "      <th>lot_size</th>\n",
       "      <th>lot_size_units</th>\n",
       "      <th>price</th>\n",
       "      <th>zip_code_category</th>\n",
       "    </tr>\n",
       "  </thead>\n",
       "  <tbody>\n",
       "    <tr>\n",
       "      <th>0</th>\n",
       "      <td>3</td>\n",
       "      <td>2.5</td>\n",
       "      <td>2590.0</td>\n",
       "      <td>6000.00</td>\n",
       "      <td>sqft</td>\n",
       "      <td>795000.0</td>\n",
       "      <td>middle lower</td>\n",
       "    </tr>\n",
       "    <tr>\n",
       "      <th>1</th>\n",
       "      <td>4</td>\n",
       "      <td>2.0</td>\n",
       "      <td>2240.0</td>\n",
       "      <td>0.31</td>\n",
       "      <td>acre</td>\n",
       "      <td>915000.0</td>\n",
       "      <td>middle lower</td>\n",
       "    </tr>\n",
       "    <tr>\n",
       "      <th>2</th>\n",
       "      <td>4</td>\n",
       "      <td>3.0</td>\n",
       "      <td>2040.0</td>\n",
       "      <td>3783.00</td>\n",
       "      <td>sqft</td>\n",
       "      <td>950000.0</td>\n",
       "      <td>middle upper</td>\n",
       "    </tr>\n",
       "    <tr>\n",
       "      <th>3</th>\n",
       "      <td>4</td>\n",
       "      <td>3.0</td>\n",
       "      <td>3800.0</td>\n",
       "      <td>5175.00</td>\n",
       "      <td>sqft</td>\n",
       "      <td>1950000.0</td>\n",
       "      <td>affluent</td>\n",
       "    </tr>\n",
       "    <tr>\n",
       "      <th>5</th>\n",
       "      <td>2</td>\n",
       "      <td>2.0</td>\n",
       "      <td>1190.0</td>\n",
       "      <td>1.00</td>\n",
       "      <td>acre</td>\n",
       "      <td>740000.0</td>\n",
       "      <td>middle upper</td>\n",
       "    </tr>\n",
       "  </tbody>\n",
       "</table>\n",
       "</div>"
      ],
      "text/plain": [
       "   beds  baths    size  lot_size lot_size_units      price zip_code_category\n",
       "0     3    2.5  2590.0   6000.00           sqft   795000.0      middle lower\n",
       "1     4    2.0  2240.0      0.31           acre   915000.0      middle lower\n",
       "2     4    3.0  2040.0   3783.00           sqft   950000.0      middle upper\n",
       "3     4    3.0  3800.0   5175.00           sqft  1950000.0          affluent\n",
       "5     2    2.0  1190.0      1.00           acre   740000.0      middle upper"
      ]
     },
     "execution_count": 323,
     "metadata": {},
     "output_type": "execute_result"
    }
   ],
   "source": [
    "data_no_missing_values.head()"
   ]
  },
  {
   "cell_type": "code",
   "execution_count": 324,
   "id": "2e000259-7ee1-43a1-a51f-1ec10e60ff1b",
   "metadata": {},
   "outputs": [],
   "source": [
    "conversion_factors = {\n",
    "    'acre': 43560,\n",
    "    'sqm': 10.7639,\n",
    "    'sqft': 1\n",
    "}\n",
    "\n",
    "data_no_missing_values[\"lot_size_in_sqft\"] = data_no_missing_values.apply (lambda row: row[\"lot_size\"] * conversion_factors.get(row[\"lot_size_units\"], 1), axis=1)"
   ]
  },
  {
   "cell_type": "code",
   "execution_count": 325,
   "id": "8dbb4a01-9bfc-4d6b-97cb-ca987026b562",
   "metadata": {},
   "outputs": [
    {
     "data": {
      "text/plain": [
       "Index(['beds', 'baths', 'size', 'lot_size', 'lot_size_units', 'price',\n",
       "       'zip_code_category', 'lot_size_in_sqft'],\n",
       "      dtype='object')"
      ]
     },
     "execution_count": 325,
     "metadata": {},
     "output_type": "execute_result"
    }
   ],
   "source": [
    "data_no_missing_values.columns"
   ]
  },
  {
   "cell_type": "code",
   "execution_count": 326,
   "id": "9d7895b1-2613-47d2-9466-64609db31aab",
   "metadata": {},
   "outputs": [],
   "source": [
    "data_no_missing_values.drop(columns=['lot_size', 'lot_size_units'], axis=1, inplace=True)"
   ]
  },
  {
   "cell_type": "code",
   "execution_count": 327,
   "id": "94dedbcd-12a7-4ed2-90be-20809dd273f5",
   "metadata": {},
   "outputs": [],
   "source": [
    "data_no_missing_values.rename(columns={\"size\": \"size_in_sqft\"}, inplace=True)"
   ]
  },
  {
   "cell_type": "code",
   "execution_count": 328,
   "id": "3be60c4b-9707-452b-8c3f-6afcd5744d10",
   "metadata": {},
   "outputs": [
    {
     "name": "stdout",
     "output_type": "stream",
     "text": [
      "<class 'pandas.core.frame.DataFrame'>\n",
      "Index: 2097 entries, 0 to 2520\n",
      "Data columns (total 6 columns):\n",
      " #   Column             Non-Null Count  Dtype  \n",
      "---  ------             --------------  -----  \n",
      " 0   beds               2097 non-null   int64  \n",
      " 1   baths              2097 non-null   float64\n",
      " 2   size_in_sqft       2097 non-null   float64\n",
      " 3   price              2097 non-null   float64\n",
      " 4   zip_code_category  2097 non-null   object \n",
      " 5   lot_size_in_sqft   2097 non-null   float64\n",
      "dtypes: float64(4), int64(1), object(1)\n",
      "memory usage: 114.7+ KB\n"
     ]
    }
   ],
   "source": [
    "data_no_missing_values.info()"
   ]
  },
  {
   "cell_type": "code",
   "execution_count": 329,
   "id": "b3e2f24d-d307-4949-994a-18dfee4a070c",
   "metadata": {},
   "outputs": [
    {
     "data": {
      "text/html": [
       "<div>\n",
       "<style scoped>\n",
       "    .dataframe tbody tr th:only-of-type {\n",
       "        vertical-align: middle;\n",
       "    }\n",
       "\n",
       "    .dataframe tbody tr th {\n",
       "        vertical-align: top;\n",
       "    }\n",
       "\n",
       "    .dataframe thead th {\n",
       "        text-align: right;\n",
       "    }\n",
       "</style>\n",
       "<table border=\"1\" class=\"dataframe\">\n",
       "  <thead>\n",
       "    <tr style=\"text-align: right;\">\n",
       "      <th></th>\n",
       "      <th>beds</th>\n",
       "      <th>baths</th>\n",
       "      <th>size_in_sqft</th>\n",
       "      <th>price</th>\n",
       "      <th>zip_code_category</th>\n",
       "      <th>lot_size_in_sqft</th>\n",
       "    </tr>\n",
       "  </thead>\n",
       "  <tbody>\n",
       "    <tr>\n",
       "      <th>count</th>\n",
       "      <td>2097.000000</td>\n",
       "      <td>2097.000000</td>\n",
       "      <td>2097.000000</td>\n",
       "      <td>2.097000e+03</td>\n",
       "      <td>2097</td>\n",
       "      <td>2.097000e+03</td>\n",
       "    </tr>\n",
       "    <tr>\n",
       "      <th>unique</th>\n",
       "      <td>NaN</td>\n",
       "      <td>NaN</td>\n",
       "      <td>NaN</td>\n",
       "      <td>NaN</td>\n",
       "      <td>4</td>\n",
       "      <td>NaN</td>\n",
       "    </tr>\n",
       "    <tr>\n",
       "      <th>top</th>\n",
       "      <td>NaN</td>\n",
       "      <td>NaN</td>\n",
       "      <td>NaN</td>\n",
       "      <td>NaN</td>\n",
       "      <td>middle lower</td>\n",
       "      <td>NaN</td>\n",
       "    </tr>\n",
       "    <tr>\n",
       "      <th>freq</th>\n",
       "      <td>NaN</td>\n",
       "      <td>NaN</td>\n",
       "      <td>NaN</td>\n",
       "      <td>NaN</td>\n",
       "      <td>907</td>\n",
       "      <td>NaN</td>\n",
       "    </tr>\n",
       "    <tr>\n",
       "      <th>mean</th>\n",
       "      <td>3.137339</td>\n",
       "      <td>2.305436</td>\n",
       "      <td>1916.727706</td>\n",
       "      <td>1.039809e+06</td>\n",
       "      <td>NaN</td>\n",
       "      <td>1.678385e+04</td>\n",
       "    </tr>\n",
       "    <tr>\n",
       "      <th>std</th>\n",
       "      <td>1.175945</td>\n",
       "      <td>1.010824</td>\n",
       "      <td>915.073679</td>\n",
       "      <td>9.415656e+05</td>\n",
       "      <td>NaN</td>\n",
       "      <td>2.571518e+05</td>\n",
       "    </tr>\n",
       "    <tr>\n",
       "      <th>min</th>\n",
       "      <td>1.000000</td>\n",
       "      <td>0.500000</td>\n",
       "      <td>250.000000</td>\n",
       "      <td>1.590000e+05</td>\n",
       "      <td>NaN</td>\n",
       "      <td>5.000000e+02</td>\n",
       "    </tr>\n",
       "    <tr>\n",
       "      <th>25%</th>\n",
       "      <td>2.000000</td>\n",
       "      <td>1.500000</td>\n",
       "      <td>1280.000000</td>\n",
       "      <td>6.850000e+05</td>\n",
       "      <td>NaN</td>\n",
       "      <td>3.000000e+03</td>\n",
       "    </tr>\n",
       "    <tr>\n",
       "      <th>50%</th>\n",
       "      <td>3.000000</td>\n",
       "      <td>2.000000</td>\n",
       "      <td>1740.000000</td>\n",
       "      <td>8.700000e+05</td>\n",
       "      <td>NaN</td>\n",
       "      <td>5.000000e+03</td>\n",
       "    </tr>\n",
       "    <tr>\n",
       "      <th>75%</th>\n",
       "      <td>4.000000</td>\n",
       "      <td>3.000000</td>\n",
       "      <td>2390.000000</td>\n",
       "      <td>1.180000e+06</td>\n",
       "      <td>NaN</td>\n",
       "      <td>7.407000e+03</td>\n",
       "    </tr>\n",
       "    <tr>\n",
       "      <th>max</th>\n",
       "      <td>15.000000</td>\n",
       "      <td>9.000000</td>\n",
       "      <td>11010.000000</td>\n",
       "      <td>2.500000e+07</td>\n",
       "      <td>NaN</td>\n",
       "      <td>1.089000e+07</td>\n",
       "    </tr>\n",
       "  </tbody>\n",
       "</table>\n",
       "</div>"
      ],
      "text/plain": [
       "               beds        baths  size_in_sqft         price  \\\n",
       "count   2097.000000  2097.000000   2097.000000  2.097000e+03   \n",
       "unique          NaN          NaN           NaN           NaN   \n",
       "top             NaN          NaN           NaN           NaN   \n",
       "freq            NaN          NaN           NaN           NaN   \n",
       "mean       3.137339     2.305436   1916.727706  1.039809e+06   \n",
       "std        1.175945     1.010824    915.073679  9.415656e+05   \n",
       "min        1.000000     0.500000    250.000000  1.590000e+05   \n",
       "25%        2.000000     1.500000   1280.000000  6.850000e+05   \n",
       "50%        3.000000     2.000000   1740.000000  8.700000e+05   \n",
       "75%        4.000000     3.000000   2390.000000  1.180000e+06   \n",
       "max       15.000000     9.000000  11010.000000  2.500000e+07   \n",
       "\n",
       "       zip_code_category  lot_size_in_sqft  \n",
       "count               2097      2.097000e+03  \n",
       "unique                 4               NaN  \n",
       "top         middle lower               NaN  \n",
       "freq                 907               NaN  \n",
       "mean                 NaN      1.678385e+04  \n",
       "std                  NaN      2.571518e+05  \n",
       "min                  NaN      5.000000e+02  \n",
       "25%                  NaN      3.000000e+03  \n",
       "50%                  NaN      5.000000e+03  \n",
       "75%                  NaN      7.407000e+03  \n",
       "max                  NaN      1.089000e+07  "
      ]
     },
     "execution_count": 329,
     "metadata": {},
     "output_type": "execute_result"
    }
   ],
   "source": [
    "data_no_missing_values.describe(include=\"all\")"
   ]
  },
  {
   "cell_type": "markdown",
   "id": "6a0cda56-fc31-46e6-a3b8-b93bf1acceab",
   "metadata": {},
   "source": [
    "### Here I have the data prepared for the final preprocessing - outliers cut."
   ]
  },
  {
   "cell_type": "code",
   "execution_count": 330,
   "id": "91dc2a1d-aee8-445c-a24d-1bd85ff3a6a1",
   "metadata": {},
   "outputs": [],
   "source": [
    "data_clean = data_no_missing_values.copy()"
   ]
  },
  {
   "cell_type": "code",
   "execution_count": 331,
   "id": "4c101adb-ead0-4d5b-b150-e4dcac166de3",
   "metadata": {},
   "outputs": [],
   "source": [
    "sns.set_theme(style=\"darkgrid\")"
   ]
  },
  {
   "cell_type": "code",
   "execution_count": 332,
   "id": "b8b8dc67-d13b-45e8-bbad-f9718ac16eab",
   "metadata": {},
   "outputs": [
    {
     "data": {
      "text/plain": [
       "<seaborn.axisgrid.FacetGrid at 0x26fd7bb4820>"
      ]
     },
     "execution_count": 332,
     "metadata": {},
     "output_type": "execute_result"
    },
    {
     "data": {
      "image/png": "[encoded data removed]",
      "text/plain": [
       "<Figure size 500x500 with 1 Axes>"
      ]
     },
     "metadata": {},
     "output_type": "display_data"
    }
   ],
   "source": [
    "sns.displot(data_clean[\"price\"])"
   ]
  },
  {
   "cell_type": "markdown",
   "id": "46fcbe73-8779-4965-b30a-1a3b30e28a10",
   "metadata": {},
   "source": [
    "##### Lets drop above q3 + 1,5 * interquartille range in price."
   ]
  },
  {
   "cell_type": "code",
   "execution_count": 333,
   "id": "14267bda-2012-4122-a443-c82fbad99005",
   "metadata": {},
   "outputs": [],
   "source": [
    "q1 = data_clean[\"price\"].quantile(0.25)\n",
    "q3 = data_clean[\"price\"].quantile(0.75)\n",
    "iqr = q3 - q1\n",
    "outlier_price_upper = q3 + 1.5 * iqr\n",
    "outlier_price_lower = q1 - 1.5 * iqr"
   ]
  },
  {
   "cell_type": "code",
   "execution_count": 334,
   "id": "f751f5a4-5473-4b2e-bda0-59086ba259e9",
   "metadata": {},
   "outputs": [],
   "source": [
    "data_price_outliers = data_clean[data_clean[\"price\"].between(outlier_price_lower, outlier_price_upper)]"
   ]
  },
  {
   "cell_type": "code",
   "execution_count": 335,
   "id": "6071f7ca-f85b-48a2-8c76-514e5ed06868",
   "metadata": {},
   "outputs": [
    {
     "name": "stdout",
     "output_type": "stream",
     "text": [
      "<class 'pandas.core.frame.DataFrame'>\n",
      "Index: 1962 entries, 0 to 2520\n",
      "Data columns (total 6 columns):\n",
      " #   Column             Non-Null Count  Dtype  \n",
      "---  ------             --------------  -----  \n",
      " 0   beds               1962 non-null   int64  \n",
      " 1   baths              1962 non-null   float64\n",
      " 2   size_in_sqft       1962 non-null   float64\n",
      " 3   price              1962 non-null   float64\n",
      " 4   zip_code_category  1962 non-null   object \n",
      " 5   lot_size_in_sqft   1962 non-null   float64\n",
      "dtypes: float64(4), int64(1), object(1)\n",
      "memory usage: 107.3+ KB\n"
     ]
    }
   ],
   "source": [
    "data_price_outliers.info()"
   ]
  },
  {
   "cell_type": "code",
   "execution_count": 336,
   "id": "615fbab6-47db-4609-907c-b0606c79a680",
   "metadata": {},
   "outputs": [
    {
     "data": {
      "text/plain": [
       "<seaborn.axisgrid.FacetGrid at 0x26fde0fde80>"
      ]
     },
     "execution_count": 336,
     "metadata": {},
     "output_type": "execute_result"
    },
    {
     "data": {
      "image/png": "[encoded data removed]",
      "text/plain": [
       "<Figure size 500x500 with 1 Axes>"
      ]
     },
     "metadata": {},
     "output_type": "display_data"
    }
   ],
   "source": [
    "sns.displot(data_price_outliers[\"price\"])"
   ]
  },
  {
   "cell_type": "markdown",
   "id": "14a7a0df-95ad-4a90-b570-f58aae90d47f",
   "metadata": {},
   "source": [
    "##### Get rid of the beds outliers base on IQR again."
   ]
  },
  {
   "cell_type": "code",
   "execution_count": 337,
   "id": "ffc6bc12-7a6f-46d9-9a0b-0fb20d212781",
   "metadata": {},
   "outputs": [],
   "source": [
    "q1 = data_price_outliers[\"beds\"].quantile(0.25)\n",
    "q3 = data_price_outliers[\"beds\"].quantile(0.75)\n",
    "iqr = q3 - q1\n",
    "outlier_beds_upper = q3 + 1.5 * iqr\n",
    "outlier_beds_lower = q1 - 1.5 * iqr"
   ]
  },
  {
   "cell_type": "code",
   "execution_count": 338,
   "id": "dc3f749b-ecb8-4adf-9230-f0ef147f15b7",
   "metadata": {},
   "outputs": [],
   "source": [
    "data_beds_outliers = data_price_outliers[data_price_outliers[\"beds\"].between(outlier_beds_lower, outlier_beds_upper)]"
   ]
  },
  {
   "cell_type": "code",
   "execution_count": 339,
   "id": "d28968bc-55ce-4fcf-9306-af88b61721b9",
   "metadata": {},
   "outputs": [
    {
     "data": {
      "text/plain": [
       "<seaborn.axisgrid.FacetGrid at 0x26fde1aeb20>"
      ]
     },
     "execution_count": 339,
     "metadata": {},
     "output_type": "execute_result"
    },
    {
     "data": {
      "image/png": "[encoded data removed]",
      "text/plain": [
       "<Figure size 500x500 with 1 Axes>"
      ]
     },
     "metadata": {},
     "output_type": "display_data"
    }
   ],
   "source": [
    "sns.displot(data_beds_outliers[\"beds\"])"
   ]
  },
  {
   "cell_type": "code",
   "execution_count": 340,
   "id": "029ad315-13bc-48b5-af45-dc4cf0e3a003",
   "metadata": {},
   "outputs": [
    {
     "data": {
      "text/plain": [
       "<seaborn.axisgrid.FacetGrid at 0x26fe18015e0>"
      ]
     },
     "execution_count": 340,
     "metadata": {},
     "output_type": "execute_result"
    },
    {
     "data": {
      "image/png": "[encoded data removed]",
      "text/plain": [
       "<Figure size 500x500 with 1 Axes>"
      ]
     },
     "metadata": {},
     "output_type": "display_data"
    }
   ],
   "source": [
    "sns.displot(data_beds_outliers[\"baths\"])"
   ]
  },
  {
   "cell_type": "markdown",
   "id": "0f5ce098-0b81-4b6b-8cdb-0a9f7f763ed8",
   "metadata": {},
   "source": [
    "##### Get rid of baths outliers based on IQR again."
   ]
  },
  {
   "cell_type": "code",
   "execution_count": 341,
   "id": "1404cc6e-a3fb-4776-aae8-942205fb45bc",
   "metadata": {},
   "outputs": [],
   "source": [
    "q1 = data_beds_outliers[\"baths\"].quantile(0.25)\n",
    "q3 = data_beds_outliers[\"baths\"].quantile(0.75)\n",
    "iqr = q3 - q1\n",
    "outlier_baths_upper = q3 + 1.5 * iqr\n",
    "outlier_baths_lower = q1 - 1.5 * iqr"
   ]
  },
  {
   "cell_type": "code",
   "execution_count": 342,
   "id": "c754b076-20fa-414d-863c-6e6de5e82a8a",
   "metadata": {},
   "outputs": [],
   "source": [
    "data_baths_outliers = data_beds_outliers[data_beds_outliers[\"baths\"].between(outlier_baths_lower, outlier_baths_upper)]"
   ]
  },
  {
   "cell_type": "code",
   "execution_count": 343,
   "id": "00490c32-306a-4723-8283-ef7d07f33790",
   "metadata": {},
   "outputs": [
    {
     "data": {
      "text/plain": [
       "<seaborn.axisgrid.FacetGrid at 0x26fe18d1070>"
      ]
     },
     "execution_count": 343,
     "metadata": {},
     "output_type": "execute_result"
    },
    {
     "data": {
      "image/png": "[encoded data removed]",
      "text/plain": [
       "<Figure size 500x500 with 1 Axes>"
      ]
     },
     "metadata": {},
     "output_type": "display_data"
    }
   ],
   "source": [
    "sns.displot(data_baths_outliers[\"baths\"])"
   ]
  },
  {
   "cell_type": "code",
   "execution_count": 344,
   "id": "08960cee-bd81-4be1-888b-7ace6791a42b",
   "metadata": {},
   "outputs": [
    {
     "data": {
      "text/plain": [
       "<seaborn.axisgrid.FacetGrid at 0x26fe1a12670>"
      ]
     },
     "execution_count": 344,
     "metadata": {},
     "output_type": "execute_result"
    },
    {
     "data": {
      "image/png": "[encoded data removed]",
      "text/plain": [
       "<Figure size 500x500 with 1 Axes>"
      ]
     },
     "metadata": {},
     "output_type": "display_data"
    }
   ],
   "source": [
    "sns.displot(data_baths_outliers[\"size_in_sqft\"])"
   ]
  },
  {
   "cell_type": "code",
   "execution_count": 345,
   "id": "521cf356-0144-4fa4-97e9-ddbf68ee2a86",
   "metadata": {},
   "outputs": [
    {
     "data": {
      "text/plain": [
       "3549.5200000000004"
      ]
     },
     "execution_count": 345,
     "metadata": {},
     "output_type": "execute_result"
    }
   ],
   "source": [
    "q = data_baths_outliers[\"size_in_sqft\"].quantile(0.99)\n",
    "q"
   ]
  },
  {
   "cell_type": "code",
   "execution_count": 346,
   "id": "d7220eb7-7a31-449b-8634-9ae1fa460278",
   "metadata": {},
   "outputs": [
    {
     "name": "stdout",
     "output_type": "stream",
     "text": [
      "-304.0 3780.0\n"
     ]
    }
   ],
   "source": [
    "q1 = data_baths_outliers[\"size_in_sqft\"].quantile(0.25)\n",
    "q3 = data_baths_outliers[\"size_in_sqft\"].quantile(0.75)\n",
    "iqr = q3 - q1\n",
    "outlier_size_upper = q3 + 1.5 * iqr\n",
    "outlier_size_lower = q1 - 1.5 * iqr\n",
    "print(outlier_size_lower, outlier_size_upper)"
   ]
  },
  {
   "cell_type": "code",
   "execution_count": 347,
   "id": "3dfbcb83-4f63-46fd-bc18-6442f7ddc6d2",
   "metadata": {},
   "outputs": [],
   "source": [
    "data_size_in_sqt_outliers = data_baths_outliers[data_baths_outliers[\"size_in_sqft\"].between(outlier_size_lower, outlier_size_upper)]"
   ]
  },
  {
   "cell_type": "code",
   "execution_count": 348,
   "id": "325efa17-6f68-4e00-b20b-a7f40572212e",
   "metadata": {},
   "outputs": [
    {
     "data": {
      "text/plain": [
       "<seaborn.axisgrid.FacetGrid at 0x26fe2aba760>"
      ]
     },
     "execution_count": 348,
     "metadata": {},
     "output_type": "execute_result"
    },
    {
     "data": {
      "image/png": "[encoded data removed]",
      "text/plain": [
       "<Figure size 500x500 with 1 Axes>"
      ]
     },
     "metadata": {},
     "output_type": "display_data"
    }
   ],
   "source": [
    "sns.displot(data_size_in_sqt_outliers[\"size_in_sqft\"])"
   ]
  },
  {
   "cell_type": "code",
   "execution_count": 349,
   "id": "c0b0ddf8-13d4-46e1-b566-fac3f927e3dc",
   "metadata": {},
   "outputs": [
    {
     "data": {
      "text/plain": [
       "count    1.894000e+03\n",
       "mean     1.769926e+04\n",
       "std      2.705523e+05\n",
       "min      5.000000e+02\n",
       "25%      2.600000e+03\n",
       "50%      5.000000e+03\n",
       "75%      7.235500e+03\n",
       "max      1.089000e+07\n",
       "Name: lot_size_in_sqft, dtype: float64"
      ]
     },
     "execution_count": 349,
     "metadata": {},
     "output_type": "execute_result"
    }
   ],
   "source": [
    "data_size_in_sqt_outliers[\"lot_size_in_sqft\"].describe()"
   ]
  },
  {
   "cell_type": "code",
   "execution_count": 350,
   "id": "7ef11c3d-ef5b-4046-8f35-2b47f6f57bcb",
   "metadata": {},
   "outputs": [],
   "source": [
    "q1 = data_size_in_sqt_outliers[\"lot_size_in_sqft\"].quantile(0.25)\n",
    "q3 = data_size_in_sqt_outliers[\"lot_size_in_sqft\"].quantile(0.75)\n",
    "iqr = q3 - q1\n",
    "outlier_lot_size_upper = q3 + 1.5 * iqr\n",
    "outlier_lot_size_lower = q1 - 1.5 * iqr"
   ]
  },
  {
   "cell_type": "code",
   "execution_count": 351,
   "id": "215f3925-017d-4d78-ae46-3a1fe5100224",
   "metadata": {},
   "outputs": [],
   "source": [
    "data_prepro = data_size_in_sqt_outliers[data_size_in_sqt_outliers[\"lot_size_in_sqft\"].between(outlier_lot_size_lower, outlier_lot_size_upper)]"
   ]
  },
  {
   "cell_type": "code",
   "execution_count": 352,
   "id": "05077b42-202d-4ad0-80fd-70e82d490c8a",
   "metadata": {},
   "outputs": [
    {
     "name": "stdout",
     "output_type": "stream",
     "text": [
      "<class 'pandas.core.frame.DataFrame'>\n",
      "Index: 1732 entries, 0 to 2520\n",
      "Data columns (total 6 columns):\n",
      " #   Column             Non-Null Count  Dtype  \n",
      "---  ------             --------------  -----  \n",
      " 0   beds               1732 non-null   int64  \n",
      " 1   baths              1732 non-null   float64\n",
      " 2   size_in_sqft       1732 non-null   float64\n",
      " 3   price              1732 non-null   float64\n",
      " 4   zip_code_category  1732 non-null   object \n",
      " 5   lot_size_in_sqft   1732 non-null   float64\n",
      "dtypes: float64(4), int64(1), object(1)\n",
      "memory usage: 94.7+ KB\n"
     ]
    }
   ],
   "source": [
    "data_prepro.info()"
   ]
  },
  {
   "cell_type": "code",
   "execution_count": 353,
   "id": "f4a1d032-b3d5-4707-8a5d-9bfe78c9c302",
   "metadata": {},
   "outputs": [],
   "source": [
    "data_clean = data_prepro.copy()"
   ]
  },
  {
   "cell_type": "code",
   "execution_count": 354,
   "id": "44e8a503-64ae-4ad9-b5c0-5b429edfbf99",
   "metadata": {},
   "outputs": [
    {
     "data": {
      "text/plain": [
       "<seaborn.axisgrid.FacetGrid at 0x26fe2b6ea60>"
      ]
     },
     "execution_count": 354,
     "metadata": {},
     "output_type": "execute_result"
    },
    {
     "data": {
      "image/png": "[encoded data removed]",
      "text/plain": [
       "<Figure size 500x500 with 1 Axes>"
      ]
     },
     "metadata": {},
     "output_type": "display_data"
    }
   ],
   "source": [
    "sns.displot(data_clean[\"lot_size_in_sqft\"])"
   ]
  },
  {
   "cell_type": "code",
   "execution_count": 355,
   "id": "f6b82b78-f478-4eb8-bd5d-c3ee625a4b42",
   "metadata": {},
   "outputs": [
    {
     "data": {
      "text/html": [
       "<div>\n",
       "<style scoped>\n",
       "    .dataframe tbody tr th:only-of-type {\n",
       "        vertical-align: middle;\n",
       "    }\n",
       "\n",
       "    .dataframe tbody tr th {\n",
       "        vertical-align: top;\n",
       "    }\n",
       "\n",
       "    .dataframe thead th {\n",
       "        text-align: right;\n",
       "    }\n",
       "</style>\n",
       "<table border=\"1\" class=\"dataframe\">\n",
       "  <thead>\n",
       "    <tr style=\"text-align: right;\">\n",
       "      <th></th>\n",
       "      <th>beds</th>\n",
       "      <th>baths</th>\n",
       "      <th>size_in_sqft</th>\n",
       "      <th>price</th>\n",
       "      <th>zip_code_category</th>\n",
       "      <th>lot_size_in_sqft</th>\n",
       "    </tr>\n",
       "  </thead>\n",
       "  <tbody>\n",
       "    <tr>\n",
       "      <th>count</th>\n",
       "      <td>1732.000000</td>\n",
       "      <td>1732.000000</td>\n",
       "      <td>1732.000000</td>\n",
       "      <td>1.732000e+03</td>\n",
       "      <td>1732</td>\n",
       "      <td>1732.000000</td>\n",
       "    </tr>\n",
       "    <tr>\n",
       "      <th>unique</th>\n",
       "      <td>NaN</td>\n",
       "      <td>NaN</td>\n",
       "      <td>NaN</td>\n",
       "      <td>NaN</td>\n",
       "      <td>4</td>\n",
       "      <td>NaN</td>\n",
       "    </tr>\n",
       "    <tr>\n",
       "      <th>top</th>\n",
       "      <td>NaN</td>\n",
       "      <td>NaN</td>\n",
       "      <td>NaN</td>\n",
       "      <td>NaN</td>\n",
       "      <td>middle lower</td>\n",
       "      <td>NaN</td>\n",
       "    </tr>\n",
       "    <tr>\n",
       "      <th>freq</th>\n",
       "      <td>NaN</td>\n",
       "      <td>NaN</td>\n",
       "      <td>NaN</td>\n",
       "      <td>NaN</td>\n",
       "      <td>760</td>\n",
       "      <td>NaN</td>\n",
       "    </tr>\n",
       "    <tr>\n",
       "      <th>mean</th>\n",
       "      <td>3.064665</td>\n",
       "      <td>2.155889</td>\n",
       "      <td>1786.006351</td>\n",
       "      <td>9.143575e+05</td>\n",
       "      <td>NaN</td>\n",
       "      <td>4749.304273</td>\n",
       "    </tr>\n",
       "    <tr>\n",
       "      <th>std</th>\n",
       "      <td>0.947726</td>\n",
       "      <td>0.771537</td>\n",
       "      <td>662.410405</td>\n",
       "      <td>3.297815e+05</td>\n",
       "      <td>NaN</td>\n",
       "      <td>2868.364768</td>\n",
       "    </tr>\n",
       "    <tr>\n",
       "      <th>min</th>\n",
       "      <td>1.000000</td>\n",
       "      <td>0.500000</td>\n",
       "      <td>376.000000</td>\n",
       "      <td>1.594880e+05</td>\n",
       "      <td>NaN</td>\n",
       "      <td>500.000000</td>\n",
       "    </tr>\n",
       "    <tr>\n",
       "      <th>25%</th>\n",
       "      <td>2.000000</td>\n",
       "      <td>1.500000</td>\n",
       "      <td>1290.000000</td>\n",
       "      <td>6.900000e+05</td>\n",
       "      <td>NaN</td>\n",
       "      <td>2280.000000</td>\n",
       "    </tr>\n",
       "    <tr>\n",
       "      <th>50%</th>\n",
       "      <td>3.000000</td>\n",
       "      <td>2.000000</td>\n",
       "      <td>1700.000000</td>\n",
       "      <td>8.500000e+05</td>\n",
       "      <td>NaN</td>\n",
       "      <td>4800.000000</td>\n",
       "    </tr>\n",
       "    <tr>\n",
       "      <th>75%</th>\n",
       "      <td>4.000000</td>\n",
       "      <td>2.500000</td>\n",
       "      <td>2262.500000</td>\n",
       "      <td>1.095000e+06</td>\n",
       "      <td>NaN</td>\n",
       "      <td>6348.500000</td>\n",
       "    </tr>\n",
       "    <tr>\n",
       "      <th>max</th>\n",
       "      <td>7.000000</td>\n",
       "      <td>4.000000</td>\n",
       "      <td>3780.000000</td>\n",
       "      <td>1.900000e+06</td>\n",
       "      <td>NaN</td>\n",
       "      <td>13939.200000</td>\n",
       "    </tr>\n",
       "  </tbody>\n",
       "</table>\n",
       "</div>"
      ],
      "text/plain": [
       "               beds        baths  size_in_sqft         price  \\\n",
       "count   1732.000000  1732.000000   1732.000000  1.732000e+03   \n",
       "unique          NaN          NaN           NaN           NaN   \n",
       "top             NaN          NaN           NaN           NaN   \n",
       "freq            NaN          NaN           NaN           NaN   \n",
       "mean       3.064665     2.155889   1786.006351  9.143575e+05   \n",
       "std        0.947726     0.771537    662.410405  3.297815e+05   \n",
       "min        1.000000     0.500000    376.000000  1.594880e+05   \n",
       "25%        2.000000     1.500000   1290.000000  6.900000e+05   \n",
       "50%        3.000000     2.000000   1700.000000  8.500000e+05   \n",
       "75%        4.000000     2.500000   2262.500000  1.095000e+06   \n",
       "max        7.000000     4.000000   3780.000000  1.900000e+06   \n",
       "\n",
       "       zip_code_category  lot_size_in_sqft  \n",
       "count               1732       1732.000000  \n",
       "unique                 4               NaN  \n",
       "top         middle lower               NaN  \n",
       "freq                 760               NaN  \n",
       "mean                 NaN       4749.304273  \n",
       "std                  NaN       2868.364768  \n",
       "min                  NaN        500.000000  \n",
       "25%                  NaN       2280.000000  \n",
       "50%                  NaN       4800.000000  \n",
       "75%                  NaN       6348.500000  \n",
       "max                  NaN      13939.200000  "
      ]
     },
     "execution_count": 355,
     "metadata": {},
     "output_type": "execute_result"
    }
   ],
   "source": [
    "data_clean.describe(include=\"all\")"
   ]
  },
  {
   "cell_type": "code",
   "execution_count": 356,
   "id": "b1d337f8-2faf-4e17-bdb8-bf280d39c6c7",
   "metadata": {},
   "outputs": [
    {
     "data": {
      "image/png": "[encoded data removed]",
      "text/plain": [
       "<Figure size 1500x300 with 5 Axes>"
      ]
     },
     "metadata": {},
     "output_type": "display_data"
    }
   ],
   "source": [
    "f, (ax1, ax2, ax3, ax4, ax5) = plt.subplots(1, 5, sharey=True, figsize =(15,3))\n",
    "ax1.scatter(data_clean[\"beds\"],data_clean[\"price\"])\n",
    "ax1.set_title(\"price and beds\")\n",
    "ax2.scatter(data_clean[\"baths\"],data_clean[\"price\"])\n",
    "ax2.set_title(\"price and baths\")\n",
    "ax3.scatter(data_clean[\"size_in_sqft\"],data_clean[\"price\"])\n",
    "ax3.set_title(\"price and size in sqft\")\n",
    "ax4.scatter(data_clean[\"lot_size_in_sqft\"],data_clean[\"price\"])\n",
    "ax4.set_title(\"price and lot size in sqft\")\n",
    "ax5.scatter(data_clean[\"zip_code_category\"],data_clean[\"price\"])\n",
    "ax5.set_title(\"price and zip categorized\")\n",
    "plt.show()"
   ]
  },
  {
   "cell_type": "markdown",
   "id": "f0827ac2-cec7-46c9-bf71-ccbf72e76ed3",
   "metadata": {},
   "source": [
    "#### Since variable \"lot size in sqft\" seems to have no impact on the price, I will drop it."
   ]
  },
  {
   "cell_type": "code",
   "execution_count": 357,
   "id": "327ca731-cc96-45b8-a0fa-7c318db1d9ab",
   "metadata": {},
   "outputs": [],
   "source": [
    "data_clean.drop(columns=[\"lot_size_in_sqft\"], inplace=True, axis = 1)"
   ]
  },
  {
   "cell_type": "code",
   "execution_count": 358,
   "id": "99859751-98a4-4d7a-a7d4-c9e3078bcd2d",
   "metadata": {},
   "outputs": [],
   "source": [
    "data_clean.reset_index(drop=True, inplace=True)"
   ]
  },
  {
   "cell_type": "code",
   "execution_count": 359,
   "id": "a90aab85-809c-4470-b9d0-cd61cf81606f",
   "metadata": {},
   "outputs": [
    {
     "data": {
      "text/html": [
       "<div>\n",
       "<style scoped>\n",
       "    .dataframe tbody tr th:only-of-type {\n",
       "        vertical-align: middle;\n",
       "    }\n",
       "\n",
       "    .dataframe tbody tr th {\n",
       "        vertical-align: top;\n",
       "    }\n",
       "\n",
       "    .dataframe thead th {\n",
       "        text-align: right;\n",
       "    }\n",
       "</style>\n",
       "<table border=\"1\" class=\"dataframe\">\n",
       "  <thead>\n",
       "    <tr style=\"text-align: right;\">\n",
       "      <th></th>\n",
       "      <th>VIF</th>\n",
       "      <th>features</th>\n",
       "    </tr>\n",
       "  </thead>\n",
       "  <tbody>\n",
       "    <tr>\n",
       "      <th>0</th>\n",
       "      <td>9.173822</td>\n",
       "      <td>baths</td>\n",
       "    </tr>\n",
       "    <tr>\n",
       "      <th>1</th>\n",
       "      <td>9.173822</td>\n",
       "      <td>size_in_sqft</td>\n",
       "    </tr>\n",
       "  </tbody>\n",
       "</table>\n",
       "</div>"
      ],
      "text/plain": [
       "        VIF      features\n",
       "0  9.173822         baths\n",
       "1  9.173822  size_in_sqft"
      ]
     },
     "execution_count": 359,
     "metadata": {},
     "output_type": "execute_result"
    }
   ],
   "source": [
    "from statsmodels.stats.outliers_influence import variance_inflation_factor\n",
    "variables = data_clean[['baths','size_in_sqft']]\n",
    "vif = pd.DataFrame()\n",
    "vif[\"VIF\"] = [variance_inflation_factor(variables.values, i) for i in range(variables.shape[1])]\n",
    "vif[\"features\"] = variables.columns\n",
    "vif"
   ]
  },
  {
   "cell_type": "markdown",
   "id": "197cd791-532e-4a26-a6ca-1b6caabe401f",
   "metadata": {},
   "source": [
    "### Since the beds are giving higher VIFs, lets drop them. Until 10, it is kind of acceptable."
   ]
  },
  {
   "cell_type": "code",
   "execution_count": 360,
   "id": "4c693f96-c43e-44ae-92c7-f7eac3c33753",
   "metadata": {},
   "outputs": [],
   "source": [
    "data_clean.drop(columns=[\"beds\"], inplace=True)"
   ]
  },
  {
   "cell_type": "code",
   "execution_count": 361,
   "id": "ef44f98a-cae7-4dc4-b939-e14bed1f67eb",
   "metadata": {},
   "outputs": [
    {
     "data": {
      "text/html": [
       "<div>\n",
       "<style scoped>\n",
       "    .dataframe tbody tr th:only-of-type {\n",
       "        vertical-align: middle;\n",
       "    }\n",
       "\n",
       "    .dataframe tbody tr th {\n",
       "        vertical-align: top;\n",
       "    }\n",
       "\n",
       "    .dataframe thead th {\n",
       "        text-align: right;\n",
       "    }\n",
       "</style>\n",
       "<table border=\"1\" class=\"dataframe\">\n",
       "  <thead>\n",
       "    <tr style=\"text-align: right;\">\n",
       "      <th></th>\n",
       "      <th>baths</th>\n",
       "      <th>size_in_sqft</th>\n",
       "      <th>price</th>\n",
       "      <th>zip_code_category_lower</th>\n",
       "      <th>zip_code_category_middle lower</th>\n",
       "      <th>zip_code_category_middle upper</th>\n",
       "    </tr>\n",
       "  </thead>\n",
       "  <tbody>\n",
       "    <tr>\n",
       "      <th>0</th>\n",
       "      <td>2</td>\n",
       "      <td>2590</td>\n",
       "      <td>795000</td>\n",
       "      <td>0</td>\n",
       "      <td>1</td>\n",
       "      <td>0</td>\n",
       "    </tr>\n",
       "    <tr>\n",
       "      <th>1</th>\n",
       "      <td>2</td>\n",
       "      <td>2240</td>\n",
       "      <td>915000</td>\n",
       "      <td>0</td>\n",
       "      <td>1</td>\n",
       "      <td>0</td>\n",
       "    </tr>\n",
       "    <tr>\n",
       "      <th>2</th>\n",
       "      <td>3</td>\n",
       "      <td>2040</td>\n",
       "      <td>950000</td>\n",
       "      <td>0</td>\n",
       "      <td>0</td>\n",
       "      <td>1</td>\n",
       "    </tr>\n",
       "    <tr>\n",
       "      <th>3</th>\n",
       "      <td>1</td>\n",
       "      <td>670</td>\n",
       "      <td>460000</td>\n",
       "      <td>0</td>\n",
       "      <td>1</td>\n",
       "      <td>0</td>\n",
       "    </tr>\n",
       "    <tr>\n",
       "      <th>4</th>\n",
       "      <td>2</td>\n",
       "      <td>1520</td>\n",
       "      <td>565000</td>\n",
       "      <td>0</td>\n",
       "      <td>1</td>\n",
       "      <td>0</td>\n",
       "    </tr>\n",
       "    <tr>\n",
       "      <th>...</th>\n",
       "      <td>...</td>\n",
       "      <td>...</td>\n",
       "      <td>...</td>\n",
       "      <td>...</td>\n",
       "      <td>...</td>\n",
       "      <td>...</td>\n",
       "    </tr>\n",
       "    <tr>\n",
       "      <th>1727</th>\n",
       "      <td>2</td>\n",
       "      <td>2275</td>\n",
       "      <td>1528000</td>\n",
       "      <td>0</td>\n",
       "      <td>1</td>\n",
       "      <td>0</td>\n",
       "    </tr>\n",
       "    <tr>\n",
       "      <th>1728</th>\n",
       "      <td>2</td>\n",
       "      <td>1250</td>\n",
       "      <td>770000</td>\n",
       "      <td>0</td>\n",
       "      <td>0</td>\n",
       "      <td>1</td>\n",
       "    </tr>\n",
       "    <tr>\n",
       "      <th>1729</th>\n",
       "      <td>1</td>\n",
       "      <td>1088</td>\n",
       "      <td>628000</td>\n",
       "      <td>0</td>\n",
       "      <td>0</td>\n",
       "      <td>0</td>\n",
       "    </tr>\n",
       "    <tr>\n",
       "      <th>1730</th>\n",
       "      <td>2</td>\n",
       "      <td>1390</td>\n",
       "      <td>575000</td>\n",
       "      <td>0</td>\n",
       "      <td>1</td>\n",
       "      <td>0</td>\n",
       "    </tr>\n",
       "    <tr>\n",
       "      <th>1731</th>\n",
       "      <td>2</td>\n",
       "      <td>1301</td>\n",
       "      <td>895000</td>\n",
       "      <td>0</td>\n",
       "      <td>0</td>\n",
       "      <td>1</td>\n",
       "    </tr>\n",
       "  </tbody>\n",
       "</table>\n",
       "<p>1732 rows × 6 columns</p>\n",
       "</div>"
      ],
      "text/plain": [
       "      baths  size_in_sqft    price  zip_code_category_lower  \\\n",
       "0         2          2590   795000                        0   \n",
       "1         2          2240   915000                        0   \n",
       "2         3          2040   950000                        0   \n",
       "3         1           670   460000                        0   \n",
       "4         2          1520   565000                        0   \n",
       "...     ...           ...      ...                      ...   \n",
       "1727      2          2275  1528000                        0   \n",
       "1728      2          1250   770000                        0   \n",
       "1729      1          1088   628000                        0   \n",
       "1730      2          1390   575000                        0   \n",
       "1731      2          1301   895000                        0   \n",
       "\n",
       "      zip_code_category_middle lower  zip_code_category_middle upper  \n",
       "0                                  1                               0  \n",
       "1                                  1                               0  \n",
       "2                                  0                               1  \n",
       "3                                  1                               0  \n",
       "4                                  1                               0  \n",
       "...                              ...                             ...  \n",
       "1727                               1                               0  \n",
       "1728                               0                               1  \n",
       "1729                               0                               0  \n",
       "1730                               1                               0  \n",
       "1731                               0                               1  \n",
       "\n",
       "[1732 rows x 6 columns]"
      ]
     },
     "execution_count": 361,
     "metadata": {},
     "output_type": "execute_result"
    }
   ],
   "source": [
    "pd.get_dummies(data_clean, drop_first=True).astype(int)"
   ]
  },
  {
   "cell_type": "markdown",
   "id": "bd167791-efd6-4f9e-ae83-5050c382eedd",
   "metadata": {},
   "source": [
    "### Do the linear regression basics and checkt the relevance of the variables"
   ]
  },
  {
   "cell_type": "code",
   "execution_count": 362,
   "id": "8b9b4c80-3964-4f3c-ba3b-b5facff6e42a",
   "metadata": {},
   "outputs": [
    {
     "ename": "KeyError",
     "evalue": "\"['beds'] not in index\"",
     "output_type": "error",
     "traceback": [
      "\u001b[1;31m---------------------------------------------------------------------------\u001b[0m",
      "\u001b[1;31mKeyError\u001b[0m                                  Traceback (most recent call last)",
      "Cell \u001b[1;32mIn[362], line 1\u001b[0m\n\u001b[1;32m----> 1\u001b[0m x \u001b[38;5;241m=\u001b[39m \u001b[43mdata_clean\u001b[49m\u001b[43m[\u001b[49m\u001b[43m[\u001b[49m\u001b[38;5;124;43m\"\u001b[39;49m\u001b[38;5;124;43mbeds\u001b[39;49m\u001b[38;5;124;43m\"\u001b[39;49m\u001b[43m,\u001b[49m\u001b[43m \u001b[49m\u001b[38;5;124;43m\"\u001b[39;49m\u001b[38;5;124;43mbaths\u001b[39;49m\u001b[38;5;124;43m\"\u001b[39;49m\u001b[43m,\u001b[49m\u001b[38;5;124;43m\"\u001b[39;49m\u001b[38;5;124;43msize_in_sqft\u001b[39;49m\u001b[38;5;124;43m\"\u001b[39;49m\u001b[43m]\u001b[49m\u001b[43m]\u001b[49m\n\u001b[0;32m      2\u001b[0m y \u001b[38;5;241m=\u001b[39m data_clean[\u001b[38;5;124m\"\u001b[39m\u001b[38;5;124mprice\u001b[39m\u001b[38;5;124m\"\u001b[39m]\n",
      "File \u001b[1;32m~\\Desktop\\python\\Python-Portable-3.9.6\\apps\\lib\\site-packages\\pandas\\core\\frame.py:4096\u001b[0m, in \u001b[0;36mDataFrame.__getitem__\u001b[1;34m(self, key)\u001b[0m\n\u001b[0;32m   4094\u001b[0m     \u001b[38;5;28;01mif\u001b[39;00m is_iterator(key):\n\u001b[0;32m   4095\u001b[0m         key \u001b[38;5;241m=\u001b[39m \u001b[38;5;28mlist\u001b[39m(key)\n\u001b[1;32m-> 4096\u001b[0m     indexer \u001b[38;5;241m=\u001b[39m \u001b[38;5;28;43mself\u001b[39;49m\u001b[38;5;241;43m.\u001b[39;49m\u001b[43mcolumns\u001b[49m\u001b[38;5;241;43m.\u001b[39;49m\u001b[43m_get_indexer_strict\u001b[49m\u001b[43m(\u001b[49m\u001b[43mkey\u001b[49m\u001b[43m,\u001b[49m\u001b[43m \u001b[49m\u001b[38;5;124;43m\"\u001b[39;49m\u001b[38;5;124;43mcolumns\u001b[39;49m\u001b[38;5;124;43m\"\u001b[39;49m\u001b[43m)\u001b[49m[\u001b[38;5;241m1\u001b[39m]\n\u001b[0;32m   4098\u001b[0m \u001b[38;5;66;03m# take() does not accept boolean indexers\u001b[39;00m\n\u001b[0;32m   4099\u001b[0m \u001b[38;5;28;01mif\u001b[39;00m \u001b[38;5;28mgetattr\u001b[39m(indexer, \u001b[38;5;124m\"\u001b[39m\u001b[38;5;124mdtype\u001b[39m\u001b[38;5;124m\"\u001b[39m, \u001b[38;5;28;01mNone\u001b[39;00m) \u001b[38;5;241m==\u001b[39m \u001b[38;5;28mbool\u001b[39m:\n",
      "File \u001b[1;32m~\\Desktop\\python\\Python-Portable-3.9.6\\apps\\lib\\site-packages\\pandas\\core\\indexes\\base.py:6200\u001b[0m, in \u001b[0;36mIndex._get_indexer_strict\u001b[1;34m(self, key, axis_name)\u001b[0m\n\u001b[0;32m   6197\u001b[0m \u001b[38;5;28;01melse\u001b[39;00m:\n\u001b[0;32m   6198\u001b[0m     keyarr, indexer, new_indexer \u001b[38;5;241m=\u001b[39m \u001b[38;5;28mself\u001b[39m\u001b[38;5;241m.\u001b[39m_reindex_non_unique(keyarr)\n\u001b[1;32m-> 6200\u001b[0m \u001b[38;5;28;43mself\u001b[39;49m\u001b[38;5;241;43m.\u001b[39;49m\u001b[43m_raise_if_missing\u001b[49m\u001b[43m(\u001b[49m\u001b[43mkeyarr\u001b[49m\u001b[43m,\u001b[49m\u001b[43m \u001b[49m\u001b[43mindexer\u001b[49m\u001b[43m,\u001b[49m\u001b[43m \u001b[49m\u001b[43maxis_name\u001b[49m\u001b[43m)\u001b[49m\n\u001b[0;32m   6202\u001b[0m keyarr \u001b[38;5;241m=\u001b[39m \u001b[38;5;28mself\u001b[39m\u001b[38;5;241m.\u001b[39mtake(indexer)\n\u001b[0;32m   6203\u001b[0m \u001b[38;5;28;01mif\u001b[39;00m \u001b[38;5;28misinstance\u001b[39m(key, Index):\n\u001b[0;32m   6204\u001b[0m     \u001b[38;5;66;03m# GH 42790 - Preserve name from an Index\u001b[39;00m\n",
      "File \u001b[1;32m~\\Desktop\\python\\Python-Portable-3.9.6\\apps\\lib\\site-packages\\pandas\\core\\indexes\\base.py:6252\u001b[0m, in \u001b[0;36mIndex._raise_if_missing\u001b[1;34m(self, key, indexer, axis_name)\u001b[0m\n\u001b[0;32m   6249\u001b[0m     \u001b[38;5;28;01mraise\u001b[39;00m \u001b[38;5;167;01mKeyError\u001b[39;00m(\u001b[38;5;124mf\u001b[39m\u001b[38;5;124m\"\u001b[39m\u001b[38;5;124mNone of [\u001b[39m\u001b[38;5;132;01m{\u001b[39;00mkey\u001b[38;5;132;01m}\u001b[39;00m\u001b[38;5;124m] are in the [\u001b[39m\u001b[38;5;132;01m{\u001b[39;00maxis_name\u001b[38;5;132;01m}\u001b[39;00m\u001b[38;5;124m]\u001b[39m\u001b[38;5;124m\"\u001b[39m)\n\u001b[0;32m   6251\u001b[0m not_found \u001b[38;5;241m=\u001b[39m \u001b[38;5;28mlist\u001b[39m(ensure_index(key)[missing_mask\u001b[38;5;241m.\u001b[39mnonzero()[\u001b[38;5;241m0\u001b[39m]]\u001b[38;5;241m.\u001b[39munique())\n\u001b[1;32m-> 6252\u001b[0m \u001b[38;5;28;01mraise\u001b[39;00m \u001b[38;5;167;01mKeyError\u001b[39;00m(\u001b[38;5;124mf\u001b[39m\u001b[38;5;124m\"\u001b[39m\u001b[38;5;132;01m{\u001b[39;00mnot_found\u001b[38;5;132;01m}\u001b[39;00m\u001b[38;5;124m not in index\u001b[39m\u001b[38;5;124m\"\u001b[39m)\n",
      "\u001b[1;31mKeyError\u001b[0m: \"['beds'] not in index\""
     ]
    }
   ],
   "source": [
    "x = data_clean[[\"beds\", \"baths\",\"size_in_sqft\"]]\n",
    "y = data_clean[\"price\"]"
   ]
  },
  {
   "cell_type": "code",
   "execution_count": null,
   "id": "e9d9a2f4-c2bf-4af0-b9f1-5d93d10bbaf1",
   "metadata": {},
   "outputs": [],
   "source": [
    "reg = LinearRegression()"
   ]
  },
  {
   "cell_type": "code",
   "execution_count": null,
   "id": "4f5c128c-994c-45f0-8d58-0030654195b4",
   "metadata": {},
   "outputs": [],
   "source": [
    "reg.fit(x, y)"
   ]
  },
  {
   "cell_type": "code",
   "execution_count": null,
   "id": "ecff5618-59f8-42da-a82f-e495a74dc84c",
   "metadata": {},
   "outputs": [],
   "source": [
    "reg.score(x, y)"
   ]
  },
  {
   "cell_type": "code",
   "execution_count": null,
   "id": "076816a3-eaf1-4c0b-8c0a-d4d7d2e94f8f",
   "metadata": {},
   "outputs": [],
   "source": [
    "# Do feature selection with standardization, následně rozdělím data na testovací a trénovací a provedu standardizaci na trénovací a regresi na trénovací"
   ]
  },
  {
   "cell_type": "code",
   "execution_count": null,
   "id": "b82a02af-8524-493b-837a-ce97624653fd",
   "metadata": {},
   "outputs": [],
   "source": []
  }
 ],
 "metadata": {
  "kernelspec": {
   "display_name": "Python 3 (ipykernel)",
   "language": "python",
   "name": "python3"
  },
  "language_info": {
   "codemirror_mode": {
    "name": "ipython",
    "version": 3
   },
   "file_extension": ".py",
   "mimetype": "text/x-python",
   "name": "python",
   "nbconvert_exporter": "python",
   "pygments_lexer": "ipython3",
   "version": "3.9.6"
  }
 },
 "nbformat": 4,
 "nbformat_minor": 5
}
